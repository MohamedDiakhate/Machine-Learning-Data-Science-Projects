{
  "cells": [
    {
      "cell_type": "markdown",
      "metadata": {
        "id": "view-in-github",
        "colab_type": "text"
      },
      "source": [
        "<a href=\"https://colab.research.google.com/github/MohamedDiakhate/Machine-Learning-Data-Science-Projects/blob/main/Final_Project.ipynb\" target=\"_parent\"><img src=\"https://colab.research.google.com/assets/colab-badge.svg\" alt=\"Open In Colab\"/></a>"
      ]
    },
    {
      "cell_type": "markdown",
      "metadata": {
        "id": "2NtGOLMCXdoW"
      },
      "source": [
        "# Introduction"
      ]
    },
    {
      "cell_type": "markdown",
      "metadata": {
        "id": "uASY5sSS96t9"
      },
      "source": [
        "The primary goal of this analysis is to uncover the key factors that influence Airbnb pricing and demand across New York City, with the ultimate aim of predicting profitability and identifying high-potential, investment-worthy listings.\n",
        "\n",
        "To achieve this, we will explore the spatial distribution of listings, examining how location density correlates with price and availability. Additionally, we will enrich our analysis by integrating external datasets on weather conditions and crime rates, allowing us to assess how environmental and safety-related factors impact Airbnb performance. This multi-dimensional approach will be conducted using publicly available datasets from Airbnb, NYC complaint reports, and local weather data."
      ]
    },
    {
      "cell_type": "markdown",
      "metadata": {
        "id": "u5UbyyK7dEgw"
      },
      "source": [
        "# Imports"
      ]
    },
    {
      "cell_type": "code",
      "execution_count": null,
      "metadata": {
        "id": "y5n8Is9qdJhV"
      },
      "outputs": [],
      "source": [
        "import pandas as pd\n",
        "import matplotlib.pyplot as plt\n",
        "import seaborn as sns\n",
        "import folium\n",
        "from folium.plugins import HeatMap\n",
        "import plotly.express as px"
      ]
    },
    {
      "cell_type": "markdown",
      "metadata": {
        "id": "yiPPSzWaYotd"
      },
      "source": [
        "# Data Loading and Preprocessing\n",
        "\n",
        "\n"
      ]
    },
    {
      "cell_type": "markdown",
      "metadata": {
        "id": "7OOg2RcDXiO8"
      },
      "source": [
        "\n",
        "The data we will be using for this project is the **Airbnb Open Data** and is being downloaded from google.\n",
        "\n",
        "The following cells are responsible to download the data and make it accessible for our analysis.\n",
        "\n"
      ]
    },
    {
      "cell_type": "code",
      "execution_count": null,
      "metadata": {
        "id": "tA6oTIZtRjf7"
      },
      "outputs": [],
      "source": [
        "%%capture\n",
        "!apt update\n",
        "!pip install kaggle"
      ]
    },
    {
      "cell_type": "code",
      "execution_count": null,
      "metadata": {
        "colab": {
          "base_uri": "https://localhost:8080/"
        },
        "id": "RGz24WQ86ptM",
        "outputId": "4cd18531-29b0-4bb7-fcbf-0cebb92912ee"
      },
      "outputs": [
        {
          "output_type": "stream",
          "name": "stdout",
          "text": [
            "Drive already mounted at /content/drive; to attempt to forcibly remount, call drive.mount(\"/content/drive\", force_remount=True).\n"
          ]
        }
      ],
      "source": [
        "# Run this cell to mount your drive (you will be prompted to sign in)\n",
        "from google.colab import drive\n",
        "drive.mount('/content/drive')"
      ]
    },
    {
      "cell_type": "code",
      "execution_count": null,
      "metadata": {
        "colab": {
          "base_uri": "https://localhost:8080/"
        },
        "id": "R4taOIpPb6CN",
        "outputId": "376bcacf-6eca-4e38-8e87-a40d46e1b3f5"
      },
      "outputs": [
        {
          "output_type": "stream",
          "name": "stdout",
          "text": [
            "mkdir: cannot create directory ‘/root/.kaggle’: File exists\n"
          ]
        }
      ],
      "source": [
        "# Create the kaggle directory and\n",
        "# (NOTE: Do NOT run this cell more than once unless restarting kernel)\n",
        "!mkdir ~/.kaggle"
      ]
    },
    {
      "cell_type": "code",
      "execution_count": null,
      "metadata": {
        "id": "NI5HVD0fGY0I"
      },
      "outputs": [],
      "source": [
        "!cp /content/drive/MyDrive/kaggle.json ~/.kaggle/"
      ]
    },
    {
      "cell_type": "code",
      "execution_count": null,
      "metadata": {
        "colab": {
          "base_uri": "https://localhost:8080/"
        },
        "id": "krFCjQBzcdth",
        "outputId": "9a6e9029-2424-44dd-9d66-a7bfc31bac02"
      },
      "outputs": [
        {
          "output_type": "stream",
          "name": "stdout",
          "text": [
            "Dataset URL: https://www.kaggle.com/datasets/arianazmoudeh/airbnbopendata\n",
            "License(s): ODbL-1.0\n",
            "airbnbopendata.zip: Skipping, found more recently modified local copy (use --force to force download)\n",
            "Dataset URL: https://www.kaggle.com/datasets/alejopaullier/new-york-city-weather-data-2019\n",
            "License(s): CC0-1.0\n",
            "new-york-city-weather-data-2019.zip: Skipping, found more recently modified local copy (use --force to force download)\n",
            "Dataset URL: https://www.kaggle.com/datasets/mihalw28/nypd-complaint-data-current-ytd-july-2018\n",
            "License(s): unknown\n",
            "nypd-complaint-data-current-ytd-july-2018.zip: Skipping, found more recently modified local copy (use --force to force download)\n"
          ]
        }
      ],
      "source": [
        "# Download dataset\n",
        "!kaggle datasets download -d arianazmoudeh/airbnbopendata\n",
        "!kaggle datasets download -d alejopaullier/new-york-city-weather-data-2019\n",
        "!kaggle datasets download -d mihalw28/nypd-complaint-data-current-ytd-july-2018"
      ]
    },
    {
      "cell_type": "code",
      "execution_count": null,
      "metadata": {
        "colab": {
          "base_uri": "https://localhost:8080/"
        },
        "id": "y1e75jxBctPG",
        "outputId": "7ca07821-5423-48a5-9032-9416d95d0c43"
      },
      "outputs": [
        {
          "output_type": "stream",
          "name": "stdout",
          "text": [
            "Archive:  /content/airbnbopendata.zip\n",
            "replace Airbnb_Open_Data.csv? [y]es, [n]o, [A]ll, [N]one, [r]ename: Archive:  /content/new-york-city-weather-data-2019.zip\n",
            "replace nyc_temperature.csv? [y]es, [n]o, [A]ll, [N]one, [r]ename: Archive:  /content/nypd-complaint-data-current-ytd-july-2018.zip\n",
            "replace NYPDIncidentLevelDataFootnotes.pdf? [y]es, [n]o, [A]ll, [N]one, [r]ename: "
          ]
        }
      ],
      "source": [
        "# Unzip folder in Colab content folder\n",
        "!unzip /content/airbnbopendata.zip\n",
        "!unzip /content/new-york-city-weather-data-2019.zip\n",
        "!unzip /content/nypd-complaint-data-current-ytd-july-2018.zip"
      ]
    },
    {
      "cell_type": "markdown",
      "metadata": {
        "id": "A-3lQvJwjapg"
      },
      "source": [
        "## AirBnB Dataset"
      ]
    },
    {
      "cell_type": "markdown",
      "metadata": {
        "id": "RrnCJ0Zud8ce"
      },
      "source": [
        "### Read Data"
      ]
    },
    {
      "cell_type": "markdown",
      "metadata": {
        "id": "3h1KIKLJeBJG"
      },
      "source": [
        "The format that will be used in this project in this *csv* format. The data will be stored in a variable named AB_df"
      ]
    },
    {
      "cell_type": "code",
      "execution_count": null,
      "metadata": {
        "colab": {
          "base_uri": "https://localhost:8080/"
        },
        "id": "9XP6GLlpGgCH",
        "outputId": "dc93cb9d-5eef-456c-f5de-053a76921d12"
      },
      "outputs": [
        {
          "output_type": "stream",
          "name": "stderr",
          "text": [
            "<ipython-input-235-b55713c82463>:1: DtypeWarning:\n",
            "\n",
            "Columns (25) have mixed types. Specify dtype option on import or set low_memory=False.\n",
            "\n"
          ]
        }
      ],
      "source": [
        "AB_df = pd.read_csv('Airbnb_Open_Data.csv')"
      ]
    },
    {
      "cell_type": "code",
      "execution_count": null,
      "metadata": {
        "colab": {
          "base_uri": "https://localhost:8080/",
          "height": 533
        },
        "id": "nnU97GI2eZ4x",
        "outputId": "cdfcb12e-2e06-4b57-a0cd-058012d5b654"
      },
      "outputs": [
        {
          "output_type": "execute_result",
          "data": {
            "text/plain": [
              "        id                                              NAME      host id  \\\n",
              "0  1001254                Clean & quiet apt home by the park  80014485718   \n",
              "1  1002102                             Skylit Midtown Castle  52335172823   \n",
              "2  1002403               THE VILLAGE OF HARLEM....NEW YORK !  78829239556   \n",
              "3  1002755                                               NaN  85098326012   \n",
              "4  1003689  Entire Apt: Spacious Studio/Loft by central park  92037596077   \n",
              "\n",
              "  host_identity_verified host name neighbourhood group neighbourhood  \\\n",
              "0            unconfirmed  Madaline            Brooklyn    Kensington   \n",
              "1               verified     Jenna           Manhattan       Midtown   \n",
              "2                    NaN     Elise           Manhattan        Harlem   \n",
              "3            unconfirmed     Garry            Brooklyn  Clinton Hill   \n",
              "4               verified    Lyndon           Manhattan   East Harlem   \n",
              "\n",
              "        lat      long        country  ... service fee minimum nights  \\\n",
              "0  40.64749 -73.97237  United States  ...       $193            10.0   \n",
              "1  40.75362 -73.98377  United States  ...        $28            30.0   \n",
              "2  40.80902 -73.94190  United States  ...       $124             3.0   \n",
              "3  40.68514 -73.95976  United States  ...        $74            30.0   \n",
              "4  40.79851 -73.94399  United States  ...        $41            10.0   \n",
              "\n",
              "  number of reviews last review  reviews per month review rate number  \\\n",
              "0               9.0  10/19/2021               0.21                4.0   \n",
              "1              45.0   5/21/2022               0.38                4.0   \n",
              "2               0.0         NaN                NaN                5.0   \n",
              "3             270.0    7/5/2019               4.64                4.0   \n",
              "4               9.0  11/19/2018               0.10                3.0   \n",
              "\n",
              "  calculated host listings count  availability 365  \\\n",
              "0                            6.0             286.0   \n",
              "1                            2.0             228.0   \n",
              "2                            1.0             352.0   \n",
              "3                            1.0             322.0   \n",
              "4                            1.0             289.0   \n",
              "\n",
              "                                         house_rules license  \n",
              "0  Clean up and treat the home the way you'd like...     NaN  \n",
              "1  Pet friendly but please confirm with me if the...     NaN  \n",
              "2  I encourage you to use my kitchen, cooking and...     NaN  \n",
              "3                                                NaN     NaN  \n",
              "4  Please no smoking in the house, porch or on th...     NaN  \n",
              "\n",
              "[5 rows x 26 columns]"
            ],
            "text/html": [
              "\n",
              "  <div id=\"df-f541ec70-136e-4d44-b9e2-6e9fea4c2367\" class=\"colab-df-container\">\n",
              "    <div>\n",
              "<style scoped>\n",
              "    .dataframe tbody tr th:only-of-type {\n",
              "        vertical-align: middle;\n",
              "    }\n",
              "\n",
              "    .dataframe tbody tr th {\n",
              "        vertical-align: top;\n",
              "    }\n",
              "\n",
              "    .dataframe thead th {\n",
              "        text-align: right;\n",
              "    }\n",
              "</style>\n",
              "<table border=\"1\" class=\"dataframe\">\n",
              "  <thead>\n",
              "    <tr style=\"text-align: right;\">\n",
              "      <th></th>\n",
              "      <th>id</th>\n",
              "      <th>NAME</th>\n",
              "      <th>host id</th>\n",
              "      <th>host_identity_verified</th>\n",
              "      <th>host name</th>\n",
              "      <th>neighbourhood group</th>\n",
              "      <th>neighbourhood</th>\n",
              "      <th>lat</th>\n",
              "      <th>long</th>\n",
              "      <th>country</th>\n",
              "      <th>...</th>\n",
              "      <th>service fee</th>\n",
              "      <th>minimum nights</th>\n",
              "      <th>number of reviews</th>\n",
              "      <th>last review</th>\n",
              "      <th>reviews per month</th>\n",
              "      <th>review rate number</th>\n",
              "      <th>calculated host listings count</th>\n",
              "      <th>availability 365</th>\n",
              "      <th>house_rules</th>\n",
              "      <th>license</th>\n",
              "    </tr>\n",
              "  </thead>\n",
              "  <tbody>\n",
              "    <tr>\n",
              "      <th>0</th>\n",
              "      <td>1001254</td>\n",
              "      <td>Clean &amp; quiet apt home by the park</td>\n",
              "      <td>80014485718</td>\n",
              "      <td>unconfirmed</td>\n",
              "      <td>Madaline</td>\n",
              "      <td>Brooklyn</td>\n",
              "      <td>Kensington</td>\n",
              "      <td>40.64749</td>\n",
              "      <td>-73.97237</td>\n",
              "      <td>United States</td>\n",
              "      <td>...</td>\n",
              "      <td>$193</td>\n",
              "      <td>10.0</td>\n",
              "      <td>9.0</td>\n",
              "      <td>10/19/2021</td>\n",
              "      <td>0.21</td>\n",
              "      <td>4.0</td>\n",
              "      <td>6.0</td>\n",
              "      <td>286.0</td>\n",
              "      <td>Clean up and treat the home the way you'd like...</td>\n",
              "      <td>NaN</td>\n",
              "    </tr>\n",
              "    <tr>\n",
              "      <th>1</th>\n",
              "      <td>1002102</td>\n",
              "      <td>Skylit Midtown Castle</td>\n",
              "      <td>52335172823</td>\n",
              "      <td>verified</td>\n",
              "      <td>Jenna</td>\n",
              "      <td>Manhattan</td>\n",
              "      <td>Midtown</td>\n",
              "      <td>40.75362</td>\n",
              "      <td>-73.98377</td>\n",
              "      <td>United States</td>\n",
              "      <td>...</td>\n",
              "      <td>$28</td>\n",
              "      <td>30.0</td>\n",
              "      <td>45.0</td>\n",
              "      <td>5/21/2022</td>\n",
              "      <td>0.38</td>\n",
              "      <td>4.0</td>\n",
              "      <td>2.0</td>\n",
              "      <td>228.0</td>\n",
              "      <td>Pet friendly but please confirm with me if the...</td>\n",
              "      <td>NaN</td>\n",
              "    </tr>\n",
              "    <tr>\n",
              "      <th>2</th>\n",
              "      <td>1002403</td>\n",
              "      <td>THE VILLAGE OF HARLEM....NEW YORK !</td>\n",
              "      <td>78829239556</td>\n",
              "      <td>NaN</td>\n",
              "      <td>Elise</td>\n",
              "      <td>Manhattan</td>\n",
              "      <td>Harlem</td>\n",
              "      <td>40.80902</td>\n",
              "      <td>-73.94190</td>\n",
              "      <td>United States</td>\n",
              "      <td>...</td>\n",
              "      <td>$124</td>\n",
              "      <td>3.0</td>\n",
              "      <td>0.0</td>\n",
              "      <td>NaN</td>\n",
              "      <td>NaN</td>\n",
              "      <td>5.0</td>\n",
              "      <td>1.0</td>\n",
              "      <td>352.0</td>\n",
              "      <td>I encourage you to use my kitchen, cooking and...</td>\n",
              "      <td>NaN</td>\n",
              "    </tr>\n",
              "    <tr>\n",
              "      <th>3</th>\n",
              "      <td>1002755</td>\n",
              "      <td>NaN</td>\n",
              "      <td>85098326012</td>\n",
              "      <td>unconfirmed</td>\n",
              "      <td>Garry</td>\n",
              "      <td>Brooklyn</td>\n",
              "      <td>Clinton Hill</td>\n",
              "      <td>40.68514</td>\n",
              "      <td>-73.95976</td>\n",
              "      <td>United States</td>\n",
              "      <td>...</td>\n",
              "      <td>$74</td>\n",
              "      <td>30.0</td>\n",
              "      <td>270.0</td>\n",
              "      <td>7/5/2019</td>\n",
              "      <td>4.64</td>\n",
              "      <td>4.0</td>\n",
              "      <td>1.0</td>\n",
              "      <td>322.0</td>\n",
              "      <td>NaN</td>\n",
              "      <td>NaN</td>\n",
              "    </tr>\n",
              "    <tr>\n",
              "      <th>4</th>\n",
              "      <td>1003689</td>\n",
              "      <td>Entire Apt: Spacious Studio/Loft by central park</td>\n",
              "      <td>92037596077</td>\n",
              "      <td>verified</td>\n",
              "      <td>Lyndon</td>\n",
              "      <td>Manhattan</td>\n",
              "      <td>East Harlem</td>\n",
              "      <td>40.79851</td>\n",
              "      <td>-73.94399</td>\n",
              "      <td>United States</td>\n",
              "      <td>...</td>\n",
              "      <td>$41</td>\n",
              "      <td>10.0</td>\n",
              "      <td>9.0</td>\n",
              "      <td>11/19/2018</td>\n",
              "      <td>0.10</td>\n",
              "      <td>3.0</td>\n",
              "      <td>1.0</td>\n",
              "      <td>289.0</td>\n",
              "      <td>Please no smoking in the house, porch or on th...</td>\n",
              "      <td>NaN</td>\n",
              "    </tr>\n",
              "  </tbody>\n",
              "</table>\n",
              "<p>5 rows × 26 columns</p>\n",
              "</div>\n",
              "    <div class=\"colab-df-buttons\">\n",
              "\n",
              "  <div class=\"colab-df-container\">\n",
              "    <button class=\"colab-df-convert\" onclick=\"convertToInteractive('df-f541ec70-136e-4d44-b9e2-6e9fea4c2367')\"\n",
              "            title=\"Convert this dataframe to an interactive table.\"\n",
              "            style=\"display:none;\">\n",
              "\n",
              "  <svg xmlns=\"http://www.w3.org/2000/svg\" height=\"24px\" viewBox=\"0 -960 960 960\">\n",
              "    <path d=\"M120-120v-720h720v720H120Zm60-500h600v-160H180v160Zm220 220h160v-160H400v160Zm0 220h160v-160H400v160ZM180-400h160v-160H180v160Zm440 0h160v-160H620v160ZM180-180h160v-160H180v160Zm440 0h160v-160H620v160Z\"/>\n",
              "  </svg>\n",
              "    </button>\n",
              "\n",
              "  <style>\n",
              "    .colab-df-container {\n",
              "      display:flex;\n",
              "      gap: 12px;\n",
              "    }\n",
              "\n",
              "    .colab-df-convert {\n",
              "      background-color: #E8F0FE;\n",
              "      border: none;\n",
              "      border-radius: 50%;\n",
              "      cursor: pointer;\n",
              "      display: none;\n",
              "      fill: #1967D2;\n",
              "      height: 32px;\n",
              "      padding: 0 0 0 0;\n",
              "      width: 32px;\n",
              "    }\n",
              "\n",
              "    .colab-df-convert:hover {\n",
              "      background-color: #E2EBFA;\n",
              "      box-shadow: 0px 1px 2px rgba(60, 64, 67, 0.3), 0px 1px 3px 1px rgba(60, 64, 67, 0.15);\n",
              "      fill: #174EA6;\n",
              "    }\n",
              "\n",
              "    .colab-df-buttons div {\n",
              "      margin-bottom: 4px;\n",
              "    }\n",
              "\n",
              "    [theme=dark] .colab-df-convert {\n",
              "      background-color: #3B4455;\n",
              "      fill: #D2E3FC;\n",
              "    }\n",
              "\n",
              "    [theme=dark] .colab-df-convert:hover {\n",
              "      background-color: #434B5C;\n",
              "      box-shadow: 0px 1px 3px 1px rgba(0, 0, 0, 0.15);\n",
              "      filter: drop-shadow(0px 1px 2px rgba(0, 0, 0, 0.3));\n",
              "      fill: #FFFFFF;\n",
              "    }\n",
              "  </style>\n",
              "\n",
              "    <script>\n",
              "      const buttonEl =\n",
              "        document.querySelector('#df-f541ec70-136e-4d44-b9e2-6e9fea4c2367 button.colab-df-convert');\n",
              "      buttonEl.style.display =\n",
              "        google.colab.kernel.accessAllowed ? 'block' : 'none';\n",
              "\n",
              "      async function convertToInteractive(key) {\n",
              "        const element = document.querySelector('#df-f541ec70-136e-4d44-b9e2-6e9fea4c2367');\n",
              "        const dataTable =\n",
              "          await google.colab.kernel.invokeFunction('convertToInteractive',\n",
              "                                                    [key], {});\n",
              "        if (!dataTable) return;\n",
              "\n",
              "        const docLinkHtml = 'Like what you see? Visit the ' +\n",
              "          '<a target=\"_blank\" href=https://colab.research.google.com/notebooks/data_table.ipynb>data table notebook</a>'\n",
              "          + ' to learn more about interactive tables.';\n",
              "        element.innerHTML = '';\n",
              "        dataTable['output_type'] = 'display_data';\n",
              "        await google.colab.output.renderOutput(dataTable, element);\n",
              "        const docLink = document.createElement('div');\n",
              "        docLink.innerHTML = docLinkHtml;\n",
              "        element.appendChild(docLink);\n",
              "      }\n",
              "    </script>\n",
              "  </div>\n",
              "\n",
              "\n",
              "<div id=\"df-f6bc9476-c7be-4e6d-84bd-2c6aced51050\">\n",
              "  <button class=\"colab-df-quickchart\" onclick=\"quickchart('df-f6bc9476-c7be-4e6d-84bd-2c6aced51050')\"\n",
              "            title=\"Suggest charts\"\n",
              "            style=\"display:none;\">\n",
              "\n",
              "<svg xmlns=\"http://www.w3.org/2000/svg\" height=\"24px\"viewBox=\"0 0 24 24\"\n",
              "     width=\"24px\">\n",
              "    <g>\n",
              "        <path d=\"M19 3H5c-1.1 0-2 .9-2 2v14c0 1.1.9 2 2 2h14c1.1 0 2-.9 2-2V5c0-1.1-.9-2-2-2zM9 17H7v-7h2v7zm4 0h-2V7h2v10zm4 0h-2v-4h2v4z\"/>\n",
              "    </g>\n",
              "</svg>\n",
              "  </button>\n",
              "\n",
              "<style>\n",
              "  .colab-df-quickchart {\n",
              "      --bg-color: #E8F0FE;\n",
              "      --fill-color: #1967D2;\n",
              "      --hover-bg-color: #E2EBFA;\n",
              "      --hover-fill-color: #174EA6;\n",
              "      --disabled-fill-color: #AAA;\n",
              "      --disabled-bg-color: #DDD;\n",
              "  }\n",
              "\n",
              "  [theme=dark] .colab-df-quickchart {\n",
              "      --bg-color: #3B4455;\n",
              "      --fill-color: #D2E3FC;\n",
              "      --hover-bg-color: #434B5C;\n",
              "      --hover-fill-color: #FFFFFF;\n",
              "      --disabled-bg-color: #3B4455;\n",
              "      --disabled-fill-color: #666;\n",
              "  }\n",
              "\n",
              "  .colab-df-quickchart {\n",
              "    background-color: var(--bg-color);\n",
              "    border: none;\n",
              "    border-radius: 50%;\n",
              "    cursor: pointer;\n",
              "    display: none;\n",
              "    fill: var(--fill-color);\n",
              "    height: 32px;\n",
              "    padding: 0;\n",
              "    width: 32px;\n",
              "  }\n",
              "\n",
              "  .colab-df-quickchart:hover {\n",
              "    background-color: var(--hover-bg-color);\n",
              "    box-shadow: 0 1px 2px rgba(60, 64, 67, 0.3), 0 1px 3px 1px rgba(60, 64, 67, 0.15);\n",
              "    fill: var(--button-hover-fill-color);\n",
              "  }\n",
              "\n",
              "  .colab-df-quickchart-complete:disabled,\n",
              "  .colab-df-quickchart-complete:disabled:hover {\n",
              "    background-color: var(--disabled-bg-color);\n",
              "    fill: var(--disabled-fill-color);\n",
              "    box-shadow: none;\n",
              "  }\n",
              "\n",
              "  .colab-df-spinner {\n",
              "    border: 2px solid var(--fill-color);\n",
              "    border-color: transparent;\n",
              "    border-bottom-color: var(--fill-color);\n",
              "    animation:\n",
              "      spin 1s steps(1) infinite;\n",
              "  }\n",
              "\n",
              "  @keyframes spin {\n",
              "    0% {\n",
              "      border-color: transparent;\n",
              "      border-bottom-color: var(--fill-color);\n",
              "      border-left-color: var(--fill-color);\n",
              "    }\n",
              "    20% {\n",
              "      border-color: transparent;\n",
              "      border-left-color: var(--fill-color);\n",
              "      border-top-color: var(--fill-color);\n",
              "    }\n",
              "    30% {\n",
              "      border-color: transparent;\n",
              "      border-left-color: var(--fill-color);\n",
              "      border-top-color: var(--fill-color);\n",
              "      border-right-color: var(--fill-color);\n",
              "    }\n",
              "    40% {\n",
              "      border-color: transparent;\n",
              "      border-right-color: var(--fill-color);\n",
              "      border-top-color: var(--fill-color);\n",
              "    }\n",
              "    60% {\n",
              "      border-color: transparent;\n",
              "      border-right-color: var(--fill-color);\n",
              "    }\n",
              "    80% {\n",
              "      border-color: transparent;\n",
              "      border-right-color: var(--fill-color);\n",
              "      border-bottom-color: var(--fill-color);\n",
              "    }\n",
              "    90% {\n",
              "      border-color: transparent;\n",
              "      border-bottom-color: var(--fill-color);\n",
              "    }\n",
              "  }\n",
              "</style>\n",
              "\n",
              "  <script>\n",
              "    async function quickchart(key) {\n",
              "      const quickchartButtonEl =\n",
              "        document.querySelector('#' + key + ' button');\n",
              "      quickchartButtonEl.disabled = true;  // To prevent multiple clicks.\n",
              "      quickchartButtonEl.classList.add('colab-df-spinner');\n",
              "      try {\n",
              "        const charts = await google.colab.kernel.invokeFunction(\n",
              "            'suggestCharts', [key], {});\n",
              "      } catch (error) {\n",
              "        console.error('Error during call to suggestCharts:', error);\n",
              "      }\n",
              "      quickchartButtonEl.classList.remove('colab-df-spinner');\n",
              "      quickchartButtonEl.classList.add('colab-df-quickchart-complete');\n",
              "    }\n",
              "    (() => {\n",
              "      let quickchartButtonEl =\n",
              "        document.querySelector('#df-f6bc9476-c7be-4e6d-84bd-2c6aced51050 button');\n",
              "      quickchartButtonEl.style.display =\n",
              "        google.colab.kernel.accessAllowed ? 'block' : 'none';\n",
              "    })();\n",
              "  </script>\n",
              "</div>\n",
              "\n",
              "    </div>\n",
              "  </div>\n"
            ],
            "application/vnd.google.colaboratory.intrinsic+json": {
              "type": "dataframe",
              "variable_name": "AB_df"
            }
          },
          "metadata": {},
          "execution_count": 236
        }
      ],
      "source": [
        "AB_df.head()"
      ]
    },
    {
      "cell_type": "markdown",
      "metadata": {
        "id": "JoSLAGfdee6C"
      },
      "source": [
        "### Data Cleaning"
      ]
    },
    {
      "cell_type": "markdown",
      "metadata": {
        "id": "7OUk0ZtPf2uR"
      },
      "source": [
        "#### Handling Null Values"
      ]
    },
    {
      "cell_type": "code",
      "execution_count": null,
      "metadata": {
        "colab": {
          "base_uri": "https://localhost:8080/",
          "height": 899
        },
        "id": "y5Tvrnoaeke2",
        "outputId": "65f6d094-9fd0-4c1f-8fe9-0ba008e5aba6"
      },
      "outputs": [
        {
          "output_type": "execute_result",
          "data": {
            "text/plain": [
              "id                                     0\n",
              "NAME                                 250\n",
              "host id                                0\n",
              "host_identity_verified               289\n",
              "host name                            406\n",
              "neighbourhood group                   29\n",
              "neighbourhood                         16\n",
              "lat                                    8\n",
              "long                                   8\n",
              "country                              532\n",
              "country code                         131\n",
              "instant_bookable                     105\n",
              "cancellation_policy                   76\n",
              "room type                              0\n",
              "Construction year                    214\n",
              "price                                247\n",
              "service fee                          273\n",
              "minimum nights                       409\n",
              "number of reviews                    183\n",
              "last review                        15893\n",
              "reviews per month                  15879\n",
              "review rate number                   326\n",
              "calculated host listings count       319\n",
              "availability 365                     448\n",
              "house_rules                        52131\n",
              "license                           102597\n",
              "dtype: int64"
            ],
            "text/html": [
              "<div>\n",
              "<style scoped>\n",
              "    .dataframe tbody tr th:only-of-type {\n",
              "        vertical-align: middle;\n",
              "    }\n",
              "\n",
              "    .dataframe tbody tr th {\n",
              "        vertical-align: top;\n",
              "    }\n",
              "\n",
              "    .dataframe thead th {\n",
              "        text-align: right;\n",
              "    }\n",
              "</style>\n",
              "<table border=\"1\" class=\"dataframe\">\n",
              "  <thead>\n",
              "    <tr style=\"text-align: right;\">\n",
              "      <th></th>\n",
              "      <th>0</th>\n",
              "    </tr>\n",
              "  </thead>\n",
              "  <tbody>\n",
              "    <tr>\n",
              "      <th>id</th>\n",
              "      <td>0</td>\n",
              "    </tr>\n",
              "    <tr>\n",
              "      <th>NAME</th>\n",
              "      <td>250</td>\n",
              "    </tr>\n",
              "    <tr>\n",
              "      <th>host id</th>\n",
              "      <td>0</td>\n",
              "    </tr>\n",
              "    <tr>\n",
              "      <th>host_identity_verified</th>\n",
              "      <td>289</td>\n",
              "    </tr>\n",
              "    <tr>\n",
              "      <th>host name</th>\n",
              "      <td>406</td>\n",
              "    </tr>\n",
              "    <tr>\n",
              "      <th>neighbourhood group</th>\n",
              "      <td>29</td>\n",
              "    </tr>\n",
              "    <tr>\n",
              "      <th>neighbourhood</th>\n",
              "      <td>16</td>\n",
              "    </tr>\n",
              "    <tr>\n",
              "      <th>lat</th>\n",
              "      <td>8</td>\n",
              "    </tr>\n",
              "    <tr>\n",
              "      <th>long</th>\n",
              "      <td>8</td>\n",
              "    </tr>\n",
              "    <tr>\n",
              "      <th>country</th>\n",
              "      <td>532</td>\n",
              "    </tr>\n",
              "    <tr>\n",
              "      <th>country code</th>\n",
              "      <td>131</td>\n",
              "    </tr>\n",
              "    <tr>\n",
              "      <th>instant_bookable</th>\n",
              "      <td>105</td>\n",
              "    </tr>\n",
              "    <tr>\n",
              "      <th>cancellation_policy</th>\n",
              "      <td>76</td>\n",
              "    </tr>\n",
              "    <tr>\n",
              "      <th>room type</th>\n",
              "      <td>0</td>\n",
              "    </tr>\n",
              "    <tr>\n",
              "      <th>Construction year</th>\n",
              "      <td>214</td>\n",
              "    </tr>\n",
              "    <tr>\n",
              "      <th>price</th>\n",
              "      <td>247</td>\n",
              "    </tr>\n",
              "    <tr>\n",
              "      <th>service fee</th>\n",
              "      <td>273</td>\n",
              "    </tr>\n",
              "    <tr>\n",
              "      <th>minimum nights</th>\n",
              "      <td>409</td>\n",
              "    </tr>\n",
              "    <tr>\n",
              "      <th>number of reviews</th>\n",
              "      <td>183</td>\n",
              "    </tr>\n",
              "    <tr>\n",
              "      <th>last review</th>\n",
              "      <td>15893</td>\n",
              "    </tr>\n",
              "    <tr>\n",
              "      <th>reviews per month</th>\n",
              "      <td>15879</td>\n",
              "    </tr>\n",
              "    <tr>\n",
              "      <th>review rate number</th>\n",
              "      <td>326</td>\n",
              "    </tr>\n",
              "    <tr>\n",
              "      <th>calculated host listings count</th>\n",
              "      <td>319</td>\n",
              "    </tr>\n",
              "    <tr>\n",
              "      <th>availability 365</th>\n",
              "      <td>448</td>\n",
              "    </tr>\n",
              "    <tr>\n",
              "      <th>house_rules</th>\n",
              "      <td>52131</td>\n",
              "    </tr>\n",
              "    <tr>\n",
              "      <th>license</th>\n",
              "      <td>102597</td>\n",
              "    </tr>\n",
              "  </tbody>\n",
              "</table>\n",
              "</div><br><label><b>dtype:</b> int64</label>"
            ]
          },
          "metadata": {},
          "execution_count": 237
        }
      ],
      "source": [
        "num_null = AB_df.isnull().sum()\n",
        "num_null"
      ]
    },
    {
      "cell_type": "markdown",
      "metadata": {
        "id": "2c1GEJ74fa4x"
      },
      "source": [
        "We will look at the percentage of null values for each column as numbers may not give enough information to actually visualize the ratio of missing data with available data."
      ]
    },
    {
      "cell_type": "code",
      "execution_count": null,
      "metadata": {
        "colab": {
          "base_uri": "https://localhost:8080/",
          "height": 899
        },
        "id": "OD2lEZ1ZHw6s",
        "outputId": "5c44b976-5c91-408c-daf0-89fe8cf9e207"
      },
      "outputs": [
        {
          "output_type": "execute_result",
          "data": {
            "text/plain": [
              "license                           100.00\n",
              "house_rules                        50.81\n",
              "last review                        15.49\n",
              "reviews per month                  15.48\n",
              "country                             0.52\n",
              "availability 365                    0.44\n",
              "minimum nights                      0.40\n",
              "host name                           0.40\n",
              "review rate number                  0.32\n",
              "calculated host listings count      0.31\n",
              "host_identity_verified              0.28\n",
              "service fee                         0.27\n",
              "NAME                                0.24\n",
              "price                               0.24\n",
              "Construction year                   0.21\n",
              "number of reviews                   0.18\n",
              "country code                        0.13\n",
              "instant_bookable                    0.10\n",
              "cancellation_policy                 0.07\n",
              "neighbourhood group                 0.03\n",
              "neighbourhood                       0.02\n",
              "long                                0.01\n",
              "lat                                 0.01\n",
              "id                                  0.00\n",
              "host id                             0.00\n",
              "room type                           0.00\n",
              "dtype: float64"
            ],
            "text/html": [
              "<div>\n",
              "<style scoped>\n",
              "    .dataframe tbody tr th:only-of-type {\n",
              "        vertical-align: middle;\n",
              "    }\n",
              "\n",
              "    .dataframe tbody tr th {\n",
              "        vertical-align: top;\n",
              "    }\n",
              "\n",
              "    .dataframe thead th {\n",
              "        text-align: right;\n",
              "    }\n",
              "</style>\n",
              "<table border=\"1\" class=\"dataframe\">\n",
              "  <thead>\n",
              "    <tr style=\"text-align: right;\">\n",
              "      <th></th>\n",
              "      <th>0</th>\n",
              "    </tr>\n",
              "  </thead>\n",
              "  <tbody>\n",
              "    <tr>\n",
              "      <th>license</th>\n",
              "      <td>100.00</td>\n",
              "    </tr>\n",
              "    <tr>\n",
              "      <th>house_rules</th>\n",
              "      <td>50.81</td>\n",
              "    </tr>\n",
              "    <tr>\n",
              "      <th>last review</th>\n",
              "      <td>15.49</td>\n",
              "    </tr>\n",
              "    <tr>\n",
              "      <th>reviews per month</th>\n",
              "      <td>15.48</td>\n",
              "    </tr>\n",
              "    <tr>\n",
              "      <th>country</th>\n",
              "      <td>0.52</td>\n",
              "    </tr>\n",
              "    <tr>\n",
              "      <th>availability 365</th>\n",
              "      <td>0.44</td>\n",
              "    </tr>\n",
              "    <tr>\n",
              "      <th>minimum nights</th>\n",
              "      <td>0.40</td>\n",
              "    </tr>\n",
              "    <tr>\n",
              "      <th>host name</th>\n",
              "      <td>0.40</td>\n",
              "    </tr>\n",
              "    <tr>\n",
              "      <th>review rate number</th>\n",
              "      <td>0.32</td>\n",
              "    </tr>\n",
              "    <tr>\n",
              "      <th>calculated host listings count</th>\n",
              "      <td>0.31</td>\n",
              "    </tr>\n",
              "    <tr>\n",
              "      <th>host_identity_verified</th>\n",
              "      <td>0.28</td>\n",
              "    </tr>\n",
              "    <tr>\n",
              "      <th>service fee</th>\n",
              "      <td>0.27</td>\n",
              "    </tr>\n",
              "    <tr>\n",
              "      <th>NAME</th>\n",
              "      <td>0.24</td>\n",
              "    </tr>\n",
              "    <tr>\n",
              "      <th>price</th>\n",
              "      <td>0.24</td>\n",
              "    </tr>\n",
              "    <tr>\n",
              "      <th>Construction year</th>\n",
              "      <td>0.21</td>\n",
              "    </tr>\n",
              "    <tr>\n",
              "      <th>number of reviews</th>\n",
              "      <td>0.18</td>\n",
              "    </tr>\n",
              "    <tr>\n",
              "      <th>country code</th>\n",
              "      <td>0.13</td>\n",
              "    </tr>\n",
              "    <tr>\n",
              "      <th>instant_bookable</th>\n",
              "      <td>0.10</td>\n",
              "    </tr>\n",
              "    <tr>\n",
              "      <th>cancellation_policy</th>\n",
              "      <td>0.07</td>\n",
              "    </tr>\n",
              "    <tr>\n",
              "      <th>neighbourhood group</th>\n",
              "      <td>0.03</td>\n",
              "    </tr>\n",
              "    <tr>\n",
              "      <th>neighbourhood</th>\n",
              "      <td>0.02</td>\n",
              "    </tr>\n",
              "    <tr>\n",
              "      <th>long</th>\n",
              "      <td>0.01</td>\n",
              "    </tr>\n",
              "    <tr>\n",
              "      <th>lat</th>\n",
              "      <td>0.01</td>\n",
              "    </tr>\n",
              "    <tr>\n",
              "      <th>id</th>\n",
              "      <td>0.00</td>\n",
              "    </tr>\n",
              "    <tr>\n",
              "      <th>host id</th>\n",
              "      <td>0.00</td>\n",
              "    </tr>\n",
              "    <tr>\n",
              "      <th>room type</th>\n",
              "      <td>0.00</td>\n",
              "    </tr>\n",
              "  </tbody>\n",
              "</table>\n",
              "</div><br><label><b>dtype:</b> float64</label>"
            ]
          },
          "metadata": {},
          "execution_count": 238
        }
      ],
      "source": [
        "(round(AB_df.isnull().sum() / AB_df.shape[0] * 100, 2)).sort_values(ascending=False)"
      ]
    },
    {
      "cell_type": "markdown",
      "metadata": {
        "id": "RxLicqQbeyAO"
      },
      "source": [
        "Notice some columns such as license and house_rules do have a considerable percentage of null values. However these columns will be dropped as we will not need them for our analysis.\n"
      ]
    },
    {
      "cell_type": "code",
      "execution_count": null,
      "metadata": {
        "colab": {
          "base_uri": "https://localhost:8080/",
          "height": 774
        },
        "id": "uUrw92j3A6jk",
        "outputId": "1713d863-ce9e-4a7f-a8a7-a2f70960eb78"
      },
      "outputs": [
        {
          "output_type": "execute_result",
          "data": {
            "text/plain": [
              "             id                                              NAME  \\\n",
              "0       1001254                Clean & quiet apt home by the park   \n",
              "1       1002102                             Skylit Midtown Castle   \n",
              "2       1002403               THE VILLAGE OF HARLEM....NEW YORK !   \n",
              "3       1002755                                               NaN   \n",
              "4       1003689  Entire Apt: Spacious Studio/Loft by central park   \n",
              "...         ...                                               ...   \n",
              "102594  6092437                        Spare room in Williamsburg   \n",
              "102595  6092990                     Best Location near Columbia U   \n",
              "102596  6093542                    Comfy, bright room in Brooklyn   \n",
              "102597  6094094                  Big Studio-One Stop from Midtown   \n",
              "102598  6094647                              585 sf Luxury Studio   \n",
              "\n",
              "            host id host_identity_verified    host name neighbourhood group  \\\n",
              "0       80014485718            unconfirmed     Madaline            Brooklyn   \n",
              "1       52335172823               verified        Jenna           Manhattan   \n",
              "2       78829239556                    NaN        Elise           Manhattan   \n",
              "3       85098326012            unconfirmed        Garry            Brooklyn   \n",
              "4       92037596077               verified       Lyndon           Manhattan   \n",
              "...             ...                    ...          ...                 ...   \n",
              "102594  12312296767               verified         Krik            Brooklyn   \n",
              "102595  77864383453            unconfirmed        Mifan           Manhattan   \n",
              "102596  69050334417            unconfirmed        Megan            Brooklyn   \n",
              "102597  11160591270            unconfirmed  Christopher              Queens   \n",
              "102598  68170633372            unconfirmed      Rebecca           Manhattan   \n",
              "\n",
              "              neighbourhood       lat      long        country  ...  \\\n",
              "0                Kensington  40.64749 -73.97237  United States  ...   \n",
              "1                   Midtown  40.75362 -73.98377  United States  ...   \n",
              "2                    Harlem  40.80902 -73.94190  United States  ...   \n",
              "3              Clinton Hill  40.68514 -73.95976  United States  ...   \n",
              "4               East Harlem  40.79851 -73.94399  United States  ...   \n",
              "...                     ...       ...       ...            ...  ...   \n",
              "102594         Williamsburg  40.70862 -73.94651  United States  ...   \n",
              "102595  Morningside Heights  40.80460 -73.96545  United States  ...   \n",
              "102596           Park Slope  40.67505 -73.98045  United States  ...   \n",
              "102597     Long Island City  40.74989 -73.93777  United States  ...   \n",
              "102598      Upper West Side  40.76807 -73.98342  United States  ...   \n",
              "\n",
              "       Construction year    price service fee minimum nights  \\\n",
              "0                 2020.0    $966        $193            10.0   \n",
              "1                 2007.0    $142         $28            30.0   \n",
              "2                 2005.0    $620        $124             3.0   \n",
              "3                 2005.0    $368         $74            30.0   \n",
              "4                 2009.0    $204         $41            10.0   \n",
              "...                  ...      ...         ...            ...   \n",
              "102594            2003.0    $844        $169             1.0   \n",
              "102595            2016.0    $837        $167             1.0   \n",
              "102596            2009.0    $988        $198             3.0   \n",
              "102597            2015.0    $546        $109             2.0   \n",
              "102598            2010.0  $1,032        $206             1.0   \n",
              "\n",
              "        number of reviews last review reviews per month  review rate number  \\\n",
              "0                     9.0  10/19/2021              0.21                 4.0   \n",
              "1                    45.0   5/21/2022              0.38                 4.0   \n",
              "2                     0.0         NaN               NaN                 5.0   \n",
              "3                   270.0    7/5/2019              4.64                 4.0   \n",
              "4                     9.0  11/19/2018              0.10                 3.0   \n",
              "...                   ...         ...               ...                 ...   \n",
              "102594                0.0         NaN               NaN                 3.0   \n",
              "102595                1.0    7/6/2015              0.02                 2.0   \n",
              "102596                0.0         NaN               NaN                 5.0   \n",
              "102597                5.0  10/11/2015              0.10                 3.0   \n",
              "102598                0.0         NaN               NaN                 3.0   \n",
              "\n",
              "        calculated host listings count availability 365  \n",
              "0                                  6.0            286.0  \n",
              "1                                  2.0            228.0  \n",
              "2                                  1.0            352.0  \n",
              "3                                  1.0            322.0  \n",
              "4                                  1.0            289.0  \n",
              "...                                ...              ...  \n",
              "102594                             1.0            227.0  \n",
              "102595                             2.0            395.0  \n",
              "102596                             1.0            342.0  \n",
              "102597                             1.0            386.0  \n",
              "102598                             1.0             69.0  \n",
              "\n",
              "[102599 rows x 24 columns]"
            ],
            "text/html": [
              "\n",
              "  <div id=\"df-40276dec-21a8-49b1-84e5-6316b3525478\" class=\"colab-df-container\">\n",
              "    <div>\n",
              "<style scoped>\n",
              "    .dataframe tbody tr th:only-of-type {\n",
              "        vertical-align: middle;\n",
              "    }\n",
              "\n",
              "    .dataframe tbody tr th {\n",
              "        vertical-align: top;\n",
              "    }\n",
              "\n",
              "    .dataframe thead th {\n",
              "        text-align: right;\n",
              "    }\n",
              "</style>\n",
              "<table border=\"1\" class=\"dataframe\">\n",
              "  <thead>\n",
              "    <tr style=\"text-align: right;\">\n",
              "      <th></th>\n",
              "      <th>id</th>\n",
              "      <th>NAME</th>\n",
              "      <th>host id</th>\n",
              "      <th>host_identity_verified</th>\n",
              "      <th>host name</th>\n",
              "      <th>neighbourhood group</th>\n",
              "      <th>neighbourhood</th>\n",
              "      <th>lat</th>\n",
              "      <th>long</th>\n",
              "      <th>country</th>\n",
              "      <th>...</th>\n",
              "      <th>Construction year</th>\n",
              "      <th>price</th>\n",
              "      <th>service fee</th>\n",
              "      <th>minimum nights</th>\n",
              "      <th>number of reviews</th>\n",
              "      <th>last review</th>\n",
              "      <th>reviews per month</th>\n",
              "      <th>review rate number</th>\n",
              "      <th>calculated host listings count</th>\n",
              "      <th>availability 365</th>\n",
              "    </tr>\n",
              "  </thead>\n",
              "  <tbody>\n",
              "    <tr>\n",
              "      <th>0</th>\n",
              "      <td>1001254</td>\n",
              "      <td>Clean &amp; quiet apt home by the park</td>\n",
              "      <td>80014485718</td>\n",
              "      <td>unconfirmed</td>\n",
              "      <td>Madaline</td>\n",
              "      <td>Brooklyn</td>\n",
              "      <td>Kensington</td>\n",
              "      <td>40.64749</td>\n",
              "      <td>-73.97237</td>\n",
              "      <td>United States</td>\n",
              "      <td>...</td>\n",
              "      <td>2020.0</td>\n",
              "      <td>$966</td>\n",
              "      <td>$193</td>\n",
              "      <td>10.0</td>\n",
              "      <td>9.0</td>\n",
              "      <td>10/19/2021</td>\n",
              "      <td>0.21</td>\n",
              "      <td>4.0</td>\n",
              "      <td>6.0</td>\n",
              "      <td>286.0</td>\n",
              "    </tr>\n",
              "    <tr>\n",
              "      <th>1</th>\n",
              "      <td>1002102</td>\n",
              "      <td>Skylit Midtown Castle</td>\n",
              "      <td>52335172823</td>\n",
              "      <td>verified</td>\n",
              "      <td>Jenna</td>\n",
              "      <td>Manhattan</td>\n",
              "      <td>Midtown</td>\n",
              "      <td>40.75362</td>\n",
              "      <td>-73.98377</td>\n",
              "      <td>United States</td>\n",
              "      <td>...</td>\n",
              "      <td>2007.0</td>\n",
              "      <td>$142</td>\n",
              "      <td>$28</td>\n",
              "      <td>30.0</td>\n",
              "      <td>45.0</td>\n",
              "      <td>5/21/2022</td>\n",
              "      <td>0.38</td>\n",
              "      <td>4.0</td>\n",
              "      <td>2.0</td>\n",
              "      <td>228.0</td>\n",
              "    </tr>\n",
              "    <tr>\n",
              "      <th>2</th>\n",
              "      <td>1002403</td>\n",
              "      <td>THE VILLAGE OF HARLEM....NEW YORK !</td>\n",
              "      <td>78829239556</td>\n",
              "      <td>NaN</td>\n",
              "      <td>Elise</td>\n",
              "      <td>Manhattan</td>\n",
              "      <td>Harlem</td>\n",
              "      <td>40.80902</td>\n",
              "      <td>-73.94190</td>\n",
              "      <td>United States</td>\n",
              "      <td>...</td>\n",
              "      <td>2005.0</td>\n",
              "      <td>$620</td>\n",
              "      <td>$124</td>\n",
              "      <td>3.0</td>\n",
              "      <td>0.0</td>\n",
              "      <td>NaN</td>\n",
              "      <td>NaN</td>\n",
              "      <td>5.0</td>\n",
              "      <td>1.0</td>\n",
              "      <td>352.0</td>\n",
              "    </tr>\n",
              "    <tr>\n",
              "      <th>3</th>\n",
              "      <td>1002755</td>\n",
              "      <td>NaN</td>\n",
              "      <td>85098326012</td>\n",
              "      <td>unconfirmed</td>\n",
              "      <td>Garry</td>\n",
              "      <td>Brooklyn</td>\n",
              "      <td>Clinton Hill</td>\n",
              "      <td>40.68514</td>\n",
              "      <td>-73.95976</td>\n",
              "      <td>United States</td>\n",
              "      <td>...</td>\n",
              "      <td>2005.0</td>\n",
              "      <td>$368</td>\n",
              "      <td>$74</td>\n",
              "      <td>30.0</td>\n",
              "      <td>270.0</td>\n",
              "      <td>7/5/2019</td>\n",
              "      <td>4.64</td>\n",
              "      <td>4.0</td>\n",
              "      <td>1.0</td>\n",
              "      <td>322.0</td>\n",
              "    </tr>\n",
              "    <tr>\n",
              "      <th>4</th>\n",
              "      <td>1003689</td>\n",
              "      <td>Entire Apt: Spacious Studio/Loft by central park</td>\n",
              "      <td>92037596077</td>\n",
              "      <td>verified</td>\n",
              "      <td>Lyndon</td>\n",
              "      <td>Manhattan</td>\n",
              "      <td>East Harlem</td>\n",
              "      <td>40.79851</td>\n",
              "      <td>-73.94399</td>\n",
              "      <td>United States</td>\n",
              "      <td>...</td>\n",
              "      <td>2009.0</td>\n",
              "      <td>$204</td>\n",
              "      <td>$41</td>\n",
              "      <td>10.0</td>\n",
              "      <td>9.0</td>\n",
              "      <td>11/19/2018</td>\n",
              "      <td>0.10</td>\n",
              "      <td>3.0</td>\n",
              "      <td>1.0</td>\n",
              "      <td>289.0</td>\n",
              "    </tr>\n",
              "    <tr>\n",
              "      <th>...</th>\n",
              "      <td>...</td>\n",
              "      <td>...</td>\n",
              "      <td>...</td>\n",
              "      <td>...</td>\n",
              "      <td>...</td>\n",
              "      <td>...</td>\n",
              "      <td>...</td>\n",
              "      <td>...</td>\n",
              "      <td>...</td>\n",
              "      <td>...</td>\n",
              "      <td>...</td>\n",
              "      <td>...</td>\n",
              "      <td>...</td>\n",
              "      <td>...</td>\n",
              "      <td>...</td>\n",
              "      <td>...</td>\n",
              "      <td>...</td>\n",
              "      <td>...</td>\n",
              "      <td>...</td>\n",
              "      <td>...</td>\n",
              "      <td>...</td>\n",
              "    </tr>\n",
              "    <tr>\n",
              "      <th>102594</th>\n",
              "      <td>6092437</td>\n",
              "      <td>Spare room in Williamsburg</td>\n",
              "      <td>12312296767</td>\n",
              "      <td>verified</td>\n",
              "      <td>Krik</td>\n",
              "      <td>Brooklyn</td>\n",
              "      <td>Williamsburg</td>\n",
              "      <td>40.70862</td>\n",
              "      <td>-73.94651</td>\n",
              "      <td>United States</td>\n",
              "      <td>...</td>\n",
              "      <td>2003.0</td>\n",
              "      <td>$844</td>\n",
              "      <td>$169</td>\n",
              "      <td>1.0</td>\n",
              "      <td>0.0</td>\n",
              "      <td>NaN</td>\n",
              "      <td>NaN</td>\n",
              "      <td>3.0</td>\n",
              "      <td>1.0</td>\n",
              "      <td>227.0</td>\n",
              "    </tr>\n",
              "    <tr>\n",
              "      <th>102595</th>\n",
              "      <td>6092990</td>\n",
              "      <td>Best Location near Columbia U</td>\n",
              "      <td>77864383453</td>\n",
              "      <td>unconfirmed</td>\n",
              "      <td>Mifan</td>\n",
              "      <td>Manhattan</td>\n",
              "      <td>Morningside Heights</td>\n",
              "      <td>40.80460</td>\n",
              "      <td>-73.96545</td>\n",
              "      <td>United States</td>\n",
              "      <td>...</td>\n",
              "      <td>2016.0</td>\n",
              "      <td>$837</td>\n",
              "      <td>$167</td>\n",
              "      <td>1.0</td>\n",
              "      <td>1.0</td>\n",
              "      <td>7/6/2015</td>\n",
              "      <td>0.02</td>\n",
              "      <td>2.0</td>\n",
              "      <td>2.0</td>\n",
              "      <td>395.0</td>\n",
              "    </tr>\n",
              "    <tr>\n",
              "      <th>102596</th>\n",
              "      <td>6093542</td>\n",
              "      <td>Comfy, bright room in Brooklyn</td>\n",
              "      <td>69050334417</td>\n",
              "      <td>unconfirmed</td>\n",
              "      <td>Megan</td>\n",
              "      <td>Brooklyn</td>\n",
              "      <td>Park Slope</td>\n",
              "      <td>40.67505</td>\n",
              "      <td>-73.98045</td>\n",
              "      <td>United States</td>\n",
              "      <td>...</td>\n",
              "      <td>2009.0</td>\n",
              "      <td>$988</td>\n",
              "      <td>$198</td>\n",
              "      <td>3.0</td>\n",
              "      <td>0.0</td>\n",
              "      <td>NaN</td>\n",
              "      <td>NaN</td>\n",
              "      <td>5.0</td>\n",
              "      <td>1.0</td>\n",
              "      <td>342.0</td>\n",
              "    </tr>\n",
              "    <tr>\n",
              "      <th>102597</th>\n",
              "      <td>6094094</td>\n",
              "      <td>Big Studio-One Stop from Midtown</td>\n",
              "      <td>11160591270</td>\n",
              "      <td>unconfirmed</td>\n",
              "      <td>Christopher</td>\n",
              "      <td>Queens</td>\n",
              "      <td>Long Island City</td>\n",
              "      <td>40.74989</td>\n",
              "      <td>-73.93777</td>\n",
              "      <td>United States</td>\n",
              "      <td>...</td>\n",
              "      <td>2015.0</td>\n",
              "      <td>$546</td>\n",
              "      <td>$109</td>\n",
              "      <td>2.0</td>\n",
              "      <td>5.0</td>\n",
              "      <td>10/11/2015</td>\n",
              "      <td>0.10</td>\n",
              "      <td>3.0</td>\n",
              "      <td>1.0</td>\n",
              "      <td>386.0</td>\n",
              "    </tr>\n",
              "    <tr>\n",
              "      <th>102598</th>\n",
              "      <td>6094647</td>\n",
              "      <td>585 sf Luxury Studio</td>\n",
              "      <td>68170633372</td>\n",
              "      <td>unconfirmed</td>\n",
              "      <td>Rebecca</td>\n",
              "      <td>Manhattan</td>\n",
              "      <td>Upper West Side</td>\n",
              "      <td>40.76807</td>\n",
              "      <td>-73.98342</td>\n",
              "      <td>United States</td>\n",
              "      <td>...</td>\n",
              "      <td>2010.0</td>\n",
              "      <td>$1,032</td>\n",
              "      <td>$206</td>\n",
              "      <td>1.0</td>\n",
              "      <td>0.0</td>\n",
              "      <td>NaN</td>\n",
              "      <td>NaN</td>\n",
              "      <td>3.0</td>\n",
              "      <td>1.0</td>\n",
              "      <td>69.0</td>\n",
              "    </tr>\n",
              "  </tbody>\n",
              "</table>\n",
              "<p>102599 rows × 24 columns</p>\n",
              "</div>\n",
              "    <div class=\"colab-df-buttons\">\n",
              "\n",
              "  <div class=\"colab-df-container\">\n",
              "    <button class=\"colab-df-convert\" onclick=\"convertToInteractive('df-40276dec-21a8-49b1-84e5-6316b3525478')\"\n",
              "            title=\"Convert this dataframe to an interactive table.\"\n",
              "            style=\"display:none;\">\n",
              "\n",
              "  <svg xmlns=\"http://www.w3.org/2000/svg\" height=\"24px\" viewBox=\"0 -960 960 960\">\n",
              "    <path d=\"M120-120v-720h720v720H120Zm60-500h600v-160H180v160Zm220 220h160v-160H400v160Zm0 220h160v-160H400v160ZM180-400h160v-160H180v160Zm440 0h160v-160H620v160ZM180-180h160v-160H180v160Zm440 0h160v-160H620v160Z\"/>\n",
              "  </svg>\n",
              "    </button>\n",
              "\n",
              "  <style>\n",
              "    .colab-df-container {\n",
              "      display:flex;\n",
              "      gap: 12px;\n",
              "    }\n",
              "\n",
              "    .colab-df-convert {\n",
              "      background-color: #E8F0FE;\n",
              "      border: none;\n",
              "      border-radius: 50%;\n",
              "      cursor: pointer;\n",
              "      display: none;\n",
              "      fill: #1967D2;\n",
              "      height: 32px;\n",
              "      padding: 0 0 0 0;\n",
              "      width: 32px;\n",
              "    }\n",
              "\n",
              "    .colab-df-convert:hover {\n",
              "      background-color: #E2EBFA;\n",
              "      box-shadow: 0px 1px 2px rgba(60, 64, 67, 0.3), 0px 1px 3px 1px rgba(60, 64, 67, 0.15);\n",
              "      fill: #174EA6;\n",
              "    }\n",
              "\n",
              "    .colab-df-buttons div {\n",
              "      margin-bottom: 4px;\n",
              "    }\n",
              "\n",
              "    [theme=dark] .colab-df-convert {\n",
              "      background-color: #3B4455;\n",
              "      fill: #D2E3FC;\n",
              "    }\n",
              "\n",
              "    [theme=dark] .colab-df-convert:hover {\n",
              "      background-color: #434B5C;\n",
              "      box-shadow: 0px 1px 3px 1px rgba(0, 0, 0, 0.15);\n",
              "      filter: drop-shadow(0px 1px 2px rgba(0, 0, 0, 0.3));\n",
              "      fill: #FFFFFF;\n",
              "    }\n",
              "  </style>\n",
              "\n",
              "    <script>\n",
              "      const buttonEl =\n",
              "        document.querySelector('#df-40276dec-21a8-49b1-84e5-6316b3525478 button.colab-df-convert');\n",
              "      buttonEl.style.display =\n",
              "        google.colab.kernel.accessAllowed ? 'block' : 'none';\n",
              "\n",
              "      async function convertToInteractive(key) {\n",
              "        const element = document.querySelector('#df-40276dec-21a8-49b1-84e5-6316b3525478');\n",
              "        const dataTable =\n",
              "          await google.colab.kernel.invokeFunction('convertToInteractive',\n",
              "                                                    [key], {});\n",
              "        if (!dataTable) return;\n",
              "\n",
              "        const docLinkHtml = 'Like what you see? Visit the ' +\n",
              "          '<a target=\"_blank\" href=https://colab.research.google.com/notebooks/data_table.ipynb>data table notebook</a>'\n",
              "          + ' to learn more about interactive tables.';\n",
              "        element.innerHTML = '';\n",
              "        dataTable['output_type'] = 'display_data';\n",
              "        await google.colab.output.renderOutput(dataTable, element);\n",
              "        const docLink = document.createElement('div');\n",
              "        docLink.innerHTML = docLinkHtml;\n",
              "        element.appendChild(docLink);\n",
              "      }\n",
              "    </script>\n",
              "  </div>\n",
              "\n",
              "\n",
              "<div id=\"df-c61e704d-9fd3-4135-a761-5c1fb7483f20\">\n",
              "  <button class=\"colab-df-quickchart\" onclick=\"quickchart('df-c61e704d-9fd3-4135-a761-5c1fb7483f20')\"\n",
              "            title=\"Suggest charts\"\n",
              "            style=\"display:none;\">\n",
              "\n",
              "<svg xmlns=\"http://www.w3.org/2000/svg\" height=\"24px\"viewBox=\"0 0 24 24\"\n",
              "     width=\"24px\">\n",
              "    <g>\n",
              "        <path d=\"M19 3H5c-1.1 0-2 .9-2 2v14c0 1.1.9 2 2 2h14c1.1 0 2-.9 2-2V5c0-1.1-.9-2-2-2zM9 17H7v-7h2v7zm4 0h-2V7h2v10zm4 0h-2v-4h2v4z\"/>\n",
              "    </g>\n",
              "</svg>\n",
              "  </button>\n",
              "\n",
              "<style>\n",
              "  .colab-df-quickchart {\n",
              "      --bg-color: #E8F0FE;\n",
              "      --fill-color: #1967D2;\n",
              "      --hover-bg-color: #E2EBFA;\n",
              "      --hover-fill-color: #174EA6;\n",
              "      --disabled-fill-color: #AAA;\n",
              "      --disabled-bg-color: #DDD;\n",
              "  }\n",
              "\n",
              "  [theme=dark] .colab-df-quickchart {\n",
              "      --bg-color: #3B4455;\n",
              "      --fill-color: #D2E3FC;\n",
              "      --hover-bg-color: #434B5C;\n",
              "      --hover-fill-color: #FFFFFF;\n",
              "      --disabled-bg-color: #3B4455;\n",
              "      --disabled-fill-color: #666;\n",
              "  }\n",
              "\n",
              "  .colab-df-quickchart {\n",
              "    background-color: var(--bg-color);\n",
              "    border: none;\n",
              "    border-radius: 50%;\n",
              "    cursor: pointer;\n",
              "    display: none;\n",
              "    fill: var(--fill-color);\n",
              "    height: 32px;\n",
              "    padding: 0;\n",
              "    width: 32px;\n",
              "  }\n",
              "\n",
              "  .colab-df-quickchart:hover {\n",
              "    background-color: var(--hover-bg-color);\n",
              "    box-shadow: 0 1px 2px rgba(60, 64, 67, 0.3), 0 1px 3px 1px rgba(60, 64, 67, 0.15);\n",
              "    fill: var(--button-hover-fill-color);\n",
              "  }\n",
              "\n",
              "  .colab-df-quickchart-complete:disabled,\n",
              "  .colab-df-quickchart-complete:disabled:hover {\n",
              "    background-color: var(--disabled-bg-color);\n",
              "    fill: var(--disabled-fill-color);\n",
              "    box-shadow: none;\n",
              "  }\n",
              "\n",
              "  .colab-df-spinner {\n",
              "    border: 2px solid var(--fill-color);\n",
              "    border-color: transparent;\n",
              "    border-bottom-color: var(--fill-color);\n",
              "    animation:\n",
              "      spin 1s steps(1) infinite;\n",
              "  }\n",
              "\n",
              "  @keyframes spin {\n",
              "    0% {\n",
              "      border-color: transparent;\n",
              "      border-bottom-color: var(--fill-color);\n",
              "      border-left-color: var(--fill-color);\n",
              "    }\n",
              "    20% {\n",
              "      border-color: transparent;\n",
              "      border-left-color: var(--fill-color);\n",
              "      border-top-color: var(--fill-color);\n",
              "    }\n",
              "    30% {\n",
              "      border-color: transparent;\n",
              "      border-left-color: var(--fill-color);\n",
              "      border-top-color: var(--fill-color);\n",
              "      border-right-color: var(--fill-color);\n",
              "    }\n",
              "    40% {\n",
              "      border-color: transparent;\n",
              "      border-right-color: var(--fill-color);\n",
              "      border-top-color: var(--fill-color);\n",
              "    }\n",
              "    60% {\n",
              "      border-color: transparent;\n",
              "      border-right-color: var(--fill-color);\n",
              "    }\n",
              "    80% {\n",
              "      border-color: transparent;\n",
              "      border-right-color: var(--fill-color);\n",
              "      border-bottom-color: var(--fill-color);\n",
              "    }\n",
              "    90% {\n",
              "      border-color: transparent;\n",
              "      border-bottom-color: var(--fill-color);\n",
              "    }\n",
              "  }\n",
              "</style>\n",
              "\n",
              "  <script>\n",
              "    async function quickchart(key) {\n",
              "      const quickchartButtonEl =\n",
              "        document.querySelector('#' + key + ' button');\n",
              "      quickchartButtonEl.disabled = true;  // To prevent multiple clicks.\n",
              "      quickchartButtonEl.classList.add('colab-df-spinner');\n",
              "      try {\n",
              "        const charts = await google.colab.kernel.invokeFunction(\n",
              "            'suggestCharts', [key], {});\n",
              "      } catch (error) {\n",
              "        console.error('Error during call to suggestCharts:', error);\n",
              "      }\n",
              "      quickchartButtonEl.classList.remove('colab-df-spinner');\n",
              "      quickchartButtonEl.classList.add('colab-df-quickchart-complete');\n",
              "    }\n",
              "    (() => {\n",
              "      let quickchartButtonEl =\n",
              "        document.querySelector('#df-c61e704d-9fd3-4135-a761-5c1fb7483f20 button');\n",
              "      quickchartButtonEl.style.display =\n",
              "        google.colab.kernel.accessAllowed ? 'block' : 'none';\n",
              "    })();\n",
              "  </script>\n",
              "</div>\n",
              "\n",
              "  <div id=\"id_93a7f065-1330-43b8-b7ad-cf0dbc9eb364\">\n",
              "    <style>\n",
              "      .colab-df-generate {\n",
              "        background-color: #E8F0FE;\n",
              "        border: none;\n",
              "        border-radius: 50%;\n",
              "        cursor: pointer;\n",
              "        display: none;\n",
              "        fill: #1967D2;\n",
              "        height: 32px;\n",
              "        padding: 0 0 0 0;\n",
              "        width: 32px;\n",
              "      }\n",
              "\n",
              "      .colab-df-generate:hover {\n",
              "        background-color: #E2EBFA;\n",
              "        box-shadow: 0px 1px 2px rgba(60, 64, 67, 0.3), 0px 1px 3px 1px rgba(60, 64, 67, 0.15);\n",
              "        fill: #174EA6;\n",
              "      }\n",
              "\n",
              "      [theme=dark] .colab-df-generate {\n",
              "        background-color: #3B4455;\n",
              "        fill: #D2E3FC;\n",
              "      }\n",
              "\n",
              "      [theme=dark] .colab-df-generate:hover {\n",
              "        background-color: #434B5C;\n",
              "        box-shadow: 0px 1px 3px 1px rgba(0, 0, 0, 0.15);\n",
              "        filter: drop-shadow(0px 1px 2px rgba(0, 0, 0, 0.3));\n",
              "        fill: #FFFFFF;\n",
              "      }\n",
              "    </style>\n",
              "    <button class=\"colab-df-generate\" onclick=\"generateWithVariable('AB_df')\"\n",
              "            title=\"Generate code using this dataframe.\"\n",
              "            style=\"display:none;\">\n",
              "\n",
              "  <svg xmlns=\"http://www.w3.org/2000/svg\" height=\"24px\"viewBox=\"0 0 24 24\"\n",
              "       width=\"24px\">\n",
              "    <path d=\"M7,19H8.4L18.45,9,17,7.55,7,17.6ZM5,21V16.75L18.45,3.32a2,2,0,0,1,2.83,0l1.4,1.43a1.91,1.91,0,0,1,.58,1.4,1.91,1.91,0,0,1-.58,1.4L9.25,21ZM18.45,9,17,7.55Zm-12,3A5.31,5.31,0,0,0,4.9,8.1,5.31,5.31,0,0,0,1,6.5,5.31,5.31,0,0,0,4.9,4.9,5.31,5.31,0,0,0,6.5,1,5.31,5.31,0,0,0,8.1,4.9,5.31,5.31,0,0,0,12,6.5,5.46,5.46,0,0,0,6.5,12Z\"/>\n",
              "  </svg>\n",
              "    </button>\n",
              "    <script>\n",
              "      (() => {\n",
              "      const buttonEl =\n",
              "        document.querySelector('#id_93a7f065-1330-43b8-b7ad-cf0dbc9eb364 button.colab-df-generate');\n",
              "      buttonEl.style.display =\n",
              "        google.colab.kernel.accessAllowed ? 'block' : 'none';\n",
              "\n",
              "      buttonEl.onclick = () => {\n",
              "        google.colab.notebook.generateWithVariable('AB_df');\n",
              "      }\n",
              "      })();\n",
              "    </script>\n",
              "  </div>\n",
              "\n",
              "    </div>\n",
              "  </div>\n"
            ],
            "application/vnd.google.colaboratory.intrinsic+json": {
              "type": "dataframe",
              "variable_name": "AB_df"
            }
          },
          "metadata": {},
          "execution_count": 239
        }
      ],
      "source": [
        "#Drop license and house_rules\n",
        "AB_df.drop(['license','house_rules'],axis= 1, inplace=True)\n",
        "AB_df"
      ]
    },
    {
      "cell_type": "markdown",
      "metadata": {
        "id": "NLdmmeCqCFpF"
      },
      "source": [
        "In addition, the **country** column is supposed to only composed of United States, hence the null values in that column should be disregarded.\n",
        "\n",
        "Before dropping it let us verify that the dataset only contains information about the United States by checking the components of the **neighborhood group** column."
      ]
    },
    {
      "cell_type": "code",
      "execution_count": null,
      "metadata": {
        "colab": {
          "base_uri": "https://localhost:8080/",
          "height": 147
        },
        "id": "rfX0d5ZFCGjx",
        "outputId": "7dc93837-54f3-43f0-b684-3e442cea1d85"
      },
      "outputs": [
        {
          "output_type": "execute_result",
          "data": {
            "text/plain": [
              "country\n",
              "United States    102067\n",
              "Name: count, dtype: int64"
            ],
            "text/html": [
              "<div>\n",
              "<style scoped>\n",
              "    .dataframe tbody tr th:only-of-type {\n",
              "        vertical-align: middle;\n",
              "    }\n",
              "\n",
              "    .dataframe tbody tr th {\n",
              "        vertical-align: top;\n",
              "    }\n",
              "\n",
              "    .dataframe thead th {\n",
              "        text-align: right;\n",
              "    }\n",
              "</style>\n",
              "<table border=\"1\" class=\"dataframe\">\n",
              "  <thead>\n",
              "    <tr style=\"text-align: right;\">\n",
              "      <th></th>\n",
              "      <th>count</th>\n",
              "    </tr>\n",
              "    <tr>\n",
              "      <th>country</th>\n",
              "      <th></th>\n",
              "    </tr>\n",
              "  </thead>\n",
              "  <tbody>\n",
              "    <tr>\n",
              "      <th>United States</th>\n",
              "      <td>102067</td>\n",
              "    </tr>\n",
              "  </tbody>\n",
              "</table>\n",
              "</div><br><label><b>dtype:</b> int64</label>"
            ]
          },
          "metadata": {},
          "execution_count": 240
        }
      ],
      "source": [
        "AB_df['country'].value_counts()"
      ]
    },
    {
      "cell_type": "code",
      "execution_count": null,
      "metadata": {
        "colab": {
          "base_uri": "https://localhost:8080/",
          "height": 335
        },
        "id": "2jD00m75CNF0",
        "outputId": "1a8b68ff-2b27-43f4-c7ec-a3682fe5285b"
      },
      "outputs": [
        {
          "output_type": "execute_result",
          "data": {
            "text/plain": [
              "neighbourhood group\n",
              "Manhattan        43792\n",
              "Brooklyn         41842\n",
              "Queens           13267\n",
              "Bronx             2712\n",
              "Staten Island      955\n",
              "brookln              1\n",
              "manhatan             1\n",
              "Name: count, dtype: int64"
            ],
            "text/html": [
              "<div>\n",
              "<style scoped>\n",
              "    .dataframe tbody tr th:only-of-type {\n",
              "        vertical-align: middle;\n",
              "    }\n",
              "\n",
              "    .dataframe tbody tr th {\n",
              "        vertical-align: top;\n",
              "    }\n",
              "\n",
              "    .dataframe thead th {\n",
              "        text-align: right;\n",
              "    }\n",
              "</style>\n",
              "<table border=\"1\" class=\"dataframe\">\n",
              "  <thead>\n",
              "    <tr style=\"text-align: right;\">\n",
              "      <th></th>\n",
              "      <th>count</th>\n",
              "    </tr>\n",
              "    <tr>\n",
              "      <th>neighbourhood group</th>\n",
              "      <th></th>\n",
              "    </tr>\n",
              "  </thead>\n",
              "  <tbody>\n",
              "    <tr>\n",
              "      <th>Manhattan</th>\n",
              "      <td>43792</td>\n",
              "    </tr>\n",
              "    <tr>\n",
              "      <th>Brooklyn</th>\n",
              "      <td>41842</td>\n",
              "    </tr>\n",
              "    <tr>\n",
              "      <th>Queens</th>\n",
              "      <td>13267</td>\n",
              "    </tr>\n",
              "    <tr>\n",
              "      <th>Bronx</th>\n",
              "      <td>2712</td>\n",
              "    </tr>\n",
              "    <tr>\n",
              "      <th>Staten Island</th>\n",
              "      <td>955</td>\n",
              "    </tr>\n",
              "    <tr>\n",
              "      <th>brookln</th>\n",
              "      <td>1</td>\n",
              "    </tr>\n",
              "    <tr>\n",
              "      <th>manhatan</th>\n",
              "      <td>1</td>\n",
              "    </tr>\n",
              "  </tbody>\n",
              "</table>\n",
              "</div><br><label><b>dtype:</b> int64</label>"
            ]
          },
          "metadata": {},
          "execution_count": 241
        }
      ],
      "source": [
        "AB_df['neighbourhood group'].value_counts()"
      ]
    },
    {
      "cell_type": "markdown",
      "metadata": {
        "id": "BNvFiMUJCSFa"
      },
      "source": [
        "We can then drop the **country** column as well"
      ]
    },
    {
      "cell_type": "code",
      "execution_count": null,
      "metadata": {
        "id": "BY4Ys5hFCd4d"
      },
      "outputs": [],
      "source": [
        "AB_df.drop(['country'],axis=1,inplace=True)"
      ]
    },
    {
      "cell_type": "markdown",
      "metadata": {
        "id": "IzIR6uVTD3lW"
      },
      "source": [
        "let us review the ratio of missing values in the dataset before proceeding to remove the null values"
      ]
    },
    {
      "cell_type": "code",
      "execution_count": null,
      "metadata": {
        "colab": {
          "base_uri": "https://localhost:8080/",
          "height": 805
        },
        "id": "CVNbolGvD21x",
        "outputId": "54514930-9580-47d8-9cd2-56937ff6cfb6"
      },
      "outputs": [
        {
          "output_type": "execute_result",
          "data": {
            "text/plain": [
              "last review                       15.49\n",
              "reviews per month                 15.48\n",
              "availability 365                   0.44\n",
              "minimum nights                     0.40\n",
              "host name                          0.40\n",
              "review rate number                 0.32\n",
              "calculated host listings count     0.31\n",
              "host_identity_verified             0.28\n",
              "service fee                        0.27\n",
              "NAME                               0.24\n",
              "price                              0.24\n",
              "Construction year                  0.21\n",
              "number of reviews                  0.18\n",
              "country code                       0.13\n",
              "instant_bookable                   0.10\n",
              "cancellation_policy                0.07\n",
              "neighbourhood group                0.03\n",
              "neighbourhood                      0.02\n",
              "long                               0.01\n",
              "lat                                0.01\n",
              "host id                            0.00\n",
              "id                                 0.00\n",
              "room type                          0.00\n",
              "dtype: float64"
            ],
            "text/html": [
              "<div>\n",
              "<style scoped>\n",
              "    .dataframe tbody tr th:only-of-type {\n",
              "        vertical-align: middle;\n",
              "    }\n",
              "\n",
              "    .dataframe tbody tr th {\n",
              "        vertical-align: top;\n",
              "    }\n",
              "\n",
              "    .dataframe thead th {\n",
              "        text-align: right;\n",
              "    }\n",
              "</style>\n",
              "<table border=\"1\" class=\"dataframe\">\n",
              "  <thead>\n",
              "    <tr style=\"text-align: right;\">\n",
              "      <th></th>\n",
              "      <th>0</th>\n",
              "    </tr>\n",
              "  </thead>\n",
              "  <tbody>\n",
              "    <tr>\n",
              "      <th>last review</th>\n",
              "      <td>15.49</td>\n",
              "    </tr>\n",
              "    <tr>\n",
              "      <th>reviews per month</th>\n",
              "      <td>15.48</td>\n",
              "    </tr>\n",
              "    <tr>\n",
              "      <th>availability 365</th>\n",
              "      <td>0.44</td>\n",
              "    </tr>\n",
              "    <tr>\n",
              "      <th>minimum nights</th>\n",
              "      <td>0.40</td>\n",
              "    </tr>\n",
              "    <tr>\n",
              "      <th>host name</th>\n",
              "      <td>0.40</td>\n",
              "    </tr>\n",
              "    <tr>\n",
              "      <th>review rate number</th>\n",
              "      <td>0.32</td>\n",
              "    </tr>\n",
              "    <tr>\n",
              "      <th>calculated host listings count</th>\n",
              "      <td>0.31</td>\n",
              "    </tr>\n",
              "    <tr>\n",
              "      <th>host_identity_verified</th>\n",
              "      <td>0.28</td>\n",
              "    </tr>\n",
              "    <tr>\n",
              "      <th>service fee</th>\n",
              "      <td>0.27</td>\n",
              "    </tr>\n",
              "    <tr>\n",
              "      <th>NAME</th>\n",
              "      <td>0.24</td>\n",
              "    </tr>\n",
              "    <tr>\n",
              "      <th>price</th>\n",
              "      <td>0.24</td>\n",
              "    </tr>\n",
              "    <tr>\n",
              "      <th>Construction year</th>\n",
              "      <td>0.21</td>\n",
              "    </tr>\n",
              "    <tr>\n",
              "      <th>number of reviews</th>\n",
              "      <td>0.18</td>\n",
              "    </tr>\n",
              "    <tr>\n",
              "      <th>country code</th>\n",
              "      <td>0.13</td>\n",
              "    </tr>\n",
              "    <tr>\n",
              "      <th>instant_bookable</th>\n",
              "      <td>0.10</td>\n",
              "    </tr>\n",
              "    <tr>\n",
              "      <th>cancellation_policy</th>\n",
              "      <td>0.07</td>\n",
              "    </tr>\n",
              "    <tr>\n",
              "      <th>neighbourhood group</th>\n",
              "      <td>0.03</td>\n",
              "    </tr>\n",
              "    <tr>\n",
              "      <th>neighbourhood</th>\n",
              "      <td>0.02</td>\n",
              "    </tr>\n",
              "    <tr>\n",
              "      <th>long</th>\n",
              "      <td>0.01</td>\n",
              "    </tr>\n",
              "    <tr>\n",
              "      <th>lat</th>\n",
              "      <td>0.01</td>\n",
              "    </tr>\n",
              "    <tr>\n",
              "      <th>host id</th>\n",
              "      <td>0.00</td>\n",
              "    </tr>\n",
              "    <tr>\n",
              "      <th>id</th>\n",
              "      <td>0.00</td>\n",
              "    </tr>\n",
              "    <tr>\n",
              "      <th>room type</th>\n",
              "      <td>0.00</td>\n",
              "    </tr>\n",
              "  </tbody>\n",
              "</table>\n",
              "</div><br><label><b>dtype:</b> float64</label>"
            ]
          },
          "metadata": {},
          "execution_count": 243
        }
      ],
      "source": [
        "(round(AB_df.isnull().sum() / AB_df.shape[0] * 100, 2)).sort_values(ascending=False)"
      ]
    },
    {
      "cell_type": "markdown",
      "metadata": {
        "id": "mwMQSuhCDvzQ"
      },
      "source": [
        "We will now drop the null values"
      ]
    },
    {
      "cell_type": "code",
      "execution_count": null,
      "metadata": {
        "id": "aVpUf5HsDfae"
      },
      "outputs": [],
      "source": [
        "AB_df.dropna(inplace=True)"
      ]
    },
    {
      "cell_type": "markdown",
      "metadata": {
        "id": "JtQdaENMgARD"
      },
      "source": [
        "#### Handling Duplicates"
      ]
    },
    {
      "cell_type": "code",
      "execution_count": null,
      "metadata": {
        "colab": {
          "base_uri": "https://localhost:8080/"
        },
        "id": "H2cT_Q8lfYhF",
        "outputId": "946f99d6-a191-49fa-c44b-1bc37f44aa97"
      },
      "outputs": [
        {
          "output_type": "stream",
          "name": "stdout",
          "text": [
            "This dataset contains 466 duplicated values\n"
          ]
        }
      ],
      "source": [
        "dup_num = AB_df.duplicated().sum()\n",
        "print(f\"This dataset contains {dup_num} duplicated values\")"
      ]
    },
    {
      "cell_type": "markdown",
      "metadata": {
        "id": "KiZMJXiQEaGD"
      },
      "source": [
        "We will drop these duplicates as well before exploring the data"
      ]
    },
    {
      "cell_type": "code",
      "execution_count": null,
      "metadata": {
        "colab": {
          "base_uri": "https://localhost:8080/"
        },
        "id": "K1wjToluC6fF",
        "outputId": "9f73d81e-0811-4590-b49b-e59f0647fa4e"
      },
      "outputs": [
        {
          "output_type": "stream",
          "name": "stdout",
          "text": [
            "This dataset now contains 0 duplicated values\n"
          ]
        }
      ],
      "source": [
        "#Drop duplicates\n",
        "AB_df.drop_duplicates(inplace=True)\n",
        "dup_num = AB_df.duplicated().sum()\n",
        "print(f\"This dataset now contains {dup_num} duplicated values\")"
      ]
    },
    {
      "cell_type": "markdown",
      "metadata": {
        "id": "hoXqTn8gpUad"
      },
      "source": [
        "## NYC Weather Dataset"
      ]
    },
    {
      "cell_type": "markdown",
      "metadata": {
        "id": "FOanMUg_pcAE"
      },
      "source": [
        "### Read Data"
      ]
    },
    {
      "cell_type": "code",
      "execution_count": null,
      "metadata": {
        "colab": {
          "base_uri": "https://localhost:8080/",
          "height": 206
        },
        "id": "xx2WEMLcpwg4",
        "outputId": "f5fe8d5d-3c92-4fcd-8cb4-8351ccf7aa34"
      },
      "outputs": [
        {
          "output_type": "execute_result",
          "data": {
            "text/plain": [
              "     date  tmax  tmin  tavg  departure  HDD  CDD precipitation new_snow  \\\n",
              "0  1/1/19    60    40  50.0       13.9   15    0          0.08        0   \n",
              "1  2/1/19    41    35  38.0        2.1   27    0             0        0   \n",
              "2  3/1/19    45    39  42.0        6.3   23    0             T        0   \n",
              "3  4/1/19    47    37  42.0        6.5   23    0             0        0   \n",
              "4  5/1/19    47    42  44.5        9.1   20    0          0.45        0   \n",
              "\n",
              "  snow_depth  \n",
              "0          0  \n",
              "1          0  \n",
              "2          0  \n",
              "3          0  \n",
              "4          0  "
            ],
            "text/html": [
              "\n",
              "  <div id=\"df-91dc3d23-3724-4fa6-b5e2-2e15626eed84\" class=\"colab-df-container\">\n",
              "    <div>\n",
              "<style scoped>\n",
              "    .dataframe tbody tr th:only-of-type {\n",
              "        vertical-align: middle;\n",
              "    }\n",
              "\n",
              "    .dataframe tbody tr th {\n",
              "        vertical-align: top;\n",
              "    }\n",
              "\n",
              "    .dataframe thead th {\n",
              "        text-align: right;\n",
              "    }\n",
              "</style>\n",
              "<table border=\"1\" class=\"dataframe\">\n",
              "  <thead>\n",
              "    <tr style=\"text-align: right;\">\n",
              "      <th></th>\n",
              "      <th>date</th>\n",
              "      <th>tmax</th>\n",
              "      <th>tmin</th>\n",
              "      <th>tavg</th>\n",
              "      <th>departure</th>\n",
              "      <th>HDD</th>\n",
              "      <th>CDD</th>\n",
              "      <th>precipitation</th>\n",
              "      <th>new_snow</th>\n",
              "      <th>snow_depth</th>\n",
              "    </tr>\n",
              "  </thead>\n",
              "  <tbody>\n",
              "    <tr>\n",
              "      <th>0</th>\n",
              "      <td>1/1/19</td>\n",
              "      <td>60</td>\n",
              "      <td>40</td>\n",
              "      <td>50.0</td>\n",
              "      <td>13.9</td>\n",
              "      <td>15</td>\n",
              "      <td>0</td>\n",
              "      <td>0.08</td>\n",
              "      <td>0</td>\n",
              "      <td>0</td>\n",
              "    </tr>\n",
              "    <tr>\n",
              "      <th>1</th>\n",
              "      <td>2/1/19</td>\n",
              "      <td>41</td>\n",
              "      <td>35</td>\n",
              "      <td>38.0</td>\n",
              "      <td>2.1</td>\n",
              "      <td>27</td>\n",
              "      <td>0</td>\n",
              "      <td>0</td>\n",
              "      <td>0</td>\n",
              "      <td>0</td>\n",
              "    </tr>\n",
              "    <tr>\n",
              "      <th>2</th>\n",
              "      <td>3/1/19</td>\n",
              "      <td>45</td>\n",
              "      <td>39</td>\n",
              "      <td>42.0</td>\n",
              "      <td>6.3</td>\n",
              "      <td>23</td>\n",
              "      <td>0</td>\n",
              "      <td>T</td>\n",
              "      <td>0</td>\n",
              "      <td>0</td>\n",
              "    </tr>\n",
              "    <tr>\n",
              "      <th>3</th>\n",
              "      <td>4/1/19</td>\n",
              "      <td>47</td>\n",
              "      <td>37</td>\n",
              "      <td>42.0</td>\n",
              "      <td>6.5</td>\n",
              "      <td>23</td>\n",
              "      <td>0</td>\n",
              "      <td>0</td>\n",
              "      <td>0</td>\n",
              "      <td>0</td>\n",
              "    </tr>\n",
              "    <tr>\n",
              "      <th>4</th>\n",
              "      <td>5/1/19</td>\n",
              "      <td>47</td>\n",
              "      <td>42</td>\n",
              "      <td>44.5</td>\n",
              "      <td>9.1</td>\n",
              "      <td>20</td>\n",
              "      <td>0</td>\n",
              "      <td>0.45</td>\n",
              "      <td>0</td>\n",
              "      <td>0</td>\n",
              "    </tr>\n",
              "  </tbody>\n",
              "</table>\n",
              "</div>\n",
              "    <div class=\"colab-df-buttons\">\n",
              "\n",
              "  <div class=\"colab-df-container\">\n",
              "    <button class=\"colab-df-convert\" onclick=\"convertToInteractive('df-91dc3d23-3724-4fa6-b5e2-2e15626eed84')\"\n",
              "            title=\"Convert this dataframe to an interactive table.\"\n",
              "            style=\"display:none;\">\n",
              "\n",
              "  <svg xmlns=\"http://www.w3.org/2000/svg\" height=\"24px\" viewBox=\"0 -960 960 960\">\n",
              "    <path d=\"M120-120v-720h720v720H120Zm60-500h600v-160H180v160Zm220 220h160v-160H400v160Zm0 220h160v-160H400v160ZM180-400h160v-160H180v160Zm440 0h160v-160H620v160ZM180-180h160v-160H180v160Zm440 0h160v-160H620v160Z\"/>\n",
              "  </svg>\n",
              "    </button>\n",
              "\n",
              "  <style>\n",
              "    .colab-df-container {\n",
              "      display:flex;\n",
              "      gap: 12px;\n",
              "    }\n",
              "\n",
              "    .colab-df-convert {\n",
              "      background-color: #E8F0FE;\n",
              "      border: none;\n",
              "      border-radius: 50%;\n",
              "      cursor: pointer;\n",
              "      display: none;\n",
              "      fill: #1967D2;\n",
              "      height: 32px;\n",
              "      padding: 0 0 0 0;\n",
              "      width: 32px;\n",
              "    }\n",
              "\n",
              "    .colab-df-convert:hover {\n",
              "      background-color: #E2EBFA;\n",
              "      box-shadow: 0px 1px 2px rgba(60, 64, 67, 0.3), 0px 1px 3px 1px rgba(60, 64, 67, 0.15);\n",
              "      fill: #174EA6;\n",
              "    }\n",
              "\n",
              "    .colab-df-buttons div {\n",
              "      margin-bottom: 4px;\n",
              "    }\n",
              "\n",
              "    [theme=dark] .colab-df-convert {\n",
              "      background-color: #3B4455;\n",
              "      fill: #D2E3FC;\n",
              "    }\n",
              "\n",
              "    [theme=dark] .colab-df-convert:hover {\n",
              "      background-color: #434B5C;\n",
              "      box-shadow: 0px 1px 3px 1px rgba(0, 0, 0, 0.15);\n",
              "      filter: drop-shadow(0px 1px 2px rgba(0, 0, 0, 0.3));\n",
              "      fill: #FFFFFF;\n",
              "    }\n",
              "  </style>\n",
              "\n",
              "    <script>\n",
              "      const buttonEl =\n",
              "        document.querySelector('#df-91dc3d23-3724-4fa6-b5e2-2e15626eed84 button.colab-df-convert');\n",
              "      buttonEl.style.display =\n",
              "        google.colab.kernel.accessAllowed ? 'block' : 'none';\n",
              "\n",
              "      async function convertToInteractive(key) {\n",
              "        const element = document.querySelector('#df-91dc3d23-3724-4fa6-b5e2-2e15626eed84');\n",
              "        const dataTable =\n",
              "          await google.colab.kernel.invokeFunction('convertToInteractive',\n",
              "                                                    [key], {});\n",
              "        if (!dataTable) return;\n",
              "\n",
              "        const docLinkHtml = 'Like what you see? Visit the ' +\n",
              "          '<a target=\"_blank\" href=https://colab.research.google.com/notebooks/data_table.ipynb>data table notebook</a>'\n",
              "          + ' to learn more about interactive tables.';\n",
              "        element.innerHTML = '';\n",
              "        dataTable['output_type'] = 'display_data';\n",
              "        await google.colab.output.renderOutput(dataTable, element);\n",
              "        const docLink = document.createElement('div');\n",
              "        docLink.innerHTML = docLinkHtml;\n",
              "        element.appendChild(docLink);\n",
              "      }\n",
              "    </script>\n",
              "  </div>\n",
              "\n",
              "\n",
              "<div id=\"df-da09a321-5358-4fe4-9033-372b764390f7\">\n",
              "  <button class=\"colab-df-quickchart\" onclick=\"quickchart('df-da09a321-5358-4fe4-9033-372b764390f7')\"\n",
              "            title=\"Suggest charts\"\n",
              "            style=\"display:none;\">\n",
              "\n",
              "<svg xmlns=\"http://www.w3.org/2000/svg\" height=\"24px\"viewBox=\"0 0 24 24\"\n",
              "     width=\"24px\">\n",
              "    <g>\n",
              "        <path d=\"M19 3H5c-1.1 0-2 .9-2 2v14c0 1.1.9 2 2 2h14c1.1 0 2-.9 2-2V5c0-1.1-.9-2-2-2zM9 17H7v-7h2v7zm4 0h-2V7h2v10zm4 0h-2v-4h2v4z\"/>\n",
              "    </g>\n",
              "</svg>\n",
              "  </button>\n",
              "\n",
              "<style>\n",
              "  .colab-df-quickchart {\n",
              "      --bg-color: #E8F0FE;\n",
              "      --fill-color: #1967D2;\n",
              "      --hover-bg-color: #E2EBFA;\n",
              "      --hover-fill-color: #174EA6;\n",
              "      --disabled-fill-color: #AAA;\n",
              "      --disabled-bg-color: #DDD;\n",
              "  }\n",
              "\n",
              "  [theme=dark] .colab-df-quickchart {\n",
              "      --bg-color: #3B4455;\n",
              "      --fill-color: #D2E3FC;\n",
              "      --hover-bg-color: #434B5C;\n",
              "      --hover-fill-color: #FFFFFF;\n",
              "      --disabled-bg-color: #3B4455;\n",
              "      --disabled-fill-color: #666;\n",
              "  }\n",
              "\n",
              "  .colab-df-quickchart {\n",
              "    background-color: var(--bg-color);\n",
              "    border: none;\n",
              "    border-radius: 50%;\n",
              "    cursor: pointer;\n",
              "    display: none;\n",
              "    fill: var(--fill-color);\n",
              "    height: 32px;\n",
              "    padding: 0;\n",
              "    width: 32px;\n",
              "  }\n",
              "\n",
              "  .colab-df-quickchart:hover {\n",
              "    background-color: var(--hover-bg-color);\n",
              "    box-shadow: 0 1px 2px rgba(60, 64, 67, 0.3), 0 1px 3px 1px rgba(60, 64, 67, 0.15);\n",
              "    fill: var(--button-hover-fill-color);\n",
              "  }\n",
              "\n",
              "  .colab-df-quickchart-complete:disabled,\n",
              "  .colab-df-quickchart-complete:disabled:hover {\n",
              "    background-color: var(--disabled-bg-color);\n",
              "    fill: var(--disabled-fill-color);\n",
              "    box-shadow: none;\n",
              "  }\n",
              "\n",
              "  .colab-df-spinner {\n",
              "    border: 2px solid var(--fill-color);\n",
              "    border-color: transparent;\n",
              "    border-bottom-color: var(--fill-color);\n",
              "    animation:\n",
              "      spin 1s steps(1) infinite;\n",
              "  }\n",
              "\n",
              "  @keyframes spin {\n",
              "    0% {\n",
              "      border-color: transparent;\n",
              "      border-bottom-color: var(--fill-color);\n",
              "      border-left-color: var(--fill-color);\n",
              "    }\n",
              "    20% {\n",
              "      border-color: transparent;\n",
              "      border-left-color: var(--fill-color);\n",
              "      border-top-color: var(--fill-color);\n",
              "    }\n",
              "    30% {\n",
              "      border-color: transparent;\n",
              "      border-left-color: var(--fill-color);\n",
              "      border-top-color: var(--fill-color);\n",
              "      border-right-color: var(--fill-color);\n",
              "    }\n",
              "    40% {\n",
              "      border-color: transparent;\n",
              "      border-right-color: var(--fill-color);\n",
              "      border-top-color: var(--fill-color);\n",
              "    }\n",
              "    60% {\n",
              "      border-color: transparent;\n",
              "      border-right-color: var(--fill-color);\n",
              "    }\n",
              "    80% {\n",
              "      border-color: transparent;\n",
              "      border-right-color: var(--fill-color);\n",
              "      border-bottom-color: var(--fill-color);\n",
              "    }\n",
              "    90% {\n",
              "      border-color: transparent;\n",
              "      border-bottom-color: var(--fill-color);\n",
              "    }\n",
              "  }\n",
              "</style>\n",
              "\n",
              "  <script>\n",
              "    async function quickchart(key) {\n",
              "      const quickchartButtonEl =\n",
              "        document.querySelector('#' + key + ' button');\n",
              "      quickchartButtonEl.disabled = true;  // To prevent multiple clicks.\n",
              "      quickchartButtonEl.classList.add('colab-df-spinner');\n",
              "      try {\n",
              "        const charts = await google.colab.kernel.invokeFunction(\n",
              "            'suggestCharts', [key], {});\n",
              "      } catch (error) {\n",
              "        console.error('Error during call to suggestCharts:', error);\n",
              "      }\n",
              "      quickchartButtonEl.classList.remove('colab-df-spinner');\n",
              "      quickchartButtonEl.classList.add('colab-df-quickchart-complete');\n",
              "    }\n",
              "    (() => {\n",
              "      let quickchartButtonEl =\n",
              "        document.querySelector('#df-da09a321-5358-4fe4-9033-372b764390f7 button');\n",
              "      quickchartButtonEl.style.display =\n",
              "        google.colab.kernel.accessAllowed ? 'block' : 'none';\n",
              "    })();\n",
              "  </script>\n",
              "</div>\n",
              "\n",
              "    </div>\n",
              "  </div>\n"
            ],
            "application/vnd.google.colaboratory.intrinsic+json": {
              "type": "dataframe",
              "variable_name": "weather_df",
              "summary": "{\n  \"name\": \"weather_df\",\n  \"rows\": 365,\n  \"fields\": [\n    {\n      \"column\": \"date\",\n      \"properties\": {\n        \"dtype\": \"object\",\n        \"num_unique_values\": 365,\n        \"samples\": [\n          \"13/7/19\",\n          \"3/2/19\",\n          \"16/1/19\"\n        ],\n        \"semantic_type\": \"\",\n        \"description\": \"\"\n      }\n    },\n    {\n      \"column\": \"tmax\",\n      \"properties\": {\n        \"dtype\": \"number\",\n        \"std\": 18,\n        \"min\": 16,\n        \"max\": 100,\n        \"num_unique_values\": 72,\n        \"samples\": [\n          49,\n          90,\n          17\n        ],\n        \"semantic_type\": \"\",\n        \"description\": \"\"\n      }\n    },\n    {\n      \"column\": \"tmin\",\n      \"properties\": {\n        \"dtype\": \"number\",\n        \"std\": 17,\n        \"min\": 3,\n        \"max\": 83,\n        \"num_unique_values\": 68,\n        \"samples\": [\n          60,\n          7,\n          42\n        ],\n        \"semantic_type\": \"\",\n        \"description\": \"\"\n      }\n    },\n    {\n      \"column\": \"tavg\",\n      \"properties\": {\n        \"dtype\": \"number\",\n        \"std\": 17.821403630667064,\n        \"min\": 10.0,\n        \"max\": 91.5,\n        \"num_unique_values\": 125,\n        \"samples\": [\n          38.5,\n          48.0,\n          40.0\n        ],\n        \"semantic_type\": \"\",\n        \"description\": \"\"\n      }\n    },\n    {\n      \"column\": \"departure\",\n      \"properties\": {\n        \"dtype\": \"number\",\n        \"std\": 6.421460191109207,\n        \"min\": -24.1,\n        \"max\": 17.4,\n        \"num_unique_values\": 196,\n        \"samples\": [\n          -2.6,\n          -2.9,\n          -3.9\n        ],\n        \"semantic_type\": \"\",\n        \"description\": \"\"\n      }\n    },\n    {\n      \"column\": \"HDD\",\n      \"properties\": {\n        \"dtype\": \"number\",\n        \"std\": 13,\n        \"min\": 0,\n        \"max\": 55,\n        \"num_unique_values\": 45,\n        \"samples\": [\n          6,\n          25,\n          16\n        ],\n        \"semantic_type\": \"\",\n        \"description\": \"\"\n      }\n    },\n    {\n      \"column\": \"CDD\",\n      \"properties\": {\n        \"dtype\": \"number\",\n        \"std\": 6,\n        \"min\": 0,\n        \"max\": 27,\n        \"num_unique_values\": 25,\n        \"samples\": [\n          9,\n          17,\n          0\n        ],\n        \"semantic_type\": \"\",\n        \"description\": \"\"\n      }\n    },\n    {\n      \"column\": \"precipitation\",\n      \"properties\": {\n        \"dtype\": \"category\",\n        \"num_unique_values\": 71,\n        \"samples\": [\n          \"0.35\",\n          \"0.08\",\n          \"0.54\"\n        ],\n        \"semantic_type\": \"\",\n        \"description\": \"\"\n      }\n    },\n    {\n      \"column\": \"new_snow\",\n      \"properties\": {\n        \"dtype\": \"category\",\n        \"num_unique_values\": 14,\n        \"samples\": [\n          \"2.5\",\n          \"0.3\",\n          \"0\"\n        ],\n        \"semantic_type\": \"\",\n        \"description\": \"\"\n      }\n    },\n    {\n      \"column\": \"snow_depth\",\n      \"properties\": {\n        \"dtype\": \"category\",\n        \"num_unique_values\": 6,\n        \"samples\": [\n          \"0\",\n          \"T\",\n          \"2\"\n        ],\n        \"semantic_type\": \"\",\n        \"description\": \"\"\n      }\n    }\n  ]\n}"
            }
          },
          "metadata": {},
          "execution_count": 247
        }
      ],
      "source": [
        "weather_df = pd.read_csv('nyc_temperature.csv')\n",
        "weather_df.head()"
      ]
    },
    {
      "cell_type": "code",
      "execution_count": null,
      "metadata": {
        "id": "BBSFGQ3hqMTH"
      },
      "outputs": [],
      "source": []
    },
    {
      "cell_type": "markdown",
      "metadata": {
        "id": "8-_9va-cpf9L"
      },
      "source": [
        "### Data Cleaning"
      ]
    },
    {
      "cell_type": "markdown",
      "metadata": {
        "id": "pTMdCQeGpnSy"
      },
      "source": [
        "#### Handling Null Values"
      ]
    },
    {
      "cell_type": "code",
      "execution_count": null,
      "metadata": {
        "colab": {
          "base_uri": "https://localhost:8080/",
          "height": 398
        },
        "id": "voRMyNd1qoU0",
        "outputId": "4e4d4b75-0d64-49c3-ea28-6c6660225c03"
      },
      "outputs": [
        {
          "output_type": "execute_result",
          "data": {
            "text/plain": [
              "date             0\n",
              "tmax             0\n",
              "tmin             0\n",
              "tavg             0\n",
              "departure        0\n",
              "HDD              0\n",
              "CDD              0\n",
              "precipitation    0\n",
              "new_snow         0\n",
              "snow_depth       0\n",
              "dtype: int64"
            ],
            "text/html": [
              "<div>\n",
              "<style scoped>\n",
              "    .dataframe tbody tr th:only-of-type {\n",
              "        vertical-align: middle;\n",
              "    }\n",
              "\n",
              "    .dataframe tbody tr th {\n",
              "        vertical-align: top;\n",
              "    }\n",
              "\n",
              "    .dataframe thead th {\n",
              "        text-align: right;\n",
              "    }\n",
              "</style>\n",
              "<table border=\"1\" class=\"dataframe\">\n",
              "  <thead>\n",
              "    <tr style=\"text-align: right;\">\n",
              "      <th></th>\n",
              "      <th>0</th>\n",
              "    </tr>\n",
              "  </thead>\n",
              "  <tbody>\n",
              "    <tr>\n",
              "      <th>date</th>\n",
              "      <td>0</td>\n",
              "    </tr>\n",
              "    <tr>\n",
              "      <th>tmax</th>\n",
              "      <td>0</td>\n",
              "    </tr>\n",
              "    <tr>\n",
              "      <th>tmin</th>\n",
              "      <td>0</td>\n",
              "    </tr>\n",
              "    <tr>\n",
              "      <th>tavg</th>\n",
              "      <td>0</td>\n",
              "    </tr>\n",
              "    <tr>\n",
              "      <th>departure</th>\n",
              "      <td>0</td>\n",
              "    </tr>\n",
              "    <tr>\n",
              "      <th>HDD</th>\n",
              "      <td>0</td>\n",
              "    </tr>\n",
              "    <tr>\n",
              "      <th>CDD</th>\n",
              "      <td>0</td>\n",
              "    </tr>\n",
              "    <tr>\n",
              "      <th>precipitation</th>\n",
              "      <td>0</td>\n",
              "    </tr>\n",
              "    <tr>\n",
              "      <th>new_snow</th>\n",
              "      <td>0</td>\n",
              "    </tr>\n",
              "    <tr>\n",
              "      <th>snow_depth</th>\n",
              "      <td>0</td>\n",
              "    </tr>\n",
              "  </tbody>\n",
              "</table>\n",
              "</div><br><label><b>dtype:</b> int64</label>"
            ]
          },
          "metadata": {},
          "execution_count": 248
        }
      ],
      "source": [
        "weather_df.isnull().sum()"
      ]
    },
    {
      "cell_type": "markdown",
      "metadata": {
        "id": "b52UZ63eqyAr"
      },
      "source": [
        "This dataset does not contain any null values. No further processing needed regarding missing values"
      ]
    },
    {
      "cell_type": "markdown",
      "metadata": {
        "id": "ix2jcrkRprtB"
      },
      "source": [
        "#### Handling Duplicates"
      ]
    },
    {
      "cell_type": "code",
      "execution_count": null,
      "metadata": {
        "colab": {
          "base_uri": "https://localhost:8080/"
        },
        "id": "cMkgejqkpZo8",
        "outputId": "118d0408-119f-45b8-e8f2-ec94931d423b"
      },
      "outputs": [
        {
          "output_type": "execute_result",
          "data": {
            "text/plain": [
              "np.int64(0)"
            ]
          },
          "metadata": {},
          "execution_count": 249
        }
      ],
      "source": [
        "weather_df.duplicated().sum()"
      ]
    },
    {
      "cell_type": "markdown",
      "metadata": {
        "id": "xuBD-4tVrDgb"
      },
      "source": [
        "Nor does it contain any duplicated values"
      ]
    },
    {
      "cell_type": "code",
      "execution_count": null,
      "metadata": {
        "id": "6WwrClQMKXW2"
      },
      "outputs": [],
      "source": []
    },
    {
      "cell_type": "markdown",
      "metadata": {
        "id": "qCi1aCZxI8hp"
      },
      "source": [
        "## NYD Complaint Data"
      ]
    },
    {
      "cell_type": "markdown",
      "metadata": {
        "id": "ezb8C035J9Y-"
      },
      "source": [
        "Notice that we are using the 2018 incidents because customers do look at historical events before booking their places. Therefore we thought it would more accurate to use recent historical data instead of information in the same year"
      ]
    },
    {
      "cell_type": "markdown",
      "metadata": {
        "id": "K3HoBMQ8JHrn"
      },
      "source": [
        "### Read Data"
      ]
    },
    {
      "cell_type": "code",
      "execution_count": null,
      "metadata": {
        "colab": {
          "base_uri": "https://localhost:8080/",
          "height": 360
        },
        "id": "ZHMNmckVJsqV",
        "outputId": "39074c8d-6ee0-4f63-f9e3-c59ab446baf0"
      },
      "outputs": [
        {
          "output_type": "execute_result",
          "data": {
            "text/plain": [
              "   CMPLNT_NUM  ADDR_PCT_CD        BORO_NM CMPLNT_FR_DT CMPLNT_FR_TM  \\\n",
              "0   831526991           67       BROOKLYN   03/31/2018     23:30:00   \n",
              "1   496736340          120  STATEN ISLAND   03/31/2018     23:20:00   \n",
              "2   399593692          105         QUEENS   03/31/2018     23:15:00   \n",
              "3   282376455          110         QUEENS   03/31/2018     23:10:00   \n",
              "4   201598299           78       BROOKLYN   03/31/2018     23:10:00   \n",
              "\n",
              "  CMPLNT_TO_DT CMPLNT_TO_TM CRM_ATPT_CPTD_CD         HADEVELOPT  HOUSING_PSA  \\\n",
              "0   03/31/2018     23:37:00        COMPLETED                NaN          NaN   \n",
              "1   03/31/2018     23:30:00        COMPLETED   RICHMOND TERRACE      10143.0   \n",
              "2   03/31/2018     23:20:00        COMPLETED                NaN          NaN   \n",
              "3   03/31/2018     23:20:00        COMPLETED                NaN          NaN   \n",
              "4   03/31/2018     23:19:00        COMPLETED  572 WARREN STREET       2379.0   \n",
              "\n",
              "   ...  SUSP_SEX TRANSIT_DISTRICT  VIC_AGE_GROUP        VIC_RACE VIC_SEX  \\\n",
              "0  ...       NaN              NaN        UNKNOWN         UNKNOWN       E   \n",
              "1  ...         M              NaN            <18           BLACK       F   \n",
              "2  ...         M              NaN          18-24           BLACK       F   \n",
              "3  ...         M              NaN          25-44  WHITE HISPANIC       M   \n",
              "4  ...         F              NaN          25-44           BLACK       F   \n",
              "\n",
              "  X_COORD_CD Y_COORD_CD   Latitude  Longitude                        Lat_Lon  \n",
              "0  1003227.0   177460.0  40.653751 -73.931609  (40.653751263, -73.931609227)  \n",
              "1   962748.0   174174.0  40.644726 -74.077483  (40.644726131, -74.077483159)  \n",
              "2  1056932.0   200034.0  40.715434 -73.737816  (40.715433534, -73.737816163)  \n",
              "3  1014990.0   210503.0  40.744414 -73.889065  (40.744413503, -73.889065158)  \n",
              "4   989141.0   187733.0  40.681967 -73.982367  (40.681967344, -73.982367054)  \n",
              "\n",
              "[5 rows x 35 columns]"
            ],
            "text/html": [
              "\n",
              "  <div id=\"df-0baddb96-f826-4ea9-b490-01fee97700c4\" class=\"colab-df-container\">\n",
              "    <div>\n",
              "<style scoped>\n",
              "    .dataframe tbody tr th:only-of-type {\n",
              "        vertical-align: middle;\n",
              "    }\n",
              "\n",
              "    .dataframe tbody tr th {\n",
              "        vertical-align: top;\n",
              "    }\n",
              "\n",
              "    .dataframe thead th {\n",
              "        text-align: right;\n",
              "    }\n",
              "</style>\n",
              "<table border=\"1\" class=\"dataframe\">\n",
              "  <thead>\n",
              "    <tr style=\"text-align: right;\">\n",
              "      <th></th>\n",
              "      <th>CMPLNT_NUM</th>\n",
              "      <th>ADDR_PCT_CD</th>\n",
              "      <th>BORO_NM</th>\n",
              "      <th>CMPLNT_FR_DT</th>\n",
              "      <th>CMPLNT_FR_TM</th>\n",
              "      <th>CMPLNT_TO_DT</th>\n",
              "      <th>CMPLNT_TO_TM</th>\n",
              "      <th>CRM_ATPT_CPTD_CD</th>\n",
              "      <th>HADEVELOPT</th>\n",
              "      <th>HOUSING_PSA</th>\n",
              "      <th>...</th>\n",
              "      <th>SUSP_SEX</th>\n",
              "      <th>TRANSIT_DISTRICT</th>\n",
              "      <th>VIC_AGE_GROUP</th>\n",
              "      <th>VIC_RACE</th>\n",
              "      <th>VIC_SEX</th>\n",
              "      <th>X_COORD_CD</th>\n",
              "      <th>Y_COORD_CD</th>\n",
              "      <th>Latitude</th>\n",
              "      <th>Longitude</th>\n",
              "      <th>Lat_Lon</th>\n",
              "    </tr>\n",
              "  </thead>\n",
              "  <tbody>\n",
              "    <tr>\n",
              "      <th>0</th>\n",
              "      <td>831526991</td>\n",
              "      <td>67</td>\n",
              "      <td>BROOKLYN</td>\n",
              "      <td>03/31/2018</td>\n",
              "      <td>23:30:00</td>\n",
              "      <td>03/31/2018</td>\n",
              "      <td>23:37:00</td>\n",
              "      <td>COMPLETED</td>\n",
              "      <td>NaN</td>\n",
              "      <td>NaN</td>\n",
              "      <td>...</td>\n",
              "      <td>NaN</td>\n",
              "      <td>NaN</td>\n",
              "      <td>UNKNOWN</td>\n",
              "      <td>UNKNOWN</td>\n",
              "      <td>E</td>\n",
              "      <td>1003227.0</td>\n",
              "      <td>177460.0</td>\n",
              "      <td>40.653751</td>\n",
              "      <td>-73.931609</td>\n",
              "      <td>(40.653751263, -73.931609227)</td>\n",
              "    </tr>\n",
              "    <tr>\n",
              "      <th>1</th>\n",
              "      <td>496736340</td>\n",
              "      <td>120</td>\n",
              "      <td>STATEN ISLAND</td>\n",
              "      <td>03/31/2018</td>\n",
              "      <td>23:20:00</td>\n",
              "      <td>03/31/2018</td>\n",
              "      <td>23:30:00</td>\n",
              "      <td>COMPLETED</td>\n",
              "      <td>RICHMOND TERRACE</td>\n",
              "      <td>10143.0</td>\n",
              "      <td>...</td>\n",
              "      <td>M</td>\n",
              "      <td>NaN</td>\n",
              "      <td>&lt;18</td>\n",
              "      <td>BLACK</td>\n",
              "      <td>F</td>\n",
              "      <td>962748.0</td>\n",
              "      <td>174174.0</td>\n",
              "      <td>40.644726</td>\n",
              "      <td>-74.077483</td>\n",
              "      <td>(40.644726131, -74.077483159)</td>\n",
              "    </tr>\n",
              "    <tr>\n",
              "      <th>2</th>\n",
              "      <td>399593692</td>\n",
              "      <td>105</td>\n",
              "      <td>QUEENS</td>\n",
              "      <td>03/31/2018</td>\n",
              "      <td>23:15:00</td>\n",
              "      <td>03/31/2018</td>\n",
              "      <td>23:20:00</td>\n",
              "      <td>COMPLETED</td>\n",
              "      <td>NaN</td>\n",
              "      <td>NaN</td>\n",
              "      <td>...</td>\n",
              "      <td>M</td>\n",
              "      <td>NaN</td>\n",
              "      <td>18-24</td>\n",
              "      <td>BLACK</td>\n",
              "      <td>F</td>\n",
              "      <td>1056932.0</td>\n",
              "      <td>200034.0</td>\n",
              "      <td>40.715434</td>\n",
              "      <td>-73.737816</td>\n",
              "      <td>(40.715433534, -73.737816163)</td>\n",
              "    </tr>\n",
              "    <tr>\n",
              "      <th>3</th>\n",
              "      <td>282376455</td>\n",
              "      <td>110</td>\n",
              "      <td>QUEENS</td>\n",
              "      <td>03/31/2018</td>\n",
              "      <td>23:10:00</td>\n",
              "      <td>03/31/2018</td>\n",
              "      <td>23:20:00</td>\n",
              "      <td>COMPLETED</td>\n",
              "      <td>NaN</td>\n",
              "      <td>NaN</td>\n",
              "      <td>...</td>\n",
              "      <td>M</td>\n",
              "      <td>NaN</td>\n",
              "      <td>25-44</td>\n",
              "      <td>WHITE HISPANIC</td>\n",
              "      <td>M</td>\n",
              "      <td>1014990.0</td>\n",
              "      <td>210503.0</td>\n",
              "      <td>40.744414</td>\n",
              "      <td>-73.889065</td>\n",
              "      <td>(40.744413503, -73.889065158)</td>\n",
              "    </tr>\n",
              "    <tr>\n",
              "      <th>4</th>\n",
              "      <td>201598299</td>\n",
              "      <td>78</td>\n",
              "      <td>BROOKLYN</td>\n",
              "      <td>03/31/2018</td>\n",
              "      <td>23:10:00</td>\n",
              "      <td>03/31/2018</td>\n",
              "      <td>23:19:00</td>\n",
              "      <td>COMPLETED</td>\n",
              "      <td>572 WARREN STREET</td>\n",
              "      <td>2379.0</td>\n",
              "      <td>...</td>\n",
              "      <td>F</td>\n",
              "      <td>NaN</td>\n",
              "      <td>25-44</td>\n",
              "      <td>BLACK</td>\n",
              "      <td>F</td>\n",
              "      <td>989141.0</td>\n",
              "      <td>187733.0</td>\n",
              "      <td>40.681967</td>\n",
              "      <td>-73.982367</td>\n",
              "      <td>(40.681967344, -73.982367054)</td>\n",
              "    </tr>\n",
              "  </tbody>\n",
              "</table>\n",
              "<p>5 rows × 35 columns</p>\n",
              "</div>\n",
              "    <div class=\"colab-df-buttons\">\n",
              "\n",
              "  <div class=\"colab-df-container\">\n",
              "    <button class=\"colab-df-convert\" onclick=\"convertToInteractive('df-0baddb96-f826-4ea9-b490-01fee97700c4')\"\n",
              "            title=\"Convert this dataframe to an interactive table.\"\n",
              "            style=\"display:none;\">\n",
              "\n",
              "  <svg xmlns=\"http://www.w3.org/2000/svg\" height=\"24px\" viewBox=\"0 -960 960 960\">\n",
              "    <path d=\"M120-120v-720h720v720H120Zm60-500h600v-160H180v160Zm220 220h160v-160H400v160Zm0 220h160v-160H400v160ZM180-400h160v-160H180v160Zm440 0h160v-160H620v160ZM180-180h160v-160H180v160Zm440 0h160v-160H620v160Z\"/>\n",
              "  </svg>\n",
              "    </button>\n",
              "\n",
              "  <style>\n",
              "    .colab-df-container {\n",
              "      display:flex;\n",
              "      gap: 12px;\n",
              "    }\n",
              "\n",
              "    .colab-df-convert {\n",
              "      background-color: #E8F0FE;\n",
              "      border: none;\n",
              "      border-radius: 50%;\n",
              "      cursor: pointer;\n",
              "      display: none;\n",
              "      fill: #1967D2;\n",
              "      height: 32px;\n",
              "      padding: 0 0 0 0;\n",
              "      width: 32px;\n",
              "    }\n",
              "\n",
              "    .colab-df-convert:hover {\n",
              "      background-color: #E2EBFA;\n",
              "      box-shadow: 0px 1px 2px rgba(60, 64, 67, 0.3), 0px 1px 3px 1px rgba(60, 64, 67, 0.15);\n",
              "      fill: #174EA6;\n",
              "    }\n",
              "\n",
              "    .colab-df-buttons div {\n",
              "      margin-bottom: 4px;\n",
              "    }\n",
              "\n",
              "    [theme=dark] .colab-df-convert {\n",
              "      background-color: #3B4455;\n",
              "      fill: #D2E3FC;\n",
              "    }\n",
              "\n",
              "    [theme=dark] .colab-df-convert:hover {\n",
              "      background-color: #434B5C;\n",
              "      box-shadow: 0px 1px 3px 1px rgba(0, 0, 0, 0.15);\n",
              "      filter: drop-shadow(0px 1px 2px rgba(0, 0, 0, 0.3));\n",
              "      fill: #FFFFFF;\n",
              "    }\n",
              "  </style>\n",
              "\n",
              "    <script>\n",
              "      const buttonEl =\n",
              "        document.querySelector('#df-0baddb96-f826-4ea9-b490-01fee97700c4 button.colab-df-convert');\n",
              "      buttonEl.style.display =\n",
              "        google.colab.kernel.accessAllowed ? 'block' : 'none';\n",
              "\n",
              "      async function convertToInteractive(key) {\n",
              "        const element = document.querySelector('#df-0baddb96-f826-4ea9-b490-01fee97700c4');\n",
              "        const dataTable =\n",
              "          await google.colab.kernel.invokeFunction('convertToInteractive',\n",
              "                                                    [key], {});\n",
              "        if (!dataTable) return;\n",
              "\n",
              "        const docLinkHtml = 'Like what you see? Visit the ' +\n",
              "          '<a target=\"_blank\" href=https://colab.research.google.com/notebooks/data_table.ipynb>data table notebook</a>'\n",
              "          + ' to learn more about interactive tables.';\n",
              "        element.innerHTML = '';\n",
              "        dataTable['output_type'] = 'display_data';\n",
              "        await google.colab.output.renderOutput(dataTable, element);\n",
              "        const docLink = document.createElement('div');\n",
              "        docLink.innerHTML = docLinkHtml;\n",
              "        element.appendChild(docLink);\n",
              "      }\n",
              "    </script>\n",
              "  </div>\n",
              "\n",
              "\n",
              "<div id=\"df-db637031-ee98-4acf-880f-c741e699167f\">\n",
              "  <button class=\"colab-df-quickchart\" onclick=\"quickchart('df-db637031-ee98-4acf-880f-c741e699167f')\"\n",
              "            title=\"Suggest charts\"\n",
              "            style=\"display:none;\">\n",
              "\n",
              "<svg xmlns=\"http://www.w3.org/2000/svg\" height=\"24px\"viewBox=\"0 0 24 24\"\n",
              "     width=\"24px\">\n",
              "    <g>\n",
              "        <path d=\"M19 3H5c-1.1 0-2 .9-2 2v14c0 1.1.9 2 2 2h14c1.1 0 2-.9 2-2V5c0-1.1-.9-2-2-2zM9 17H7v-7h2v7zm4 0h-2V7h2v10zm4 0h-2v-4h2v4z\"/>\n",
              "    </g>\n",
              "</svg>\n",
              "  </button>\n",
              "\n",
              "<style>\n",
              "  .colab-df-quickchart {\n",
              "      --bg-color: #E8F0FE;\n",
              "      --fill-color: #1967D2;\n",
              "      --hover-bg-color: #E2EBFA;\n",
              "      --hover-fill-color: #174EA6;\n",
              "      --disabled-fill-color: #AAA;\n",
              "      --disabled-bg-color: #DDD;\n",
              "  }\n",
              "\n",
              "  [theme=dark] .colab-df-quickchart {\n",
              "      --bg-color: #3B4455;\n",
              "      --fill-color: #D2E3FC;\n",
              "      --hover-bg-color: #434B5C;\n",
              "      --hover-fill-color: #FFFFFF;\n",
              "      --disabled-bg-color: #3B4455;\n",
              "      --disabled-fill-color: #666;\n",
              "  }\n",
              "\n",
              "  .colab-df-quickchart {\n",
              "    background-color: var(--bg-color);\n",
              "    border: none;\n",
              "    border-radius: 50%;\n",
              "    cursor: pointer;\n",
              "    display: none;\n",
              "    fill: var(--fill-color);\n",
              "    height: 32px;\n",
              "    padding: 0;\n",
              "    width: 32px;\n",
              "  }\n",
              "\n",
              "  .colab-df-quickchart:hover {\n",
              "    background-color: var(--hover-bg-color);\n",
              "    box-shadow: 0 1px 2px rgba(60, 64, 67, 0.3), 0 1px 3px 1px rgba(60, 64, 67, 0.15);\n",
              "    fill: var(--button-hover-fill-color);\n",
              "  }\n",
              "\n",
              "  .colab-df-quickchart-complete:disabled,\n",
              "  .colab-df-quickchart-complete:disabled:hover {\n",
              "    background-color: var(--disabled-bg-color);\n",
              "    fill: var(--disabled-fill-color);\n",
              "    box-shadow: none;\n",
              "  }\n",
              "\n",
              "  .colab-df-spinner {\n",
              "    border: 2px solid var(--fill-color);\n",
              "    border-color: transparent;\n",
              "    border-bottom-color: var(--fill-color);\n",
              "    animation:\n",
              "      spin 1s steps(1) infinite;\n",
              "  }\n",
              "\n",
              "  @keyframes spin {\n",
              "    0% {\n",
              "      border-color: transparent;\n",
              "      border-bottom-color: var(--fill-color);\n",
              "      border-left-color: var(--fill-color);\n",
              "    }\n",
              "    20% {\n",
              "      border-color: transparent;\n",
              "      border-left-color: var(--fill-color);\n",
              "      border-top-color: var(--fill-color);\n",
              "    }\n",
              "    30% {\n",
              "      border-color: transparent;\n",
              "      border-left-color: var(--fill-color);\n",
              "      border-top-color: var(--fill-color);\n",
              "      border-right-color: var(--fill-color);\n",
              "    }\n",
              "    40% {\n",
              "      border-color: transparent;\n",
              "      border-right-color: var(--fill-color);\n",
              "      border-top-color: var(--fill-color);\n",
              "    }\n",
              "    60% {\n",
              "      border-color: transparent;\n",
              "      border-right-color: var(--fill-color);\n",
              "    }\n",
              "    80% {\n",
              "      border-color: transparent;\n",
              "      border-right-color: var(--fill-color);\n",
              "      border-bottom-color: var(--fill-color);\n",
              "    }\n",
              "    90% {\n",
              "      border-color: transparent;\n",
              "      border-bottom-color: var(--fill-color);\n",
              "    }\n",
              "  }\n",
              "</style>\n",
              "\n",
              "  <script>\n",
              "    async function quickchart(key) {\n",
              "      const quickchartButtonEl =\n",
              "        document.querySelector('#' + key + ' button');\n",
              "      quickchartButtonEl.disabled = true;  // To prevent multiple clicks.\n",
              "      quickchartButtonEl.classList.add('colab-df-spinner');\n",
              "      try {\n",
              "        const charts = await google.colab.kernel.invokeFunction(\n",
              "            'suggestCharts', [key], {});\n",
              "      } catch (error) {\n",
              "        console.error('Error during call to suggestCharts:', error);\n",
              "      }\n",
              "      quickchartButtonEl.classList.remove('colab-df-spinner');\n",
              "      quickchartButtonEl.classList.add('colab-df-quickchart-complete');\n",
              "    }\n",
              "    (() => {\n",
              "      let quickchartButtonEl =\n",
              "        document.querySelector('#df-db637031-ee98-4acf-880f-c741e699167f button');\n",
              "      quickchartButtonEl.style.display =\n",
              "        google.colab.kernel.accessAllowed ? 'block' : 'none';\n",
              "    })();\n",
              "  </script>\n",
              "</div>\n",
              "\n",
              "    </div>\n",
              "  </div>\n"
            ],
            "application/vnd.google.colaboratory.intrinsic+json": {
              "type": "dataframe",
              "variable_name": "complaint_df"
            }
          },
          "metadata": {},
          "execution_count": 250
        }
      ],
      "source": [
        "complaint_df = pd.read_csv(\"NYPD_Complaint_Data_Current_YTD.csv\")\n",
        "complaint_df.head()"
      ]
    },
    {
      "cell_type": "markdown",
      "metadata": {
        "id": "cqX0J19SKZue"
      },
      "source": [
        "We also have downloaded the description of the dataset, so we will populate it in order to better understand the column names."
      ]
    },
    {
      "cell_type": "code",
      "execution_count": null,
      "metadata": {
        "colab": {
          "base_uri": "https://localhost:8080/",
          "height": 771
        },
        "id": "aHYiogIxKtCk",
        "outputId": "8c818961-21bc-4ec6-83ef-2d191c9f59c6"
      },
      "outputs": [
        {
          "output_type": "execute_result",
          "data": {
            "text/plain": [
              "               Column                                        Description\n",
              "0          CMPLNT_NUM  Randomly generated persistent ID for each comp...\n",
              "1        CMPLNT_FR_DT  Exact date of occurrence for the reported even...\n",
              "2        CMPLNT_FR_TM  Exact time of occurrence for the reported even...\n",
              "3        CMPLNT_TO_DT  Ending date of occurrence for the reported eve...\n",
              "4        CMPLNT_TO_TM  Ending time of occurrence for the reported eve...\n",
              "5              RPT_DT                 Date event was reported to police \n",
              "6               KY_CD            Three digit offense classification code\n",
              "7           OFNS_DESC  Description of offense corresponding with key ...\n",
              "8               PD_CD  Three digit internal classification code (more...\n",
              "9             PD_DESC  Description of internal classification corresp...\n",
              "10   CRM_ATPT_CPTD_CD  Indicator of whether crime was successfully co...\n",
              "11         LAW_CAT_CD  Level of offense: felony, misdemeanor, violation \n",
              "12         JURIS_DESC  Jurisdiction responsible for incident. Either ...\n",
              "13            BORO_NM  The name of the borough in which the incident ...\n",
              "14        ADDR_PCT_CD        The precinct in which the incident occurred\n",
              "15  LOC_OF_OCCUR_DESC  Specific location of occurrence in or around t...\n",
              "16      PREM_TYP_DESC  Specific description of premises; grocery stor...\n",
              "17           PARKS_NM  Name of NYC park, playground or greenspace of ...\n",
              "18         HADEVELOPT  Name of NYCHA housing development of occurrenc...\n",
              "19         X_COORD_CD  X-coordinate for New York State Plane Coordina...\n",
              "20         Y_COORD_CD  Y-coordinate for New York State Plane Coordina...\n",
              "21           Latitude  Latitude coordinate for Global Coordinate Syst...\n",
              "22          Longitude  Longitude coordinate for Global Coordinate Sys..."
            ],
            "text/html": [
              "\n",
              "  <div id=\"df-19753714-ff51-438a-926c-5a225dd9d500\" class=\"colab-df-container\">\n",
              "    <div>\n",
              "<style scoped>\n",
              "    .dataframe tbody tr th:only-of-type {\n",
              "        vertical-align: middle;\n",
              "    }\n",
              "\n",
              "    .dataframe tbody tr th {\n",
              "        vertical-align: top;\n",
              "    }\n",
              "\n",
              "    .dataframe thead th {\n",
              "        text-align: right;\n",
              "    }\n",
              "</style>\n",
              "<table border=\"1\" class=\"dataframe\">\n",
              "  <thead>\n",
              "    <tr style=\"text-align: right;\">\n",
              "      <th></th>\n",
              "      <th>Column</th>\n",
              "      <th>Description</th>\n",
              "    </tr>\n",
              "  </thead>\n",
              "  <tbody>\n",
              "    <tr>\n",
              "      <th>0</th>\n",
              "      <td>CMPLNT_NUM</td>\n",
              "      <td>Randomly generated persistent ID for each comp...</td>\n",
              "    </tr>\n",
              "    <tr>\n",
              "      <th>1</th>\n",
              "      <td>CMPLNT_FR_DT</td>\n",
              "      <td>Exact date of occurrence for the reported even...</td>\n",
              "    </tr>\n",
              "    <tr>\n",
              "      <th>2</th>\n",
              "      <td>CMPLNT_FR_TM</td>\n",
              "      <td>Exact time of occurrence for the reported even...</td>\n",
              "    </tr>\n",
              "    <tr>\n",
              "      <th>3</th>\n",
              "      <td>CMPLNT_TO_DT</td>\n",
              "      <td>Ending date of occurrence for the reported eve...</td>\n",
              "    </tr>\n",
              "    <tr>\n",
              "      <th>4</th>\n",
              "      <td>CMPLNT_TO_TM</td>\n",
              "      <td>Ending time of occurrence for the reported eve...</td>\n",
              "    </tr>\n",
              "    <tr>\n",
              "      <th>5</th>\n",
              "      <td>RPT_DT</td>\n",
              "      <td>Date event was reported to police</td>\n",
              "    </tr>\n",
              "    <tr>\n",
              "      <th>6</th>\n",
              "      <td>KY_CD</td>\n",
              "      <td>Three digit offense classification code</td>\n",
              "    </tr>\n",
              "    <tr>\n",
              "      <th>7</th>\n",
              "      <td>OFNS_DESC</td>\n",
              "      <td>Description of offense corresponding with key ...</td>\n",
              "    </tr>\n",
              "    <tr>\n",
              "      <th>8</th>\n",
              "      <td>PD_CD</td>\n",
              "      <td>Three digit internal classification code (more...</td>\n",
              "    </tr>\n",
              "    <tr>\n",
              "      <th>9</th>\n",
              "      <td>PD_DESC</td>\n",
              "      <td>Description of internal classification corresp...</td>\n",
              "    </tr>\n",
              "    <tr>\n",
              "      <th>10</th>\n",
              "      <td>CRM_ATPT_CPTD_CD</td>\n",
              "      <td>Indicator of whether crime was successfully co...</td>\n",
              "    </tr>\n",
              "    <tr>\n",
              "      <th>11</th>\n",
              "      <td>LAW_CAT_CD</td>\n",
              "      <td>Level of offense: felony, misdemeanor, violation</td>\n",
              "    </tr>\n",
              "    <tr>\n",
              "      <th>12</th>\n",
              "      <td>JURIS_DESC</td>\n",
              "      <td>Jurisdiction responsible for incident. Either ...</td>\n",
              "    </tr>\n",
              "    <tr>\n",
              "      <th>13</th>\n",
              "      <td>BORO_NM</td>\n",
              "      <td>The name of the borough in which the incident ...</td>\n",
              "    </tr>\n",
              "    <tr>\n",
              "      <th>14</th>\n",
              "      <td>ADDR_PCT_CD</td>\n",
              "      <td>The precinct in which the incident occurred</td>\n",
              "    </tr>\n",
              "    <tr>\n",
              "      <th>15</th>\n",
              "      <td>LOC_OF_OCCUR_DESC</td>\n",
              "      <td>Specific location of occurrence in or around t...</td>\n",
              "    </tr>\n",
              "    <tr>\n",
              "      <th>16</th>\n",
              "      <td>PREM_TYP_DESC</td>\n",
              "      <td>Specific description of premises; grocery stor...</td>\n",
              "    </tr>\n",
              "    <tr>\n",
              "      <th>17</th>\n",
              "      <td>PARKS_NM</td>\n",
              "      <td>Name of NYC park, playground or greenspace of ...</td>\n",
              "    </tr>\n",
              "    <tr>\n",
              "      <th>18</th>\n",
              "      <td>HADEVELOPT</td>\n",
              "      <td>Name of NYCHA housing development of occurrenc...</td>\n",
              "    </tr>\n",
              "    <tr>\n",
              "      <th>19</th>\n",
              "      <td>X_COORD_CD</td>\n",
              "      <td>X-coordinate for New York State Plane Coordina...</td>\n",
              "    </tr>\n",
              "    <tr>\n",
              "      <th>20</th>\n",
              "      <td>Y_COORD_CD</td>\n",
              "      <td>Y-coordinate for New York State Plane Coordina...</td>\n",
              "    </tr>\n",
              "    <tr>\n",
              "      <th>21</th>\n",
              "      <td>Latitude</td>\n",
              "      <td>Latitude coordinate for Global Coordinate Syst...</td>\n",
              "    </tr>\n",
              "    <tr>\n",
              "      <th>22</th>\n",
              "      <td>Longitude</td>\n",
              "      <td>Longitude coordinate for Global Coordinate Sys...</td>\n",
              "    </tr>\n",
              "  </tbody>\n",
              "</table>\n",
              "</div>\n",
              "    <div class=\"colab-df-buttons\">\n",
              "\n",
              "  <div class=\"colab-df-container\">\n",
              "    <button class=\"colab-df-convert\" onclick=\"convertToInteractive('df-19753714-ff51-438a-926c-5a225dd9d500')\"\n",
              "            title=\"Convert this dataframe to an interactive table.\"\n",
              "            style=\"display:none;\">\n",
              "\n",
              "  <svg xmlns=\"http://www.w3.org/2000/svg\" height=\"24px\" viewBox=\"0 -960 960 960\">\n",
              "    <path d=\"M120-120v-720h720v720H120Zm60-500h600v-160H180v160Zm220 220h160v-160H400v160Zm0 220h160v-160H400v160ZM180-400h160v-160H180v160Zm440 0h160v-160H620v160ZM180-180h160v-160H180v160Zm440 0h160v-160H620v160Z\"/>\n",
              "  </svg>\n",
              "    </button>\n",
              "\n",
              "  <style>\n",
              "    .colab-df-container {\n",
              "      display:flex;\n",
              "      gap: 12px;\n",
              "    }\n",
              "\n",
              "    .colab-df-convert {\n",
              "      background-color: #E8F0FE;\n",
              "      border: none;\n",
              "      border-radius: 50%;\n",
              "      cursor: pointer;\n",
              "      display: none;\n",
              "      fill: #1967D2;\n",
              "      height: 32px;\n",
              "      padding: 0 0 0 0;\n",
              "      width: 32px;\n",
              "    }\n",
              "\n",
              "    .colab-df-convert:hover {\n",
              "      background-color: #E2EBFA;\n",
              "      box-shadow: 0px 1px 2px rgba(60, 64, 67, 0.3), 0px 1px 3px 1px rgba(60, 64, 67, 0.15);\n",
              "      fill: #174EA6;\n",
              "    }\n",
              "\n",
              "    .colab-df-buttons div {\n",
              "      margin-bottom: 4px;\n",
              "    }\n",
              "\n",
              "    [theme=dark] .colab-df-convert {\n",
              "      background-color: #3B4455;\n",
              "      fill: #D2E3FC;\n",
              "    }\n",
              "\n",
              "    [theme=dark] .colab-df-convert:hover {\n",
              "      background-color: #434B5C;\n",
              "      box-shadow: 0px 1px 3px 1px rgba(0, 0, 0, 0.15);\n",
              "      filter: drop-shadow(0px 1px 2px rgba(0, 0, 0, 0.3));\n",
              "      fill: #FFFFFF;\n",
              "    }\n",
              "  </style>\n",
              "\n",
              "    <script>\n",
              "      const buttonEl =\n",
              "        document.querySelector('#df-19753714-ff51-438a-926c-5a225dd9d500 button.colab-df-convert');\n",
              "      buttonEl.style.display =\n",
              "        google.colab.kernel.accessAllowed ? 'block' : 'none';\n",
              "\n",
              "      async function convertToInteractive(key) {\n",
              "        const element = document.querySelector('#df-19753714-ff51-438a-926c-5a225dd9d500');\n",
              "        const dataTable =\n",
              "          await google.colab.kernel.invokeFunction('convertToInteractive',\n",
              "                                                    [key], {});\n",
              "        if (!dataTable) return;\n",
              "\n",
              "        const docLinkHtml = 'Like what you see? Visit the ' +\n",
              "          '<a target=\"_blank\" href=https://colab.research.google.com/notebooks/data_table.ipynb>data table notebook</a>'\n",
              "          + ' to learn more about interactive tables.';\n",
              "        element.innerHTML = '';\n",
              "        dataTable['output_type'] = 'display_data';\n",
              "        await google.colab.output.renderOutput(dataTable, element);\n",
              "        const docLink = document.createElement('div');\n",
              "        docLink.innerHTML = docLinkHtml;\n",
              "        element.appendChild(docLink);\n",
              "      }\n",
              "    </script>\n",
              "  </div>\n",
              "\n",
              "\n",
              "<div id=\"df-6e9d38b3-905f-4b79-8b77-fe0ad314938f\">\n",
              "  <button class=\"colab-df-quickchart\" onclick=\"quickchart('df-6e9d38b3-905f-4b79-8b77-fe0ad314938f')\"\n",
              "            title=\"Suggest charts\"\n",
              "            style=\"display:none;\">\n",
              "\n",
              "<svg xmlns=\"http://www.w3.org/2000/svg\" height=\"24px\"viewBox=\"0 0 24 24\"\n",
              "     width=\"24px\">\n",
              "    <g>\n",
              "        <path d=\"M19 3H5c-1.1 0-2 .9-2 2v14c0 1.1.9 2 2 2h14c1.1 0 2-.9 2-2V5c0-1.1-.9-2-2-2zM9 17H7v-7h2v7zm4 0h-2V7h2v10zm4 0h-2v-4h2v4z\"/>\n",
              "    </g>\n",
              "</svg>\n",
              "  </button>\n",
              "\n",
              "<style>\n",
              "  .colab-df-quickchart {\n",
              "      --bg-color: #E8F0FE;\n",
              "      --fill-color: #1967D2;\n",
              "      --hover-bg-color: #E2EBFA;\n",
              "      --hover-fill-color: #174EA6;\n",
              "      --disabled-fill-color: #AAA;\n",
              "      --disabled-bg-color: #DDD;\n",
              "  }\n",
              "\n",
              "  [theme=dark] .colab-df-quickchart {\n",
              "      --bg-color: #3B4455;\n",
              "      --fill-color: #D2E3FC;\n",
              "      --hover-bg-color: #434B5C;\n",
              "      --hover-fill-color: #FFFFFF;\n",
              "      --disabled-bg-color: #3B4455;\n",
              "      --disabled-fill-color: #666;\n",
              "  }\n",
              "\n",
              "  .colab-df-quickchart {\n",
              "    background-color: var(--bg-color);\n",
              "    border: none;\n",
              "    border-radius: 50%;\n",
              "    cursor: pointer;\n",
              "    display: none;\n",
              "    fill: var(--fill-color);\n",
              "    height: 32px;\n",
              "    padding: 0;\n",
              "    width: 32px;\n",
              "  }\n",
              "\n",
              "  .colab-df-quickchart:hover {\n",
              "    background-color: var(--hover-bg-color);\n",
              "    box-shadow: 0 1px 2px rgba(60, 64, 67, 0.3), 0 1px 3px 1px rgba(60, 64, 67, 0.15);\n",
              "    fill: var(--button-hover-fill-color);\n",
              "  }\n",
              "\n",
              "  .colab-df-quickchart-complete:disabled,\n",
              "  .colab-df-quickchart-complete:disabled:hover {\n",
              "    background-color: var(--disabled-bg-color);\n",
              "    fill: var(--disabled-fill-color);\n",
              "    box-shadow: none;\n",
              "  }\n",
              "\n",
              "  .colab-df-spinner {\n",
              "    border: 2px solid var(--fill-color);\n",
              "    border-color: transparent;\n",
              "    border-bottom-color: var(--fill-color);\n",
              "    animation:\n",
              "      spin 1s steps(1) infinite;\n",
              "  }\n",
              "\n",
              "  @keyframes spin {\n",
              "    0% {\n",
              "      border-color: transparent;\n",
              "      border-bottom-color: var(--fill-color);\n",
              "      border-left-color: var(--fill-color);\n",
              "    }\n",
              "    20% {\n",
              "      border-color: transparent;\n",
              "      border-left-color: var(--fill-color);\n",
              "      border-top-color: var(--fill-color);\n",
              "    }\n",
              "    30% {\n",
              "      border-color: transparent;\n",
              "      border-left-color: var(--fill-color);\n",
              "      border-top-color: var(--fill-color);\n",
              "      border-right-color: var(--fill-color);\n",
              "    }\n",
              "    40% {\n",
              "      border-color: transparent;\n",
              "      border-right-color: var(--fill-color);\n",
              "      border-top-color: var(--fill-color);\n",
              "    }\n",
              "    60% {\n",
              "      border-color: transparent;\n",
              "      border-right-color: var(--fill-color);\n",
              "    }\n",
              "    80% {\n",
              "      border-color: transparent;\n",
              "      border-right-color: var(--fill-color);\n",
              "      border-bottom-color: var(--fill-color);\n",
              "    }\n",
              "    90% {\n",
              "      border-color: transparent;\n",
              "      border-bottom-color: var(--fill-color);\n",
              "    }\n",
              "  }\n",
              "</style>\n",
              "\n",
              "  <script>\n",
              "    async function quickchart(key) {\n",
              "      const quickchartButtonEl =\n",
              "        document.querySelector('#' + key + ' button');\n",
              "      quickchartButtonEl.disabled = true;  // To prevent multiple clicks.\n",
              "      quickchartButtonEl.classList.add('colab-df-spinner');\n",
              "      try {\n",
              "        const charts = await google.colab.kernel.invokeFunction(\n",
              "            'suggestCharts', [key], {});\n",
              "      } catch (error) {\n",
              "        console.error('Error during call to suggestCharts:', error);\n",
              "      }\n",
              "      quickchartButtonEl.classList.remove('colab-df-spinner');\n",
              "      quickchartButtonEl.classList.add('colab-df-quickchart-complete');\n",
              "    }\n",
              "    (() => {\n",
              "      let quickchartButtonEl =\n",
              "        document.querySelector('#df-6e9d38b3-905f-4b79-8b77-fe0ad314938f button');\n",
              "      quickchartButtonEl.style.display =\n",
              "        google.colab.kernel.accessAllowed ? 'block' : 'none';\n",
              "    })();\n",
              "  </script>\n",
              "</div>\n",
              "\n",
              "  <div id=\"id_5b52f1dc-b504-4632-bc7b-4b687b042fe4\">\n",
              "    <style>\n",
              "      .colab-df-generate {\n",
              "        background-color: #E8F0FE;\n",
              "        border: none;\n",
              "        border-radius: 50%;\n",
              "        cursor: pointer;\n",
              "        display: none;\n",
              "        fill: #1967D2;\n",
              "        height: 32px;\n",
              "        padding: 0 0 0 0;\n",
              "        width: 32px;\n",
              "      }\n",
              "\n",
              "      .colab-df-generate:hover {\n",
              "        background-color: #E2EBFA;\n",
              "        box-shadow: 0px 1px 2px rgba(60, 64, 67, 0.3), 0px 1px 3px 1px rgba(60, 64, 67, 0.15);\n",
              "        fill: #174EA6;\n",
              "      }\n",
              "\n",
              "      [theme=dark] .colab-df-generate {\n",
              "        background-color: #3B4455;\n",
              "        fill: #D2E3FC;\n",
              "      }\n",
              "\n",
              "      [theme=dark] .colab-df-generate:hover {\n",
              "        background-color: #434B5C;\n",
              "        box-shadow: 0px 1px 3px 1px rgba(0, 0, 0, 0.15);\n",
              "        filter: drop-shadow(0px 1px 2px rgba(0, 0, 0, 0.3));\n",
              "        fill: #FFFFFF;\n",
              "      }\n",
              "    </style>\n",
              "    <button class=\"colab-df-generate\" onclick=\"generateWithVariable('complaint_desc_df')\"\n",
              "            title=\"Generate code using this dataframe.\"\n",
              "            style=\"display:none;\">\n",
              "\n",
              "  <svg xmlns=\"http://www.w3.org/2000/svg\" height=\"24px\"viewBox=\"0 0 24 24\"\n",
              "       width=\"24px\">\n",
              "    <path d=\"M7,19H8.4L18.45,9,17,7.55,7,17.6ZM5,21V16.75L18.45,3.32a2,2,0,0,1,2.83,0l1.4,1.43a1.91,1.91,0,0,1,.58,1.4,1.91,1.91,0,0,1-.58,1.4L9.25,21ZM18.45,9,17,7.55Zm-12,3A5.31,5.31,0,0,0,4.9,8.1,5.31,5.31,0,0,0,1,6.5,5.31,5.31,0,0,0,4.9,4.9,5.31,5.31,0,0,0,6.5,1,5.31,5.31,0,0,0,8.1,4.9,5.31,5.31,0,0,0,12,6.5,5.46,5.46,0,0,0,6.5,12Z\"/>\n",
              "  </svg>\n",
              "    </button>\n",
              "    <script>\n",
              "      (() => {\n",
              "      const buttonEl =\n",
              "        document.querySelector('#id_5b52f1dc-b504-4632-bc7b-4b687b042fe4 button.colab-df-generate');\n",
              "      buttonEl.style.display =\n",
              "        google.colab.kernel.accessAllowed ? 'block' : 'none';\n",
              "\n",
              "      buttonEl.onclick = () => {\n",
              "        google.colab.notebook.generateWithVariable('complaint_desc_df');\n",
              "      }\n",
              "      })();\n",
              "    </script>\n",
              "  </div>\n",
              "\n",
              "    </div>\n",
              "  </div>\n"
            ],
            "application/vnd.google.colaboratory.intrinsic+json": {
              "type": "dataframe",
              "variable_name": "complaint_desc_df",
              "summary": "{\n  \"name\": \"complaint_desc_df\",\n  \"rows\": 23,\n  \"fields\": [\n    {\n      \"column\": \"Column\",\n      \"properties\": {\n        \"dtype\": \"string\",\n        \"num_unique_values\": 23,\n        \"samples\": [\n          \"LOC_OF_OCCUR_DESC\",\n          \"PD_DESC\",\n          \"CMPLNT_NUM\"\n        ],\n        \"semantic_type\": \"\",\n        \"description\": \"\"\n      }\n    },\n    {\n      \"column\": \"Description\",\n      \"properties\": {\n        \"dtype\": \"string\",\n        \"num_unique_values\": 23,\n        \"samples\": [\n          \"Specific location of occurrence in or around the premises; inside, opposite of, front of, rear of\",\n          \"Description of internal classification corresponding with PD code (more granular than Offense Description)\",\n          \"Randomly generated persistent ID for each complaint \"\n        ],\n        \"semantic_type\": \"\",\n        \"description\": \"\"\n      }\n    }\n  ]\n}"
            }
          },
          "metadata": {},
          "execution_count": 251
        }
      ],
      "source": [
        "complaint_desc_df = pd.read_csv(\"NYPD_Incident_Level_Data_Column_Descriptions.csv\")\n",
        "complaint_desc_df"
      ]
    },
    {
      "cell_type": "markdown",
      "metadata": {
        "id": "sa-ofmJ-JLeY"
      },
      "source": [
        "### Data Cleaning"
      ]
    },
    {
      "cell_type": "markdown",
      "metadata": {
        "id": "0vHWFHc3NPwb"
      },
      "source": []
    },
    {
      "cell_type": "markdown",
      "metadata": {
        "id": "bahJfuEUK-hQ"
      },
      "source": [
        "Before analysing the null values, we will drop some useless columns for our analysis.\n",
        "\n",
        "For our analysis the only relevant information we would like to extract from this dataset are information related to the locations of the incidents and the their time. As a result every other column would be dropped.\n",
        "\n",
        "The columns of interest are the following:\n",
        "\n",
        "*   CMPLNT_FR_DT : Exact date of occurrence for the reported event\n",
        "*   BORO_NM     : Borough name\n",
        "*   Latitude    : Latitude coordinate\n",
        "*   Longitude   : Longitude coordinate\n",
        "\n"
      ]
    },
    {
      "cell_type": "code",
      "execution_count": null,
      "metadata": {
        "colab": {
          "base_uri": "https://localhost:8080/",
          "height": 206
        },
        "id": "YEVZfy0-NYJF",
        "outputId": "24830ef6-f20a-48a4-b1a6-0f7717d2a22d"
      },
      "outputs": [
        {
          "output_type": "execute_result",
          "data": {
            "text/plain": [
              "  CMPLNT_FR_DT        BORO_NM   Latitude  Longitude\n",
              "0   03/31/2018       BROOKLYN  40.653751 -73.931609\n",
              "1   03/31/2018  STATEN ISLAND  40.644726 -74.077483\n",
              "2   03/31/2018         QUEENS  40.715434 -73.737816\n",
              "3   03/31/2018         QUEENS  40.744414 -73.889065\n",
              "4   03/31/2018       BROOKLYN  40.681967 -73.982367"
            ],
            "text/html": [
              "\n",
              "  <div id=\"df-008f338e-082a-4be8-b959-e540bc54be20\" class=\"colab-df-container\">\n",
              "    <div>\n",
              "<style scoped>\n",
              "    .dataframe tbody tr th:only-of-type {\n",
              "        vertical-align: middle;\n",
              "    }\n",
              "\n",
              "    .dataframe tbody tr th {\n",
              "        vertical-align: top;\n",
              "    }\n",
              "\n",
              "    .dataframe thead th {\n",
              "        text-align: right;\n",
              "    }\n",
              "</style>\n",
              "<table border=\"1\" class=\"dataframe\">\n",
              "  <thead>\n",
              "    <tr style=\"text-align: right;\">\n",
              "      <th></th>\n",
              "      <th>CMPLNT_FR_DT</th>\n",
              "      <th>BORO_NM</th>\n",
              "      <th>Latitude</th>\n",
              "      <th>Longitude</th>\n",
              "    </tr>\n",
              "  </thead>\n",
              "  <tbody>\n",
              "    <tr>\n",
              "      <th>0</th>\n",
              "      <td>03/31/2018</td>\n",
              "      <td>BROOKLYN</td>\n",
              "      <td>40.653751</td>\n",
              "      <td>-73.931609</td>\n",
              "    </tr>\n",
              "    <tr>\n",
              "      <th>1</th>\n",
              "      <td>03/31/2018</td>\n",
              "      <td>STATEN ISLAND</td>\n",
              "      <td>40.644726</td>\n",
              "      <td>-74.077483</td>\n",
              "    </tr>\n",
              "    <tr>\n",
              "      <th>2</th>\n",
              "      <td>03/31/2018</td>\n",
              "      <td>QUEENS</td>\n",
              "      <td>40.715434</td>\n",
              "      <td>-73.737816</td>\n",
              "    </tr>\n",
              "    <tr>\n",
              "      <th>3</th>\n",
              "      <td>03/31/2018</td>\n",
              "      <td>QUEENS</td>\n",
              "      <td>40.744414</td>\n",
              "      <td>-73.889065</td>\n",
              "    </tr>\n",
              "    <tr>\n",
              "      <th>4</th>\n",
              "      <td>03/31/2018</td>\n",
              "      <td>BROOKLYN</td>\n",
              "      <td>40.681967</td>\n",
              "      <td>-73.982367</td>\n",
              "    </tr>\n",
              "  </tbody>\n",
              "</table>\n",
              "</div>\n",
              "    <div class=\"colab-df-buttons\">\n",
              "\n",
              "  <div class=\"colab-df-container\">\n",
              "    <button class=\"colab-df-convert\" onclick=\"convertToInteractive('df-008f338e-082a-4be8-b959-e540bc54be20')\"\n",
              "            title=\"Convert this dataframe to an interactive table.\"\n",
              "            style=\"display:none;\">\n",
              "\n",
              "  <svg xmlns=\"http://www.w3.org/2000/svg\" height=\"24px\" viewBox=\"0 -960 960 960\">\n",
              "    <path d=\"M120-120v-720h720v720H120Zm60-500h600v-160H180v160Zm220 220h160v-160H400v160Zm0 220h160v-160H400v160ZM180-400h160v-160H180v160Zm440 0h160v-160H620v160ZM180-180h160v-160H180v160Zm440 0h160v-160H620v160Z\"/>\n",
              "  </svg>\n",
              "    </button>\n",
              "\n",
              "  <style>\n",
              "    .colab-df-container {\n",
              "      display:flex;\n",
              "      gap: 12px;\n",
              "    }\n",
              "\n",
              "    .colab-df-convert {\n",
              "      background-color: #E8F0FE;\n",
              "      border: none;\n",
              "      border-radius: 50%;\n",
              "      cursor: pointer;\n",
              "      display: none;\n",
              "      fill: #1967D2;\n",
              "      height: 32px;\n",
              "      padding: 0 0 0 0;\n",
              "      width: 32px;\n",
              "    }\n",
              "\n",
              "    .colab-df-convert:hover {\n",
              "      background-color: #E2EBFA;\n",
              "      box-shadow: 0px 1px 2px rgba(60, 64, 67, 0.3), 0px 1px 3px 1px rgba(60, 64, 67, 0.15);\n",
              "      fill: #174EA6;\n",
              "    }\n",
              "\n",
              "    .colab-df-buttons div {\n",
              "      margin-bottom: 4px;\n",
              "    }\n",
              "\n",
              "    [theme=dark] .colab-df-convert {\n",
              "      background-color: #3B4455;\n",
              "      fill: #D2E3FC;\n",
              "    }\n",
              "\n",
              "    [theme=dark] .colab-df-convert:hover {\n",
              "      background-color: #434B5C;\n",
              "      box-shadow: 0px 1px 3px 1px rgba(0, 0, 0, 0.15);\n",
              "      filter: drop-shadow(0px 1px 2px rgba(0, 0, 0, 0.3));\n",
              "      fill: #FFFFFF;\n",
              "    }\n",
              "  </style>\n",
              "\n",
              "    <script>\n",
              "      const buttonEl =\n",
              "        document.querySelector('#df-008f338e-082a-4be8-b959-e540bc54be20 button.colab-df-convert');\n",
              "      buttonEl.style.display =\n",
              "        google.colab.kernel.accessAllowed ? 'block' : 'none';\n",
              "\n",
              "      async function convertToInteractive(key) {\n",
              "        const element = document.querySelector('#df-008f338e-082a-4be8-b959-e540bc54be20');\n",
              "        const dataTable =\n",
              "          await google.colab.kernel.invokeFunction('convertToInteractive',\n",
              "                                                    [key], {});\n",
              "        if (!dataTable) return;\n",
              "\n",
              "        const docLinkHtml = 'Like what you see? Visit the ' +\n",
              "          '<a target=\"_blank\" href=https://colab.research.google.com/notebooks/data_table.ipynb>data table notebook</a>'\n",
              "          + ' to learn more about interactive tables.';\n",
              "        element.innerHTML = '';\n",
              "        dataTable['output_type'] = 'display_data';\n",
              "        await google.colab.output.renderOutput(dataTable, element);\n",
              "        const docLink = document.createElement('div');\n",
              "        docLink.innerHTML = docLinkHtml;\n",
              "        element.appendChild(docLink);\n",
              "      }\n",
              "    </script>\n",
              "  </div>\n",
              "\n",
              "\n",
              "<div id=\"df-2531193d-13e5-404c-a1c0-bd0b675909ce\">\n",
              "  <button class=\"colab-df-quickchart\" onclick=\"quickchart('df-2531193d-13e5-404c-a1c0-bd0b675909ce')\"\n",
              "            title=\"Suggest charts\"\n",
              "            style=\"display:none;\">\n",
              "\n",
              "<svg xmlns=\"http://www.w3.org/2000/svg\" height=\"24px\"viewBox=\"0 0 24 24\"\n",
              "     width=\"24px\">\n",
              "    <g>\n",
              "        <path d=\"M19 3H5c-1.1 0-2 .9-2 2v14c0 1.1.9 2 2 2h14c1.1 0 2-.9 2-2V5c0-1.1-.9-2-2-2zM9 17H7v-7h2v7zm4 0h-2V7h2v10zm4 0h-2v-4h2v4z\"/>\n",
              "    </g>\n",
              "</svg>\n",
              "  </button>\n",
              "\n",
              "<style>\n",
              "  .colab-df-quickchart {\n",
              "      --bg-color: #E8F0FE;\n",
              "      --fill-color: #1967D2;\n",
              "      --hover-bg-color: #E2EBFA;\n",
              "      --hover-fill-color: #174EA6;\n",
              "      --disabled-fill-color: #AAA;\n",
              "      --disabled-bg-color: #DDD;\n",
              "  }\n",
              "\n",
              "  [theme=dark] .colab-df-quickchart {\n",
              "      --bg-color: #3B4455;\n",
              "      --fill-color: #D2E3FC;\n",
              "      --hover-bg-color: #434B5C;\n",
              "      --hover-fill-color: #FFFFFF;\n",
              "      --disabled-bg-color: #3B4455;\n",
              "      --disabled-fill-color: #666;\n",
              "  }\n",
              "\n",
              "  .colab-df-quickchart {\n",
              "    background-color: var(--bg-color);\n",
              "    border: none;\n",
              "    border-radius: 50%;\n",
              "    cursor: pointer;\n",
              "    display: none;\n",
              "    fill: var(--fill-color);\n",
              "    height: 32px;\n",
              "    padding: 0;\n",
              "    width: 32px;\n",
              "  }\n",
              "\n",
              "  .colab-df-quickchart:hover {\n",
              "    background-color: var(--hover-bg-color);\n",
              "    box-shadow: 0 1px 2px rgba(60, 64, 67, 0.3), 0 1px 3px 1px rgba(60, 64, 67, 0.15);\n",
              "    fill: var(--button-hover-fill-color);\n",
              "  }\n",
              "\n",
              "  .colab-df-quickchart-complete:disabled,\n",
              "  .colab-df-quickchart-complete:disabled:hover {\n",
              "    background-color: var(--disabled-bg-color);\n",
              "    fill: var(--disabled-fill-color);\n",
              "    box-shadow: none;\n",
              "  }\n",
              "\n",
              "  .colab-df-spinner {\n",
              "    border: 2px solid var(--fill-color);\n",
              "    border-color: transparent;\n",
              "    border-bottom-color: var(--fill-color);\n",
              "    animation:\n",
              "      spin 1s steps(1) infinite;\n",
              "  }\n",
              "\n",
              "  @keyframes spin {\n",
              "    0% {\n",
              "      border-color: transparent;\n",
              "      border-bottom-color: var(--fill-color);\n",
              "      border-left-color: var(--fill-color);\n",
              "    }\n",
              "    20% {\n",
              "      border-color: transparent;\n",
              "      border-left-color: var(--fill-color);\n",
              "      border-top-color: var(--fill-color);\n",
              "    }\n",
              "    30% {\n",
              "      border-color: transparent;\n",
              "      border-left-color: var(--fill-color);\n",
              "      border-top-color: var(--fill-color);\n",
              "      border-right-color: var(--fill-color);\n",
              "    }\n",
              "    40% {\n",
              "      border-color: transparent;\n",
              "      border-right-color: var(--fill-color);\n",
              "      border-top-color: var(--fill-color);\n",
              "    }\n",
              "    60% {\n",
              "      border-color: transparent;\n",
              "      border-right-color: var(--fill-color);\n",
              "    }\n",
              "    80% {\n",
              "      border-color: transparent;\n",
              "      border-right-color: var(--fill-color);\n",
              "      border-bottom-color: var(--fill-color);\n",
              "    }\n",
              "    90% {\n",
              "      border-color: transparent;\n",
              "      border-bottom-color: var(--fill-color);\n",
              "    }\n",
              "  }\n",
              "</style>\n",
              "\n",
              "  <script>\n",
              "    async function quickchart(key) {\n",
              "      const quickchartButtonEl =\n",
              "        document.querySelector('#' + key + ' button');\n",
              "      quickchartButtonEl.disabled = true;  // To prevent multiple clicks.\n",
              "      quickchartButtonEl.classList.add('colab-df-spinner');\n",
              "      try {\n",
              "        const charts = await google.colab.kernel.invokeFunction(\n",
              "            'suggestCharts', [key], {});\n",
              "      } catch (error) {\n",
              "        console.error('Error during call to suggestCharts:', error);\n",
              "      }\n",
              "      quickchartButtonEl.classList.remove('colab-df-spinner');\n",
              "      quickchartButtonEl.classList.add('colab-df-quickchart-complete');\n",
              "    }\n",
              "    (() => {\n",
              "      let quickchartButtonEl =\n",
              "        document.querySelector('#df-2531193d-13e5-404c-a1c0-bd0b675909ce button');\n",
              "      quickchartButtonEl.style.display =\n",
              "        google.colab.kernel.accessAllowed ? 'block' : 'none';\n",
              "    })();\n",
              "  </script>\n",
              "</div>\n",
              "\n",
              "    </div>\n",
              "  </div>\n"
            ],
            "application/vnd.google.colaboratory.intrinsic+json": {
              "type": "dataframe",
              "variable_name": "complaint_df"
            }
          },
          "metadata": {},
          "execution_count": 252
        }
      ],
      "source": [
        "complaint_df = complaint_df[['CMPLNT_FR_DT','BORO_NM','Latitude','Longitude']]\n",
        "complaint_df.head()"
      ]
    },
    {
      "cell_type": "markdown",
      "metadata": {
        "id": "lhHCuWFEJS1f"
      },
      "source": [
        "#### Handling Null Values"
      ]
    },
    {
      "cell_type": "code",
      "execution_count": null,
      "metadata": {
        "colab": {
          "base_uri": "https://localhost:8080/"
        },
        "id": "_VoBncXCNg3g",
        "outputId": "4629ffb7-9555-4efd-8782-6eaf5e5887f0"
      },
      "outputs": [
        {
          "output_type": "stream",
          "name": "stdout",
          "text": [
            "<class 'pandas.core.frame.DataFrame'>\n",
            "RangeIndex: 109543 entries, 0 to 109542\n",
            "Data columns (total 4 columns):\n",
            " #   Column        Non-Null Count   Dtype  \n",
            "---  ------        --------------   -----  \n",
            " 0   CMPLNT_FR_DT  109543 non-null  object \n",
            " 1   BORO_NM       109485 non-null  object \n",
            " 2   Latitude      109541 non-null  float64\n",
            " 3   Longitude     109541 non-null  float64\n",
            "dtypes: float64(2), object(2)\n",
            "memory usage: 3.3+ MB\n"
          ]
        }
      ],
      "source": [
        "complaint_df.info()"
      ]
    },
    {
      "cell_type": "markdown",
      "metadata": {
        "id": "goemMr6CNq1F"
      },
      "source": [
        "Our data contains 109543 rows and 4 columns. Let us look at the null values"
      ]
    },
    {
      "cell_type": "code",
      "execution_count": null,
      "metadata": {
        "colab": {
          "base_uri": "https://localhost:8080/",
          "height": 210
        },
        "id": "EwqhdkVIN1Bh",
        "outputId": "5a9f9dc1-253f-45ff-932f-0c1aa130f099"
      },
      "outputs": [
        {
          "output_type": "execute_result",
          "data": {
            "text/plain": [
              "CMPLNT_FR_DT     0\n",
              "BORO_NM         58\n",
              "Latitude         2\n",
              "Longitude        2\n",
              "dtype: int64"
            ],
            "text/html": [
              "<div>\n",
              "<style scoped>\n",
              "    .dataframe tbody tr th:only-of-type {\n",
              "        vertical-align: middle;\n",
              "    }\n",
              "\n",
              "    .dataframe tbody tr th {\n",
              "        vertical-align: top;\n",
              "    }\n",
              "\n",
              "    .dataframe thead th {\n",
              "        text-align: right;\n",
              "    }\n",
              "</style>\n",
              "<table border=\"1\" class=\"dataframe\">\n",
              "  <thead>\n",
              "    <tr style=\"text-align: right;\">\n",
              "      <th></th>\n",
              "      <th>0</th>\n",
              "    </tr>\n",
              "  </thead>\n",
              "  <tbody>\n",
              "    <tr>\n",
              "      <th>CMPLNT_FR_DT</th>\n",
              "      <td>0</td>\n",
              "    </tr>\n",
              "    <tr>\n",
              "      <th>BORO_NM</th>\n",
              "      <td>58</td>\n",
              "    </tr>\n",
              "    <tr>\n",
              "      <th>Latitude</th>\n",
              "      <td>2</td>\n",
              "    </tr>\n",
              "    <tr>\n",
              "      <th>Longitude</th>\n",
              "      <td>2</td>\n",
              "    </tr>\n",
              "  </tbody>\n",
              "</table>\n",
              "</div><br><label><b>dtype:</b> int64</label>"
            ]
          },
          "metadata": {},
          "execution_count": 254
        }
      ],
      "source": [
        "complaint_df.isnull().sum()"
      ]
    },
    {
      "cell_type": "markdown",
      "metadata": {
        "id": "PVZ9bauTN6hl"
      },
      "source": [
        "The numer of null values recorded seems insignificant, it is safe to drop rows with null values. Let us do that"
      ]
    },
    {
      "cell_type": "code",
      "execution_count": null,
      "metadata": {
        "colab": {
          "base_uri": "https://localhost:8080/",
          "height": 210
        },
        "id": "ux4BSzzaOGkn",
        "outputId": "f40b9af6-353a-473f-f96f-2601207924b7"
      },
      "outputs": [
        {
          "output_type": "execute_result",
          "data": {
            "text/plain": [
              "CMPLNT_FR_DT    0\n",
              "BORO_NM         0\n",
              "Latitude        0\n",
              "Longitude       0\n",
              "dtype: int64"
            ],
            "text/html": [
              "<div>\n",
              "<style scoped>\n",
              "    .dataframe tbody tr th:only-of-type {\n",
              "        vertical-align: middle;\n",
              "    }\n",
              "\n",
              "    .dataframe tbody tr th {\n",
              "        vertical-align: top;\n",
              "    }\n",
              "\n",
              "    .dataframe thead th {\n",
              "        text-align: right;\n",
              "    }\n",
              "</style>\n",
              "<table border=\"1\" class=\"dataframe\">\n",
              "  <thead>\n",
              "    <tr style=\"text-align: right;\">\n",
              "      <th></th>\n",
              "      <th>0</th>\n",
              "    </tr>\n",
              "  </thead>\n",
              "  <tbody>\n",
              "    <tr>\n",
              "      <th>CMPLNT_FR_DT</th>\n",
              "      <td>0</td>\n",
              "    </tr>\n",
              "    <tr>\n",
              "      <th>BORO_NM</th>\n",
              "      <td>0</td>\n",
              "    </tr>\n",
              "    <tr>\n",
              "      <th>Latitude</th>\n",
              "      <td>0</td>\n",
              "    </tr>\n",
              "    <tr>\n",
              "      <th>Longitude</th>\n",
              "      <td>0</td>\n",
              "    </tr>\n",
              "  </tbody>\n",
              "</table>\n",
              "</div><br><label><b>dtype:</b> int64</label>"
            ]
          },
          "metadata": {},
          "execution_count": 255
        }
      ],
      "source": [
        "complaint_df.dropna(inplace=True)\n",
        "complaint_df.isnull().sum()"
      ]
    },
    {
      "cell_type": "markdown",
      "metadata": {
        "id": "CjN0lEdWOP5d"
      },
      "source": [
        "Let us now look at the duplicated values"
      ]
    },
    {
      "cell_type": "markdown",
      "metadata": {
        "id": "KVAhMQNzJm1y"
      },
      "source": [
        "#### Handling Duplicates"
      ]
    },
    {
      "cell_type": "code",
      "execution_count": null,
      "metadata": {
        "colab": {
          "base_uri": "https://localhost:8080/"
        },
        "id": "HUAE1J8_PDc6",
        "outputId": "bf0913aa-3ace-4793-eb40-133c6397a671"
      },
      "outputs": [
        {
          "output_type": "execute_result",
          "data": {
            "text/plain": [
              "np.int64(10055)"
            ]
          },
          "metadata": {},
          "execution_count": 256
        }
      ],
      "source": [
        "complaint_df.duplicated().sum()"
      ]
    },
    {
      "cell_type": "code",
      "execution_count": null,
      "metadata": {
        "colab": {
          "base_uri": "https://localhost:8080/"
        },
        "id": "RHXknPNnPOV2",
        "outputId": "f7082fe6-d0c3-448b-e35b-7034777376fc"
      },
      "outputs": [
        {
          "output_type": "execute_result",
          "data": {
            "text/plain": [
              "np.int64(0)"
            ]
          },
          "metadata": {},
          "execution_count": 257
        }
      ],
      "source": [
        "#drop duplicates\n",
        "complaint_df.drop_duplicates(inplace=True)\n",
        "complaint_df.duplicated().sum()"
      ]
    },
    {
      "cell_type": "markdown",
      "metadata": {
        "id": "gi-sRRrLaFXy"
      },
      "source": [
        "# Exploratory Data Analyis & Feature Engineering"
      ]
    },
    {
      "cell_type": "markdown",
      "metadata": {
        "id": "08iN2zgprNXQ"
      },
      "source": [
        "## AirBnB EDA"
      ]
    },
    {
      "cell_type": "markdown",
      "metadata": {
        "id": "6V_7WDdchMSD"
      },
      "source": [
        "### Understanding the data"
      ]
    },
    {
      "cell_type": "markdown",
      "metadata": {
        "id": "x4FTLUNmhS3S"
      },
      "source": [
        "In this section we’ll **get to know our dataset** by:\n",
        "\n",
        "1. **Previewing** the first few rows with `df.head()`  \n",
        "2. **Checking** the datatypes of the different columns\n",
        "3. **Checking** its overall size and structure with `df.shape` and `df.info()`  \n",
        "5. **Summarizing** key statistics via `df.describe()`  \n",
        "4. **Identifying** missing values and duplicates\n"
      ]
    },
    {
      "cell_type": "code",
      "execution_count": null,
      "metadata": {
        "colab": {
          "base_uri": "https://localhost:8080/",
          "height": 481
        },
        "id": "YG99XpfFOjtj",
        "outputId": "d758e2d2-dcda-4b5c-8d44-1a60df277f96"
      },
      "outputs": [
        {
          "output_type": "execute_result",
          "data": {
            "text/plain": [
              "        id                                              NAME      host id  \\\n",
              "0  1001254                Clean & quiet apt home by the park  80014485718   \n",
              "1  1002102                             Skylit Midtown Castle  52335172823   \n",
              "4  1003689  Entire Apt: Spacious Studio/Loft by central park  92037596077   \n",
              "5  1004098         Large Cozy 1 BR Apartment In Midtown East  45498551794   \n",
              "7  1005202                                   BlissArtsSpace!  90821839709   \n",
              "\n",
              "  host_identity_verified host name neighbourhood group       neighbourhood  \\\n",
              "0            unconfirmed  Madaline            Brooklyn          Kensington   \n",
              "1               verified     Jenna           Manhattan             Midtown   \n",
              "4               verified    Lyndon           Manhattan         East Harlem   \n",
              "5               verified  Michelle           Manhattan         Murray Hill   \n",
              "7            unconfirmed      Emma            Brooklyn  Bedford-Stuyvesant   \n",
              "\n",
              "        lat      long country code  ... Construction year    price  \\\n",
              "0  40.64749 -73.97237           US  ...            2020.0    $966    \n",
              "1  40.75362 -73.98377           US  ...            2007.0    $142    \n",
              "4  40.79851 -73.94399           US  ...            2009.0    $204    \n",
              "5  40.74767 -73.97500           US  ...            2013.0    $577    \n",
              "7  40.68688 -73.95596           US  ...            2009.0  $1,060    \n",
              "\n",
              "  service fee  minimum nights number of reviews last review  \\\n",
              "0       $193             10.0               9.0  10/19/2021   \n",
              "1        $28             30.0              45.0   5/21/2022   \n",
              "4        $41             10.0               9.0  11/19/2018   \n",
              "5       $115              3.0              74.0   6/22/2019   \n",
              "7       $212             45.0              49.0   10/5/2017   \n",
              "\n",
              "   reviews per month  review rate number calculated host listings count  \\\n",
              "0               0.21                 4.0                            6.0   \n",
              "1               0.38                 4.0                            2.0   \n",
              "4               0.10                 3.0                            1.0   \n",
              "5               0.59                 3.0                            1.0   \n",
              "7               0.40                 5.0                            1.0   \n",
              "\n",
              "   availability 365  \n",
              "0             286.0  \n",
              "1             228.0  \n",
              "4             289.0  \n",
              "5             374.0  \n",
              "7             219.0  \n",
              "\n",
              "[5 rows x 23 columns]"
            ],
            "text/html": [
              "\n",
              "  <div id=\"df-cf490840-e2b7-4160-890f-6aa1fef4d767\" class=\"colab-df-container\">\n",
              "    <div>\n",
              "<style scoped>\n",
              "    .dataframe tbody tr th:only-of-type {\n",
              "        vertical-align: middle;\n",
              "    }\n",
              "\n",
              "    .dataframe tbody tr th {\n",
              "        vertical-align: top;\n",
              "    }\n",
              "\n",
              "    .dataframe thead th {\n",
              "        text-align: right;\n",
              "    }\n",
              "</style>\n",
              "<table border=\"1\" class=\"dataframe\">\n",
              "  <thead>\n",
              "    <tr style=\"text-align: right;\">\n",
              "      <th></th>\n",
              "      <th>id</th>\n",
              "      <th>NAME</th>\n",
              "      <th>host id</th>\n",
              "      <th>host_identity_verified</th>\n",
              "      <th>host name</th>\n",
              "      <th>neighbourhood group</th>\n",
              "      <th>neighbourhood</th>\n",
              "      <th>lat</th>\n",
              "      <th>long</th>\n",
              "      <th>country code</th>\n",
              "      <th>...</th>\n",
              "      <th>Construction year</th>\n",
              "      <th>price</th>\n",
              "      <th>service fee</th>\n",
              "      <th>minimum nights</th>\n",
              "      <th>number of reviews</th>\n",
              "      <th>last review</th>\n",
              "      <th>reviews per month</th>\n",
              "      <th>review rate number</th>\n",
              "      <th>calculated host listings count</th>\n",
              "      <th>availability 365</th>\n",
              "    </tr>\n",
              "  </thead>\n",
              "  <tbody>\n",
              "    <tr>\n",
              "      <th>0</th>\n",
              "      <td>1001254</td>\n",
              "      <td>Clean &amp; quiet apt home by the park</td>\n",
              "      <td>80014485718</td>\n",
              "      <td>unconfirmed</td>\n",
              "      <td>Madaline</td>\n",
              "      <td>Brooklyn</td>\n",
              "      <td>Kensington</td>\n",
              "      <td>40.64749</td>\n",
              "      <td>-73.97237</td>\n",
              "      <td>US</td>\n",
              "      <td>...</td>\n",
              "      <td>2020.0</td>\n",
              "      <td>$966</td>\n",
              "      <td>$193</td>\n",
              "      <td>10.0</td>\n",
              "      <td>9.0</td>\n",
              "      <td>10/19/2021</td>\n",
              "      <td>0.21</td>\n",
              "      <td>4.0</td>\n",
              "      <td>6.0</td>\n",
              "      <td>286.0</td>\n",
              "    </tr>\n",
              "    <tr>\n",
              "      <th>1</th>\n",
              "      <td>1002102</td>\n",
              "      <td>Skylit Midtown Castle</td>\n",
              "      <td>52335172823</td>\n",
              "      <td>verified</td>\n",
              "      <td>Jenna</td>\n",
              "      <td>Manhattan</td>\n",
              "      <td>Midtown</td>\n",
              "      <td>40.75362</td>\n",
              "      <td>-73.98377</td>\n",
              "      <td>US</td>\n",
              "      <td>...</td>\n",
              "      <td>2007.0</td>\n",
              "      <td>$142</td>\n",
              "      <td>$28</td>\n",
              "      <td>30.0</td>\n",
              "      <td>45.0</td>\n",
              "      <td>5/21/2022</td>\n",
              "      <td>0.38</td>\n",
              "      <td>4.0</td>\n",
              "      <td>2.0</td>\n",
              "      <td>228.0</td>\n",
              "    </tr>\n",
              "    <tr>\n",
              "      <th>4</th>\n",
              "      <td>1003689</td>\n",
              "      <td>Entire Apt: Spacious Studio/Loft by central park</td>\n",
              "      <td>92037596077</td>\n",
              "      <td>verified</td>\n",
              "      <td>Lyndon</td>\n",
              "      <td>Manhattan</td>\n",
              "      <td>East Harlem</td>\n",
              "      <td>40.79851</td>\n",
              "      <td>-73.94399</td>\n",
              "      <td>US</td>\n",
              "      <td>...</td>\n",
              "      <td>2009.0</td>\n",
              "      <td>$204</td>\n",
              "      <td>$41</td>\n",
              "      <td>10.0</td>\n",
              "      <td>9.0</td>\n",
              "      <td>11/19/2018</td>\n",
              "      <td>0.10</td>\n",
              "      <td>3.0</td>\n",
              "      <td>1.0</td>\n",
              "      <td>289.0</td>\n",
              "    </tr>\n",
              "    <tr>\n",
              "      <th>5</th>\n",
              "      <td>1004098</td>\n",
              "      <td>Large Cozy 1 BR Apartment In Midtown East</td>\n",
              "      <td>45498551794</td>\n",
              "      <td>verified</td>\n",
              "      <td>Michelle</td>\n",
              "      <td>Manhattan</td>\n",
              "      <td>Murray Hill</td>\n",
              "      <td>40.74767</td>\n",
              "      <td>-73.97500</td>\n",
              "      <td>US</td>\n",
              "      <td>...</td>\n",
              "      <td>2013.0</td>\n",
              "      <td>$577</td>\n",
              "      <td>$115</td>\n",
              "      <td>3.0</td>\n",
              "      <td>74.0</td>\n",
              "      <td>6/22/2019</td>\n",
              "      <td>0.59</td>\n",
              "      <td>3.0</td>\n",
              "      <td>1.0</td>\n",
              "      <td>374.0</td>\n",
              "    </tr>\n",
              "    <tr>\n",
              "      <th>7</th>\n",
              "      <td>1005202</td>\n",
              "      <td>BlissArtsSpace!</td>\n",
              "      <td>90821839709</td>\n",
              "      <td>unconfirmed</td>\n",
              "      <td>Emma</td>\n",
              "      <td>Brooklyn</td>\n",
              "      <td>Bedford-Stuyvesant</td>\n",
              "      <td>40.68688</td>\n",
              "      <td>-73.95596</td>\n",
              "      <td>US</td>\n",
              "      <td>...</td>\n",
              "      <td>2009.0</td>\n",
              "      <td>$1,060</td>\n",
              "      <td>$212</td>\n",
              "      <td>45.0</td>\n",
              "      <td>49.0</td>\n",
              "      <td>10/5/2017</td>\n",
              "      <td>0.40</td>\n",
              "      <td>5.0</td>\n",
              "      <td>1.0</td>\n",
              "      <td>219.0</td>\n",
              "    </tr>\n",
              "  </tbody>\n",
              "</table>\n",
              "<p>5 rows × 23 columns</p>\n",
              "</div>\n",
              "    <div class=\"colab-df-buttons\">\n",
              "\n",
              "  <div class=\"colab-df-container\">\n",
              "    <button class=\"colab-df-convert\" onclick=\"convertToInteractive('df-cf490840-e2b7-4160-890f-6aa1fef4d767')\"\n",
              "            title=\"Convert this dataframe to an interactive table.\"\n",
              "            style=\"display:none;\">\n",
              "\n",
              "  <svg xmlns=\"http://www.w3.org/2000/svg\" height=\"24px\" viewBox=\"0 -960 960 960\">\n",
              "    <path d=\"M120-120v-720h720v720H120Zm60-500h600v-160H180v160Zm220 220h160v-160H400v160Zm0 220h160v-160H400v160ZM180-400h160v-160H180v160Zm440 0h160v-160H620v160ZM180-180h160v-160H180v160Zm440 0h160v-160H620v160Z\"/>\n",
              "  </svg>\n",
              "    </button>\n",
              "\n",
              "  <style>\n",
              "    .colab-df-container {\n",
              "      display:flex;\n",
              "      gap: 12px;\n",
              "    }\n",
              "\n",
              "    .colab-df-convert {\n",
              "      background-color: #E8F0FE;\n",
              "      border: none;\n",
              "      border-radius: 50%;\n",
              "      cursor: pointer;\n",
              "      display: none;\n",
              "      fill: #1967D2;\n",
              "      height: 32px;\n",
              "      padding: 0 0 0 0;\n",
              "      width: 32px;\n",
              "    }\n",
              "\n",
              "    .colab-df-convert:hover {\n",
              "      background-color: #E2EBFA;\n",
              "      box-shadow: 0px 1px 2px rgba(60, 64, 67, 0.3), 0px 1px 3px 1px rgba(60, 64, 67, 0.15);\n",
              "      fill: #174EA6;\n",
              "    }\n",
              "\n",
              "    .colab-df-buttons div {\n",
              "      margin-bottom: 4px;\n",
              "    }\n",
              "\n",
              "    [theme=dark] .colab-df-convert {\n",
              "      background-color: #3B4455;\n",
              "      fill: #D2E3FC;\n",
              "    }\n",
              "\n",
              "    [theme=dark] .colab-df-convert:hover {\n",
              "      background-color: #434B5C;\n",
              "      box-shadow: 0px 1px 3px 1px rgba(0, 0, 0, 0.15);\n",
              "      filter: drop-shadow(0px 1px 2px rgba(0, 0, 0, 0.3));\n",
              "      fill: #FFFFFF;\n",
              "    }\n",
              "  </style>\n",
              "\n",
              "    <script>\n",
              "      const buttonEl =\n",
              "        document.querySelector('#df-cf490840-e2b7-4160-890f-6aa1fef4d767 button.colab-df-convert');\n",
              "      buttonEl.style.display =\n",
              "        google.colab.kernel.accessAllowed ? 'block' : 'none';\n",
              "\n",
              "      async function convertToInteractive(key) {\n",
              "        const element = document.querySelector('#df-cf490840-e2b7-4160-890f-6aa1fef4d767');\n",
              "        const dataTable =\n",
              "          await google.colab.kernel.invokeFunction('convertToInteractive',\n",
              "                                                    [key], {});\n",
              "        if (!dataTable) return;\n",
              "\n",
              "        const docLinkHtml = 'Like what you see? Visit the ' +\n",
              "          '<a target=\"_blank\" href=https://colab.research.google.com/notebooks/data_table.ipynb>data table notebook</a>'\n",
              "          + ' to learn more about interactive tables.';\n",
              "        element.innerHTML = '';\n",
              "        dataTable['output_type'] = 'display_data';\n",
              "        await google.colab.output.renderOutput(dataTable, element);\n",
              "        const docLink = document.createElement('div');\n",
              "        docLink.innerHTML = docLinkHtml;\n",
              "        element.appendChild(docLink);\n",
              "      }\n",
              "    </script>\n",
              "  </div>\n",
              "\n",
              "\n",
              "<div id=\"df-d98c3d3c-9b8a-4d47-be94-34d10b5f8e74\">\n",
              "  <button class=\"colab-df-quickchart\" onclick=\"quickchart('df-d98c3d3c-9b8a-4d47-be94-34d10b5f8e74')\"\n",
              "            title=\"Suggest charts\"\n",
              "            style=\"display:none;\">\n",
              "\n",
              "<svg xmlns=\"http://www.w3.org/2000/svg\" height=\"24px\"viewBox=\"0 0 24 24\"\n",
              "     width=\"24px\">\n",
              "    <g>\n",
              "        <path d=\"M19 3H5c-1.1 0-2 .9-2 2v14c0 1.1.9 2 2 2h14c1.1 0 2-.9 2-2V5c0-1.1-.9-2-2-2zM9 17H7v-7h2v7zm4 0h-2V7h2v10zm4 0h-2v-4h2v4z\"/>\n",
              "    </g>\n",
              "</svg>\n",
              "  </button>\n",
              "\n",
              "<style>\n",
              "  .colab-df-quickchart {\n",
              "      --bg-color: #E8F0FE;\n",
              "      --fill-color: #1967D2;\n",
              "      --hover-bg-color: #E2EBFA;\n",
              "      --hover-fill-color: #174EA6;\n",
              "      --disabled-fill-color: #AAA;\n",
              "      --disabled-bg-color: #DDD;\n",
              "  }\n",
              "\n",
              "  [theme=dark] .colab-df-quickchart {\n",
              "      --bg-color: #3B4455;\n",
              "      --fill-color: #D2E3FC;\n",
              "      --hover-bg-color: #434B5C;\n",
              "      --hover-fill-color: #FFFFFF;\n",
              "      --disabled-bg-color: #3B4455;\n",
              "      --disabled-fill-color: #666;\n",
              "  }\n",
              "\n",
              "  .colab-df-quickchart {\n",
              "    background-color: var(--bg-color);\n",
              "    border: none;\n",
              "    border-radius: 50%;\n",
              "    cursor: pointer;\n",
              "    display: none;\n",
              "    fill: var(--fill-color);\n",
              "    height: 32px;\n",
              "    padding: 0;\n",
              "    width: 32px;\n",
              "  }\n",
              "\n",
              "  .colab-df-quickchart:hover {\n",
              "    background-color: var(--hover-bg-color);\n",
              "    box-shadow: 0 1px 2px rgba(60, 64, 67, 0.3), 0 1px 3px 1px rgba(60, 64, 67, 0.15);\n",
              "    fill: var(--button-hover-fill-color);\n",
              "  }\n",
              "\n",
              "  .colab-df-quickchart-complete:disabled,\n",
              "  .colab-df-quickchart-complete:disabled:hover {\n",
              "    background-color: var(--disabled-bg-color);\n",
              "    fill: var(--disabled-fill-color);\n",
              "    box-shadow: none;\n",
              "  }\n",
              "\n",
              "  .colab-df-spinner {\n",
              "    border: 2px solid var(--fill-color);\n",
              "    border-color: transparent;\n",
              "    border-bottom-color: var(--fill-color);\n",
              "    animation:\n",
              "      spin 1s steps(1) infinite;\n",
              "  }\n",
              "\n",
              "  @keyframes spin {\n",
              "    0% {\n",
              "      border-color: transparent;\n",
              "      border-bottom-color: var(--fill-color);\n",
              "      border-left-color: var(--fill-color);\n",
              "    }\n",
              "    20% {\n",
              "      border-color: transparent;\n",
              "      border-left-color: var(--fill-color);\n",
              "      border-top-color: var(--fill-color);\n",
              "    }\n",
              "    30% {\n",
              "      border-color: transparent;\n",
              "      border-left-color: var(--fill-color);\n",
              "      border-top-color: var(--fill-color);\n",
              "      border-right-color: var(--fill-color);\n",
              "    }\n",
              "    40% {\n",
              "      border-color: transparent;\n",
              "      border-right-color: var(--fill-color);\n",
              "      border-top-color: var(--fill-color);\n",
              "    }\n",
              "    60% {\n",
              "      border-color: transparent;\n",
              "      border-right-color: var(--fill-color);\n",
              "    }\n",
              "    80% {\n",
              "      border-color: transparent;\n",
              "      border-right-color: var(--fill-color);\n",
              "      border-bottom-color: var(--fill-color);\n",
              "    }\n",
              "    90% {\n",
              "      border-color: transparent;\n",
              "      border-bottom-color: var(--fill-color);\n",
              "    }\n",
              "  }\n",
              "</style>\n",
              "\n",
              "  <script>\n",
              "    async function quickchart(key) {\n",
              "      const quickchartButtonEl =\n",
              "        document.querySelector('#' + key + ' button');\n",
              "      quickchartButtonEl.disabled = true;  // To prevent multiple clicks.\n",
              "      quickchartButtonEl.classList.add('colab-df-spinner');\n",
              "      try {\n",
              "        const charts = await google.colab.kernel.invokeFunction(\n",
              "            'suggestCharts', [key], {});\n",
              "      } catch (error) {\n",
              "        console.error('Error during call to suggestCharts:', error);\n",
              "      }\n",
              "      quickchartButtonEl.classList.remove('colab-df-spinner');\n",
              "      quickchartButtonEl.classList.add('colab-df-quickchart-complete');\n",
              "    }\n",
              "    (() => {\n",
              "      let quickchartButtonEl =\n",
              "        document.querySelector('#df-d98c3d3c-9b8a-4d47-be94-34d10b5f8e74 button');\n",
              "      quickchartButtonEl.style.display =\n",
              "        google.colab.kernel.accessAllowed ? 'block' : 'none';\n",
              "    })();\n",
              "  </script>\n",
              "</div>\n",
              "\n",
              "    </div>\n",
              "  </div>\n"
            ],
            "application/vnd.google.colaboratory.intrinsic+json": {
              "type": "dataframe",
              "variable_name": "AB_df"
            }
          },
          "metadata": {},
          "execution_count": 258
        }
      ],
      "source": [
        "#output the first 5 rows of the data\n",
        "AB_df.head()"
      ]
    },
    {
      "cell_type": "code",
      "execution_count": null,
      "metadata": {
        "colab": {
          "base_uri": "https://localhost:8080/",
          "height": 372
        },
        "id": "x7T2-zFH4PCw",
        "outputId": "a8a301f8-175a-4132-9ebc-4dfe4207e822"
      },
      "outputs": [
        {
          "output_type": "execute_result",
          "data": {
            "text/plain": [
              "                 id       host id           lat          long  \\\n",
              "count  8.382400e+04  8.382400e+04  83824.000000  83824.000000   \n",
              "mean   2.962506e+07  4.918775e+10     40.727358    -73.948518   \n",
              "std    1.621682e+07  2.852968e+10      0.056338      0.050334   \n",
              "min    1.001254e+06  1.236005e+08     40.504560    -74.249840   \n",
              "25%    1.546207e+07  2.445426e+10     40.687650    -73.982120   \n",
              "50%    3.085343e+07  4.902984e+10     40.721330    -73.953720   \n",
              "75%    4.334355e+07  7.384675e+10     40.762613    -73.930830   \n",
              "max    5.735803e+07  9.876313e+10     40.916970    -73.705220   \n",
              "\n",
              "       Construction year  minimum nights  number of reviews  \\\n",
              "count       83824.000000    83824.000000       83824.000000   \n",
              "mean         2012.487128        7.417685          32.258649   \n",
              "std             5.761586       28.050832          51.912200   \n",
              "min          2003.000000     -365.000000           1.000000   \n",
              "25%          2007.000000        2.000000           3.000000   \n",
              "50%          2012.000000        3.000000          11.000000   \n",
              "75%          2017.000000        5.000000          38.000000   \n",
              "max          2022.000000     5645.000000        1024.000000   \n",
              "\n",
              "       reviews per month  review rate number  calculated host listings count  \\\n",
              "count       83824.000000        83824.000000                    83824.000000   \n",
              "mean            1.376551            3.279634                        7.035205   \n",
              "std             1.749094            1.283238                       29.520707   \n",
              "min             0.010000            1.000000                        1.000000   \n",
              "25%             0.220000            2.000000                        1.000000   \n",
              "50%             0.740000            3.000000                        1.000000   \n",
              "75%             2.010000            4.000000                        2.000000   \n",
              "max            90.000000            5.000000                      332.000000   \n",
              "\n",
              "       availability 365  \n",
              "count      83824.000000  \n",
              "mean         141.807287  \n",
              "std          133.909677  \n",
              "min          -10.000000  \n",
              "25%            6.000000  \n",
              "50%          101.000000  \n",
              "75%          266.000000  \n",
              "max         3677.000000  "
            ],
            "text/html": [
              "\n",
              "  <div id=\"df-57697c8d-8d05-457b-9e0b-86c4a17f85af\" class=\"colab-df-container\">\n",
              "    <div>\n",
              "<style scoped>\n",
              "    .dataframe tbody tr th:only-of-type {\n",
              "        vertical-align: middle;\n",
              "    }\n",
              "\n",
              "    .dataframe tbody tr th {\n",
              "        vertical-align: top;\n",
              "    }\n",
              "\n",
              "    .dataframe thead th {\n",
              "        text-align: right;\n",
              "    }\n",
              "</style>\n",
              "<table border=\"1\" class=\"dataframe\">\n",
              "  <thead>\n",
              "    <tr style=\"text-align: right;\">\n",
              "      <th></th>\n",
              "      <th>id</th>\n",
              "      <th>host id</th>\n",
              "      <th>lat</th>\n",
              "      <th>long</th>\n",
              "      <th>Construction year</th>\n",
              "      <th>minimum nights</th>\n",
              "      <th>number of reviews</th>\n",
              "      <th>reviews per month</th>\n",
              "      <th>review rate number</th>\n",
              "      <th>calculated host listings count</th>\n",
              "      <th>availability 365</th>\n",
              "    </tr>\n",
              "  </thead>\n",
              "  <tbody>\n",
              "    <tr>\n",
              "      <th>count</th>\n",
              "      <td>8.382400e+04</td>\n",
              "      <td>8.382400e+04</td>\n",
              "      <td>83824.000000</td>\n",
              "      <td>83824.000000</td>\n",
              "      <td>83824.000000</td>\n",
              "      <td>83824.000000</td>\n",
              "      <td>83824.000000</td>\n",
              "      <td>83824.000000</td>\n",
              "      <td>83824.000000</td>\n",
              "      <td>83824.000000</td>\n",
              "      <td>83824.000000</td>\n",
              "    </tr>\n",
              "    <tr>\n",
              "      <th>mean</th>\n",
              "      <td>2.962506e+07</td>\n",
              "      <td>4.918775e+10</td>\n",
              "      <td>40.727358</td>\n",
              "      <td>-73.948518</td>\n",
              "      <td>2012.487128</td>\n",
              "      <td>7.417685</td>\n",
              "      <td>32.258649</td>\n",
              "      <td>1.376551</td>\n",
              "      <td>3.279634</td>\n",
              "      <td>7.035205</td>\n",
              "      <td>141.807287</td>\n",
              "    </tr>\n",
              "    <tr>\n",
              "      <th>std</th>\n",
              "      <td>1.621682e+07</td>\n",
              "      <td>2.852968e+10</td>\n",
              "      <td>0.056338</td>\n",
              "      <td>0.050334</td>\n",
              "      <td>5.761586</td>\n",
              "      <td>28.050832</td>\n",
              "      <td>51.912200</td>\n",
              "      <td>1.749094</td>\n",
              "      <td>1.283238</td>\n",
              "      <td>29.520707</td>\n",
              "      <td>133.909677</td>\n",
              "    </tr>\n",
              "    <tr>\n",
              "      <th>min</th>\n",
              "      <td>1.001254e+06</td>\n",
              "      <td>1.236005e+08</td>\n",
              "      <td>40.504560</td>\n",
              "      <td>-74.249840</td>\n",
              "      <td>2003.000000</td>\n",
              "      <td>-365.000000</td>\n",
              "      <td>1.000000</td>\n",
              "      <td>0.010000</td>\n",
              "      <td>1.000000</td>\n",
              "      <td>1.000000</td>\n",
              "      <td>-10.000000</td>\n",
              "    </tr>\n",
              "    <tr>\n",
              "      <th>25%</th>\n",
              "      <td>1.546207e+07</td>\n",
              "      <td>2.445426e+10</td>\n",
              "      <td>40.687650</td>\n",
              "      <td>-73.982120</td>\n",
              "      <td>2007.000000</td>\n",
              "      <td>2.000000</td>\n",
              "      <td>3.000000</td>\n",
              "      <td>0.220000</td>\n",
              "      <td>2.000000</td>\n",
              "      <td>1.000000</td>\n",
              "      <td>6.000000</td>\n",
              "    </tr>\n",
              "    <tr>\n",
              "      <th>50%</th>\n",
              "      <td>3.085343e+07</td>\n",
              "      <td>4.902984e+10</td>\n",
              "      <td>40.721330</td>\n",
              "      <td>-73.953720</td>\n",
              "      <td>2012.000000</td>\n",
              "      <td>3.000000</td>\n",
              "      <td>11.000000</td>\n",
              "      <td>0.740000</td>\n",
              "      <td>3.000000</td>\n",
              "      <td>1.000000</td>\n",
              "      <td>101.000000</td>\n",
              "    </tr>\n",
              "    <tr>\n",
              "      <th>75%</th>\n",
              "      <td>4.334355e+07</td>\n",
              "      <td>7.384675e+10</td>\n",
              "      <td>40.762613</td>\n",
              "      <td>-73.930830</td>\n",
              "      <td>2017.000000</td>\n",
              "      <td>5.000000</td>\n",
              "      <td>38.000000</td>\n",
              "      <td>2.010000</td>\n",
              "      <td>4.000000</td>\n",
              "      <td>2.000000</td>\n",
              "      <td>266.000000</td>\n",
              "    </tr>\n",
              "    <tr>\n",
              "      <th>max</th>\n",
              "      <td>5.735803e+07</td>\n",
              "      <td>9.876313e+10</td>\n",
              "      <td>40.916970</td>\n",
              "      <td>-73.705220</td>\n",
              "      <td>2022.000000</td>\n",
              "      <td>5645.000000</td>\n",
              "      <td>1024.000000</td>\n",
              "      <td>90.000000</td>\n",
              "      <td>5.000000</td>\n",
              "      <td>332.000000</td>\n",
              "      <td>3677.000000</td>\n",
              "    </tr>\n",
              "  </tbody>\n",
              "</table>\n",
              "</div>\n",
              "    <div class=\"colab-df-buttons\">\n",
              "\n",
              "  <div class=\"colab-df-container\">\n",
              "    <button class=\"colab-df-convert\" onclick=\"convertToInteractive('df-57697c8d-8d05-457b-9e0b-86c4a17f85af')\"\n",
              "            title=\"Convert this dataframe to an interactive table.\"\n",
              "            style=\"display:none;\">\n",
              "\n",
              "  <svg xmlns=\"http://www.w3.org/2000/svg\" height=\"24px\" viewBox=\"0 -960 960 960\">\n",
              "    <path d=\"M120-120v-720h720v720H120Zm60-500h600v-160H180v160Zm220 220h160v-160H400v160Zm0 220h160v-160H400v160ZM180-400h160v-160H180v160Zm440 0h160v-160H620v160ZM180-180h160v-160H180v160Zm440 0h160v-160H620v160Z\"/>\n",
              "  </svg>\n",
              "    </button>\n",
              "\n",
              "  <style>\n",
              "    .colab-df-container {\n",
              "      display:flex;\n",
              "      gap: 12px;\n",
              "    }\n",
              "\n",
              "    .colab-df-convert {\n",
              "      background-color: #E8F0FE;\n",
              "      border: none;\n",
              "      border-radius: 50%;\n",
              "      cursor: pointer;\n",
              "      display: none;\n",
              "      fill: #1967D2;\n",
              "      height: 32px;\n",
              "      padding: 0 0 0 0;\n",
              "      width: 32px;\n",
              "    }\n",
              "\n",
              "    .colab-df-convert:hover {\n",
              "      background-color: #E2EBFA;\n",
              "      box-shadow: 0px 1px 2px rgba(60, 64, 67, 0.3), 0px 1px 3px 1px rgba(60, 64, 67, 0.15);\n",
              "      fill: #174EA6;\n",
              "    }\n",
              "\n",
              "    .colab-df-buttons div {\n",
              "      margin-bottom: 4px;\n",
              "    }\n",
              "\n",
              "    [theme=dark] .colab-df-convert {\n",
              "      background-color: #3B4455;\n",
              "      fill: #D2E3FC;\n",
              "    }\n",
              "\n",
              "    [theme=dark] .colab-df-convert:hover {\n",
              "      background-color: #434B5C;\n",
              "      box-shadow: 0px 1px 3px 1px rgba(0, 0, 0, 0.15);\n",
              "      filter: drop-shadow(0px 1px 2px rgba(0, 0, 0, 0.3));\n",
              "      fill: #FFFFFF;\n",
              "    }\n",
              "  </style>\n",
              "\n",
              "    <script>\n",
              "      const buttonEl =\n",
              "        document.querySelector('#df-57697c8d-8d05-457b-9e0b-86c4a17f85af button.colab-df-convert');\n",
              "      buttonEl.style.display =\n",
              "        google.colab.kernel.accessAllowed ? 'block' : 'none';\n",
              "\n",
              "      async function convertToInteractive(key) {\n",
              "        const element = document.querySelector('#df-57697c8d-8d05-457b-9e0b-86c4a17f85af');\n",
              "        const dataTable =\n",
              "          await google.colab.kernel.invokeFunction('convertToInteractive',\n",
              "                                                    [key], {});\n",
              "        if (!dataTable) return;\n",
              "\n",
              "        const docLinkHtml = 'Like what you see? Visit the ' +\n",
              "          '<a target=\"_blank\" href=https://colab.research.google.com/notebooks/data_table.ipynb>data table notebook</a>'\n",
              "          + ' to learn more about interactive tables.';\n",
              "        element.innerHTML = '';\n",
              "        dataTable['output_type'] = 'display_data';\n",
              "        await google.colab.output.renderOutput(dataTable, element);\n",
              "        const docLink = document.createElement('div');\n",
              "        docLink.innerHTML = docLinkHtml;\n",
              "        element.appendChild(docLink);\n",
              "      }\n",
              "    </script>\n",
              "  </div>\n",
              "\n",
              "\n",
              "<div id=\"df-7042fc87-aa8e-4a6f-a0fa-b86759f77e13\">\n",
              "  <button class=\"colab-df-quickchart\" onclick=\"quickchart('df-7042fc87-aa8e-4a6f-a0fa-b86759f77e13')\"\n",
              "            title=\"Suggest charts\"\n",
              "            style=\"display:none;\">\n",
              "\n",
              "<svg xmlns=\"http://www.w3.org/2000/svg\" height=\"24px\"viewBox=\"0 0 24 24\"\n",
              "     width=\"24px\">\n",
              "    <g>\n",
              "        <path d=\"M19 3H5c-1.1 0-2 .9-2 2v14c0 1.1.9 2 2 2h14c1.1 0 2-.9 2-2V5c0-1.1-.9-2-2-2zM9 17H7v-7h2v7zm4 0h-2V7h2v10zm4 0h-2v-4h2v4z\"/>\n",
              "    </g>\n",
              "</svg>\n",
              "  </button>\n",
              "\n",
              "<style>\n",
              "  .colab-df-quickchart {\n",
              "      --bg-color: #E8F0FE;\n",
              "      --fill-color: #1967D2;\n",
              "      --hover-bg-color: #E2EBFA;\n",
              "      --hover-fill-color: #174EA6;\n",
              "      --disabled-fill-color: #AAA;\n",
              "      --disabled-bg-color: #DDD;\n",
              "  }\n",
              "\n",
              "  [theme=dark] .colab-df-quickchart {\n",
              "      --bg-color: #3B4455;\n",
              "      --fill-color: #D2E3FC;\n",
              "      --hover-bg-color: #434B5C;\n",
              "      --hover-fill-color: #FFFFFF;\n",
              "      --disabled-bg-color: #3B4455;\n",
              "      --disabled-fill-color: #666;\n",
              "  }\n",
              "\n",
              "  .colab-df-quickchart {\n",
              "    background-color: var(--bg-color);\n",
              "    border: none;\n",
              "    border-radius: 50%;\n",
              "    cursor: pointer;\n",
              "    display: none;\n",
              "    fill: var(--fill-color);\n",
              "    height: 32px;\n",
              "    padding: 0;\n",
              "    width: 32px;\n",
              "  }\n",
              "\n",
              "  .colab-df-quickchart:hover {\n",
              "    background-color: var(--hover-bg-color);\n",
              "    box-shadow: 0 1px 2px rgba(60, 64, 67, 0.3), 0 1px 3px 1px rgba(60, 64, 67, 0.15);\n",
              "    fill: var(--button-hover-fill-color);\n",
              "  }\n",
              "\n",
              "  .colab-df-quickchart-complete:disabled,\n",
              "  .colab-df-quickchart-complete:disabled:hover {\n",
              "    background-color: var(--disabled-bg-color);\n",
              "    fill: var(--disabled-fill-color);\n",
              "    box-shadow: none;\n",
              "  }\n",
              "\n",
              "  .colab-df-spinner {\n",
              "    border: 2px solid var(--fill-color);\n",
              "    border-color: transparent;\n",
              "    border-bottom-color: var(--fill-color);\n",
              "    animation:\n",
              "      spin 1s steps(1) infinite;\n",
              "  }\n",
              "\n",
              "  @keyframes spin {\n",
              "    0% {\n",
              "      border-color: transparent;\n",
              "      border-bottom-color: var(--fill-color);\n",
              "      border-left-color: var(--fill-color);\n",
              "    }\n",
              "    20% {\n",
              "      border-color: transparent;\n",
              "      border-left-color: var(--fill-color);\n",
              "      border-top-color: var(--fill-color);\n",
              "    }\n",
              "    30% {\n",
              "      border-color: transparent;\n",
              "      border-left-color: var(--fill-color);\n",
              "      border-top-color: var(--fill-color);\n",
              "      border-right-color: var(--fill-color);\n",
              "    }\n",
              "    40% {\n",
              "      border-color: transparent;\n",
              "      border-right-color: var(--fill-color);\n",
              "      border-top-color: var(--fill-color);\n",
              "    }\n",
              "    60% {\n",
              "      border-color: transparent;\n",
              "      border-right-color: var(--fill-color);\n",
              "    }\n",
              "    80% {\n",
              "      border-color: transparent;\n",
              "      border-right-color: var(--fill-color);\n",
              "      border-bottom-color: var(--fill-color);\n",
              "    }\n",
              "    90% {\n",
              "      border-color: transparent;\n",
              "      border-bottom-color: var(--fill-color);\n",
              "    }\n",
              "  }\n",
              "</style>\n",
              "\n",
              "  <script>\n",
              "    async function quickchart(key) {\n",
              "      const quickchartButtonEl =\n",
              "        document.querySelector('#' + key + ' button');\n",
              "      quickchartButtonEl.disabled = true;  // To prevent multiple clicks.\n",
              "      quickchartButtonEl.classList.add('colab-df-spinner');\n",
              "      try {\n",
              "        const charts = await google.colab.kernel.invokeFunction(\n",
              "            'suggestCharts', [key], {});\n",
              "      } catch (error) {\n",
              "        console.error('Error during call to suggestCharts:', error);\n",
              "      }\n",
              "      quickchartButtonEl.classList.remove('colab-df-spinner');\n",
              "      quickchartButtonEl.classList.add('colab-df-quickchart-complete');\n",
              "    }\n",
              "    (() => {\n",
              "      let quickchartButtonEl =\n",
              "        document.querySelector('#df-7042fc87-aa8e-4a6f-a0fa-b86759f77e13 button');\n",
              "      quickchartButtonEl.style.display =\n",
              "        google.colab.kernel.accessAllowed ? 'block' : 'none';\n",
              "    })();\n",
              "  </script>\n",
              "</div>\n",
              "\n",
              "    </div>\n",
              "  </div>\n"
            ],
            "application/vnd.google.colaboratory.intrinsic+json": {
              "type": "dataframe",
              "summary": "{\n  \"name\": \"AB_df\",\n  \"rows\": 8,\n  \"fields\": [\n    {\n      \"column\": \"id\",\n      \"properties\": {\n        \"dtype\": \"number\",\n        \"std\": 19998104.89453088,\n        \"min\": 83824.0,\n        \"max\": 57358028.0,\n        \"num_unique_values\": 8,\n        \"samples\": [\n          29625062.2057406,\n          30853427.0,\n          83824.0\n        ],\n        \"semantic_type\": \"\",\n        \"description\": \"\"\n      }\n    },\n    {\n      \"column\": \"host id\",\n      \"properties\": {\n        \"dtype\": \"number\",\n        \"std\": 34488265881.307014,\n        \"min\": 83824.0,\n        \"max\": 98763129024.0,\n        \"num_unique_values\": 8,\n        \"samples\": [\n          49187749315.5591,\n          49029842980.0,\n          83824.0\n        ],\n        \"semantic_type\": \"\",\n        \"description\": \"\"\n      }\n    },\n    {\n      \"column\": \"lat\",\n      \"properties\": {\n        \"dtype\": \"number\",\n        \"std\": 29623.91993749955,\n        \"min\": 0.05633750201036201,\n        \"max\": 83824.0,\n        \"num_unique_values\": 8,\n        \"samples\": [\n          40.72735778280146,\n          40.72133,\n          83824.0\n        ],\n        \"semantic_type\": \"\",\n        \"description\": \"\"\n      }\n    },\n    {\n      \"column\": \"long\",\n      \"properties\": {\n        \"dtype\": \"number\",\n        \"std\": 29658.681961251194,\n        \"min\": -74.24984,\n        \"max\": 83824.0,\n        \"num_unique_values\": 8,\n        \"samples\": [\n          -73.94851821432873,\n          -73.95372,\n          83824.0\n        ],\n        \"semantic_type\": \"\",\n        \"description\": \"\"\n      }\n    },\n    {\n      \"column\": \"Construction year\",\n      \"properties\": {\n        \"dtype\": \"number\",\n        \"std\": 29034.65650708857,\n        \"min\": 5.761586443807106,\n        \"max\": 83824.0,\n        \"num_unique_values\": 8,\n        \"samples\": [\n          2012.4871277915634,\n          2012.0,\n          83824.0\n        ],\n        \"semantic_type\": \"\",\n        \"description\": \"\"\n      }\n    },\n    {\n      \"column\": \"minimum nights\",\n      \"properties\": {\n        \"dtype\": \"number\",\n        \"std\": 29435.182153245576,\n        \"min\": -365.0,\n        \"max\": 83824.0,\n        \"num_unique_values\": 8,\n        \"samples\": [\n          7.417684672647452,\n          3.0,\n          83824.0\n        ],\n        \"semantic_type\": \"\",\n        \"description\": \"\"\n      }\n    },\n    {\n      \"column\": \"number of reviews\",\n      \"properties\": {\n        \"dtype\": \"number\",\n        \"std\": 29579.691282248546,\n        \"min\": 1.0,\n        \"max\": 83824.0,\n        \"num_unique_values\": 8,\n        \"samples\": [\n          32.25864907425081,\n          11.0,\n          83824.0\n        ],\n        \"semantic_type\": \"\",\n        \"description\": \"\"\n      }\n    },\n    {\n      \"column\": \"reviews per month\",\n      \"properties\": {\n        \"dtype\": \"number\",\n        \"std\": 29631.421713045842,\n        \"min\": 0.01,\n        \"max\": 83824.0,\n        \"num_unique_values\": 8,\n        \"samples\": [\n          1.3765509877839281,\n          0.74,\n          83824.0\n        ],\n        \"semantic_type\": \"\",\n        \"description\": \"\"\n      }\n    },\n    {\n      \"column\": \"review rate number\",\n      \"properties\": {\n        \"dtype\": \"number\",\n        \"std\": 29635.271369534177,\n        \"min\": 1.0,\n        \"max\": 83824.0,\n        \"num_unique_values\": 8,\n        \"samples\": [\n          3.2796335178469174,\n          3.0,\n          83824.0\n        ],\n        \"semantic_type\": \"\",\n        \"description\": \"\"\n      }\n    },\n    {\n      \"column\": \"calculated host listings count\",\n      \"properties\": {\n        \"dtype\": \"number\",\n        \"std\": 29617.61197877982,\n        \"min\": 1.0,\n        \"max\": 83824.0,\n        \"num_unique_values\": 6,\n        \"samples\": [\n          83824.0,\n          7.035204714640199,\n          332.0\n        ],\n        \"semantic_type\": \"\",\n        \"description\": \"\"\n      }\n    },\n    {\n      \"column\": \"availability 365\",\n      \"properties\": {\n        \"dtype\": \"number\",\n        \"std\": 29444.927348247857,\n        \"min\": -10.0,\n        \"max\": 83824.0,\n        \"num_unique_values\": 8,\n        \"samples\": [\n          141.80728669593435,\n          101.0,\n          83824.0\n        ],\n        \"semantic_type\": \"\",\n        \"description\": \"\"\n      }\n    }\n  ]\n}"
            }
          },
          "metadata": {},
          "execution_count": 259
        }
      ],
      "source": [
        "AB_df.describe()"
      ]
    },
    {
      "cell_type": "code",
      "execution_count": null,
      "metadata": {
        "colab": {
          "base_uri": "https://localhost:8080/"
        },
        "id": "HRMZ4EdR3eZd",
        "outputId": "7f7b9b10-f516-432f-ffac-c03edd0d923a"
      },
      "outputs": [
        {
          "output_type": "execute_result",
          "data": {
            "text/plain": [
              "(83824, 23)"
            ]
          },
          "metadata": {},
          "execution_count": 260
        }
      ],
      "source": [
        "#Get the dimensions of the dataset\n",
        "AB_df.shape"
      ]
    },
    {
      "cell_type": "code",
      "execution_count": null,
      "metadata": {
        "colab": {
          "base_uri": "https://localhost:8080/"
        },
        "id": "eU8GrQr-3n5H",
        "outputId": "f9efb9f4-f85f-4808-ea0b-c11c97994bf7"
      },
      "outputs": [
        {
          "output_type": "stream",
          "name": "stdout",
          "text": [
            "<class 'pandas.core.frame.DataFrame'>\n",
            "Index: 83824 entries, 0 to 102040\n",
            "Data columns (total 23 columns):\n",
            " #   Column                          Non-Null Count  Dtype  \n",
            "---  ------                          --------------  -----  \n",
            " 0   id                              83824 non-null  int64  \n",
            " 1   NAME                            83824 non-null  object \n",
            " 2   host id                         83824 non-null  int64  \n",
            " 3   host_identity_verified          83824 non-null  object \n",
            " 4   host name                       83824 non-null  object \n",
            " 5   neighbourhood group             83824 non-null  object \n",
            " 6   neighbourhood                   83824 non-null  object \n",
            " 7   lat                             83824 non-null  float64\n",
            " 8   long                            83824 non-null  float64\n",
            " 9   country code                    83824 non-null  object \n",
            " 10  instant_bookable                83824 non-null  object \n",
            " 11  cancellation_policy             83824 non-null  object \n",
            " 12  room type                       83824 non-null  object \n",
            " 13  Construction year               83824 non-null  float64\n",
            " 14  price                           83824 non-null  object \n",
            " 15  service fee                     83824 non-null  object \n",
            " 16  minimum nights                  83824 non-null  float64\n",
            " 17  number of reviews               83824 non-null  float64\n",
            " 18  last review                     83824 non-null  object \n",
            " 19  reviews per month               83824 non-null  float64\n",
            " 20  review rate number              83824 non-null  float64\n",
            " 21  calculated host listings count  83824 non-null  float64\n",
            " 22  availability 365                83824 non-null  float64\n",
            "dtypes: float64(9), int64(2), object(12)\n",
            "memory usage: 15.3+ MB\n"
          ]
        }
      ],
      "source": [
        "AB_df.info()"
      ]
    },
    {
      "cell_type": "markdown",
      "metadata": {
        "id": "7trIHiDp3sLC"
      },
      "source": [
        "As shown above our dataset is composed of 102599 rows and 25 columns."
      ]
    },
    {
      "cell_type": "markdown",
      "metadata": {
        "id": "0brvVh8PipXx"
      },
      "source": [
        "We notice that the columns **price** and **service fee** are in non-numeric types. They will need to be converted into numerical values before we start the analysis.\n",
        "The reason might be that they contain currency sign, let's verify them."
      ]
    },
    {
      "cell_type": "markdown",
      "metadata": {
        "id": "cIAqOat_NWzV"
      },
      "source": [
        "We notice that some features such as price and service fee are of type object while these should be numerical. The reason might be that theycontain currency sign, let's verify them."
      ]
    },
    {
      "cell_type": "markdown",
      "metadata": {
        "id": "8cwItKcbRA1s"
      },
      "source": [
        "We will remove the dollar sign for these 2 columns and convert the types to float as we would need them numerical for plotting and further analysis"
      ]
    },
    {
      "cell_type": "code",
      "execution_count": null,
      "metadata": {
        "id": "k_7dEJneQ8dV"
      },
      "outputs": [],
      "source": [
        "AB_df['price'] = AB_df['price'].str.replace('$','').str.replace(',','').astype(float)\n",
        "AB_df['service fee'] = AB_df['service fee'].str.replace('$','').str.replace(',','').astype(float)"
      ]
    },
    {
      "cell_type": "code",
      "execution_count": null,
      "metadata": {
        "colab": {
          "base_uri": "https://localhost:8080/",
          "height": 147
        },
        "id": "7A_C0rVeSINH",
        "outputId": "c252baf0-2fab-43ab-856d-c4fed48347d0"
      },
      "outputs": [
        {
          "output_type": "execute_result",
          "data": {
            "text/plain": [
              "price          float64\n",
              "service fee    float64\n",
              "dtype: object"
            ],
            "text/html": [
              "<div>\n",
              "<style scoped>\n",
              "    .dataframe tbody tr th:only-of-type {\n",
              "        vertical-align: middle;\n",
              "    }\n",
              "\n",
              "    .dataframe tbody tr th {\n",
              "        vertical-align: top;\n",
              "    }\n",
              "\n",
              "    .dataframe thead th {\n",
              "        text-align: right;\n",
              "    }\n",
              "</style>\n",
              "<table border=\"1\" class=\"dataframe\">\n",
              "  <thead>\n",
              "    <tr style=\"text-align: right;\">\n",
              "      <th></th>\n",
              "      <th>0</th>\n",
              "    </tr>\n",
              "  </thead>\n",
              "  <tbody>\n",
              "    <tr>\n",
              "      <th>price</th>\n",
              "      <td>float64</td>\n",
              "    </tr>\n",
              "    <tr>\n",
              "      <th>service fee</th>\n",
              "      <td>float64</td>\n",
              "    </tr>\n",
              "  </tbody>\n",
              "</table>\n",
              "</div><br><label><b>dtype:</b> object</label>"
            ]
          },
          "metadata": {},
          "execution_count": 263
        }
      ],
      "source": [
        "AB_df[['price','service fee']].dtypes"
      ]
    },
    {
      "cell_type": "code",
      "execution_count": null,
      "metadata": {
        "colab": {
          "base_uri": "https://localhost:8080/",
          "height": 304
        },
        "id": "8w6K3pXgK855",
        "outputId": "3a890b91-1e10-4f17-b742-8070532a397b"
      },
      "outputs": [
        {
          "output_type": "execute_result",
          "data": {
            "text/plain": [
              "neighbourhood group\n",
              "Brooklyn         34795\n",
              "Manhattan        34750\n",
              "Queens           11172\n",
              "Bronx             2283\n",
              "Staten Island      823\n",
              "brookln              1\n",
              "Name: count, dtype: int64"
            ],
            "text/html": [
              "<div>\n",
              "<style scoped>\n",
              "    .dataframe tbody tr th:only-of-type {\n",
              "        vertical-align: middle;\n",
              "    }\n",
              "\n",
              "    .dataframe tbody tr th {\n",
              "        vertical-align: top;\n",
              "    }\n",
              "\n",
              "    .dataframe thead th {\n",
              "        text-align: right;\n",
              "    }\n",
              "</style>\n",
              "<table border=\"1\" class=\"dataframe\">\n",
              "  <thead>\n",
              "    <tr style=\"text-align: right;\">\n",
              "      <th></th>\n",
              "      <th>count</th>\n",
              "    </tr>\n",
              "    <tr>\n",
              "      <th>neighbourhood group</th>\n",
              "      <th></th>\n",
              "    </tr>\n",
              "  </thead>\n",
              "  <tbody>\n",
              "    <tr>\n",
              "      <th>Brooklyn</th>\n",
              "      <td>34795</td>\n",
              "    </tr>\n",
              "    <tr>\n",
              "      <th>Manhattan</th>\n",
              "      <td>34750</td>\n",
              "    </tr>\n",
              "    <tr>\n",
              "      <th>Queens</th>\n",
              "      <td>11172</td>\n",
              "    </tr>\n",
              "    <tr>\n",
              "      <th>Bronx</th>\n",
              "      <td>2283</td>\n",
              "    </tr>\n",
              "    <tr>\n",
              "      <th>Staten Island</th>\n",
              "      <td>823</td>\n",
              "    </tr>\n",
              "    <tr>\n",
              "      <th>brookln</th>\n",
              "      <td>1</td>\n",
              "    </tr>\n",
              "  </tbody>\n",
              "</table>\n",
              "</div><br><label><b>dtype:</b> int64</label>"
            ]
          },
          "metadata": {},
          "execution_count": 264
        }
      ],
      "source": [
        "AB_df['neighbourhood group'].value_counts()"
      ]
    },
    {
      "cell_type": "markdown",
      "metadata": {
        "id": "zcN-Jbfq42jZ"
      },
      "source": [
        "As shown the dataset indeed only contains information about New York City as the neighbourhood group column shows the NYC boroughs.\n",
        "\n",
        "We notice that the last two rows seem to be mispelled as they seem to correspond to respectively *Brooklyn* and *Manhattan*.\n",
        "\n",
        "We will correct the spelling mistake even though it only affects 2 observations which is relativley not significant overall"
      ]
    },
    {
      "cell_type": "code",
      "execution_count": null,
      "metadata": {
        "id": "R-FjoYe-Iefu"
      },
      "outputs": [],
      "source": [
        "AB_df['neighbourhood group'] = AB_df['neighbourhood group'].replace(['brookln','manhatan'],['Brooklyn','Manhattan'])"
      ]
    },
    {
      "cell_type": "code",
      "execution_count": null,
      "metadata": {
        "colab": {
          "base_uri": "https://localhost:8080/",
          "height": 272
        },
        "id": "MG0dtdSV577j",
        "outputId": "dc6985c3-947f-4ca2-c486-e6ba0d5f361e"
      },
      "outputs": [
        {
          "output_type": "execute_result",
          "data": {
            "text/plain": [
              "neighbourhood group\n",
              "Brooklyn         34796\n",
              "Manhattan        34750\n",
              "Queens           11172\n",
              "Bronx             2283\n",
              "Staten Island      823\n",
              "Name: count, dtype: int64"
            ],
            "text/html": [
              "<div>\n",
              "<style scoped>\n",
              "    .dataframe tbody tr th:only-of-type {\n",
              "        vertical-align: middle;\n",
              "    }\n",
              "\n",
              "    .dataframe tbody tr th {\n",
              "        vertical-align: top;\n",
              "    }\n",
              "\n",
              "    .dataframe thead th {\n",
              "        text-align: right;\n",
              "    }\n",
              "</style>\n",
              "<table border=\"1\" class=\"dataframe\">\n",
              "  <thead>\n",
              "    <tr style=\"text-align: right;\">\n",
              "      <th></th>\n",
              "      <th>count</th>\n",
              "    </tr>\n",
              "    <tr>\n",
              "      <th>neighbourhood group</th>\n",
              "      <th></th>\n",
              "    </tr>\n",
              "  </thead>\n",
              "  <tbody>\n",
              "    <tr>\n",
              "      <th>Brooklyn</th>\n",
              "      <td>34796</td>\n",
              "    </tr>\n",
              "    <tr>\n",
              "      <th>Manhattan</th>\n",
              "      <td>34750</td>\n",
              "    </tr>\n",
              "    <tr>\n",
              "      <th>Queens</th>\n",
              "      <td>11172</td>\n",
              "    </tr>\n",
              "    <tr>\n",
              "      <th>Bronx</th>\n",
              "      <td>2283</td>\n",
              "    </tr>\n",
              "    <tr>\n",
              "      <th>Staten Island</th>\n",
              "      <td>823</td>\n",
              "    </tr>\n",
              "  </tbody>\n",
              "</table>\n",
              "</div><br><label><b>dtype:</b> int64</label>"
            ]
          },
          "metadata": {},
          "execution_count": 266
        }
      ],
      "source": [
        "AB_df['neighbourhood group'].value_counts()"
      ]
    },
    {
      "cell_type": "markdown",
      "metadata": {
        "id": "wRZ_c12GPlsK"
      },
      "source": [
        "### Data Visualization\n",
        "\n",
        "Let's now do some visualization in order to get a better sense of our data."
      ]
    },
    {
      "cell_type": "markdown",
      "metadata": {
        "id": "ug6ahAJy9iIh"
      },
      "source": [
        "Let's look at the distribution of the prices across the dataset in"
      ]
    },
    {
      "cell_type": "code",
      "execution_count": null,
      "metadata": {
        "colab": {
          "base_uri": "https://localhost:8080/",
          "height": 575
        },
        "id": "QmhUtBSCUPUn",
        "outputId": "181e6967-39cb-4305-e836-de333032d7b4"
      },
      "outputs": [
        {
          "output_type": "display_data",
          "data": {
            "text/plain": [
              "<Figure size 1000x600 with 1 Axes>"
            ],
            "image/png": "[encoded data removed]"
          },
          "metadata": {}
        }
      ],
      "source": [
        "plt.figure(figsize=(10, 6))\n",
        "sns.histplot(data=AB_df, x='price', bins=50, kde=True, color='skyblue')\n",
        "plt.title('Distribution of Airbnb Prices', fontsize=16)\n",
        "plt.xlabel('Price ($)', fontsize=12)\n",
        "plt.ylabel('Count', fontsize=12)\n",
        "plt.grid(True, linestyle='--', alpha=0.5)\n",
        "plt.show()\n"
      ]
    },
    {
      "cell_type": "markdown",
      "metadata": {
        "id": "gc6UPIzrqZwf"
      },
      "source": [
        "The distribution of prices appears relatively uniform with a slight right skew.\n",
        "\n",
        "Most listings fall within a moderate price range, suggesting that extreme outliers (very expensive listings) are rare.\n",
        "\n",
        "This balanced distribution is beneficial for predictive modeling, as it reduces the need for heavy resampling or transformation.\n",
        "\n",
        "Depending on model performance later, we may consider applying log transformation to reduce skewness if needed."
      ]
    },
    {
      "cell_type": "code",
      "execution_count": null,
      "metadata": {
        "colab": {
          "base_uri": "https://localhost:8080/",
          "height": 542
        },
        "id": "uUpDJcrcrWgU",
        "outputId": "5385c333-fe7a-45ae-e3b8-89c8b1b743b9"
      },
      "outputs": [
        {
          "output_type": "display_data",
          "data": {
            "text/html": [
              "<html>\n",
              "<head><meta charset=\"utf-8\" /></head>\n",
              "<body>\n",
              "    <div>            <script src=\"https://cdnjs.cloudflare.com/ajax/libs/mathjax/2.7.5/MathJax.js?config=TeX-AMS-MML_SVG\"></script><script type=\"text/javascript\">if (window.MathJax && window.MathJax.Hub && window.MathJax.Hub.Config) {window.MathJax.Hub.Config({SVG: {font: \"STIX-Web\"}});}</script>                <script type=\"text/javascript\">window.PlotlyConfig = {MathJaxConfig: 'local'};</script>\n",
              "        <script charset=\"utf-8\" src=\"https://cdn.plot.ly/plotly-2.35.2.min.js\"></script>                <div id=\"d84b71e7-25d1-4b1b-ad66-4357d1b059e0\" class=\"plotly-graph-div\" style=\"height:525px; width:100%;\"></div>            <script type=\"text/javascript\">                                    window.PLOTLYENV=window.PLOTLYENV || {};                                    if (document.getElementById(\"d84b71e7-25d1-4b1b-ad66-4357d1b059e0\")) {                    Plotly.newPlot(                        \"d84b71e7-25d1-4b1b-ad66-4357d1b059e0\",                        [{\"branchvalues\":\"total\",\"customdata\":[[684.0235294117647],[804.8888888888888],[613.25],[652.53],[637.2664495114007],[757.5348837209302],[627.1846153846154],[611.3888888888889],[594.7142857142857],[429.5],[496.2],[592.0754716981132],[625.4827586206897],[624.3390330188679],[567.8],[649.1052631578947],[618.8717948717949],[582.6268656716418],[589.4074074074074],[615.7804054054054],[609.1926605504588],[368.0],[722.979381443299],[688.8827586206896],[579.8048780487804],[601.3562753036438],[674.6083916083916],[468.6666666666667],[630.789119041677],[702.9830508474577],[621.1777188328913],[640.7290640394089],[308.0],[504.9],[626.6649717514124],[1042.0],[624.5824817518248],[647.25],[645.2388059701492],[658.7619047619048],[603.5454545454545],[676.9714285714285],[632.9157127991675],[527.6],[639.6988636363636],[714.6666666666666],[708.3552631578947],[616.4642857142857],[689.495238095238],[527.1166666666667],[695.3958333333334],[624.1381578947369],[623.3718611521418],[629.2330097087379],[558.625],[644.9191564147627],[675.1538461538462],[505.04761904761904],[620.648],[617.7391304347826],[667.9573033707865],[640.3156398104265],[624.1265120967741],[786.95],[612.9801084990959],[622.8673070081821],[597.5652173913044],[597.3076923076923],[625.4166666666666],[630.0398230088496],[712.2],[460.2857142857143],[604.1212121212121],[696.24],[619.9273542600897],[650.0535714285714],[635.576],[632.3703703703703],[629.2820512820513],[640.192],[594.8858267716536],[614.0153452685422],[556.6435643564356],[553.1444444444444],[694.3333333333334],[550.5],[664.2416666666667],[647.1483253588517],[613.4524236983842],[732.5714285714286],[577.9],[713.4795918367347],[689.0434782608696],[615.7114577084583],[645.6461538461539],[680.0],[627.5209698558323],[618.3402994385527],[716.8392857142857],[500.0],[502.4],[509.6046511627907],[657.3333333333334],[691.1111111111111],[607.2553191489362],[656.1356673960613],[641.3830845771145],[618.2889733840304],[627.15],[800.25],[616.2013201320132],[630.4202898550725],[676.3392857142857],[572.8449612403101],[615.6580829756796],[596.6],[107.66666666666666],[616.9559471365639],[906.3333333333333],[645.9295624332977],[674.2641509433962],[623.4321295143213],[647.15],[486.6818181818182],[638.9090909090909],[612.6585365853658],[563.35],[566.1016949152543],[792.6666666666666],[608.231943871234],[588.9408602150538],[775.1428571428572],[635.7477876106195],[688.4117647058823],[704.8780487804878],[598.5909090909091],[618.4253731343283],[650.75],[614.7884615384615],[623.1525925925926],[501.037037037037],[632.0],[696.9333333333333],[1048.0],[849.5],[431.0],[680.8508771929825],[640.048275862069],[693.3888888888889],[573.0508474576271],[480.64285714285717],[723.125],[658.6],[602.8225214198286],[646.8876404494382],[707.8108108108108],[609.179104477612],[579.8314606741573],[596.35],[396.20000000000005],[662.9897959183673],[639.3000997008974],[648.4214876033058],[512.6315789473684],[633.29375],[621.5073891625616],[555.5916230366493],[373.3999999999999],[636.3227665706052],[822.4166666666666],[645.1428571428571],[621.5820895522388],[523.4285714285714],[605.2418300653595],[300.6666666666667],[659.3617021276596],[548.5833333333334],[631.5958904109589],[788.3076923076922],[578.2222222222222],[640.1595744680851],[622.3225806451613],[518.0],[604.3739837398374],[647.0835030549898],[625.2198275862069],[314.125],[615.5276381909548],[636.7524752475248],[687.948275862069],[685.1333333333333],[605.1039156626506],[636.500693481276],[643.978947368421],[684.1538461538462],[707.0],[595.8118811881188],[761.9],[563.3703703703703],[618.744769874477],[635.5945945945946],[562.0],[671.3777777777777],[621.3324296848526],[621.0344370860927],[592.9047619047619],[614.2068965517242],[632.4820143884892],[600.6263048016701],[654.4814814814815],[463.1666666666667],[641.7240802675585],[580.1363636363636],[477.2],[590.1578947368421],[642.364705882353],[624.1004724409448],[638.0],[589.210332103321],[625.6666666666666],[586.2142857142857],[78.0],[640.0167364016736],[630.673970558236],[635.1391921240628],[628.0129147118842],[629.6677986611663],[662.3702291952791]],\"domain\":{\"x\":[0.0,1.0],\"y\":[0.0,1.0]},\"hovertemplate\":\"labels=%{label}\\u003cbr\\u003eavg_price_sum=%{value}\\u003cbr\\u003eparent=%{parent}\\u003cbr\\u003eid=%{id}\\u003cbr\\u003eavg_price=%{color}\\u003cextra\\u003e\\u003c\\u002fextra\\u003e\",\"ids\":[\"Bronx\\u002fAllerton\",\"Staten Island\\u002fArden Heights\",\"Staten Island\\u002fArrochar\",\"Queens\\u002fArverne\",\"Queens\\u002fAstoria\",\"Brooklyn\\u002fBath Beach\",\"Manhattan\\u002fBattery Park City\",\"Brooklyn\\u002fBay Ridge\",\"Queens\\u002fBay Terrace\",\"Staten Island\\u002fBay Terrace, Staten Island\",\"Bronx\\u002fBaychester\",\"Queens\\u002fBayside\",\"Queens\\u002fBayswater\",\"Brooklyn\\u002fBedford-Stuyvesant\",\"Queens\\u002fBelle Harbor\",\"Queens\\u002fBellerose\",\"Bronx\\u002fBelmont\",\"Brooklyn\\u002fBensonhurst\",\"Brooklyn\\u002fBergen Beach\",\"Brooklyn\\u002fBoerum Hill\",\"Brooklyn\\u002fBorough Park\",\"Queens\\u002fBreezy Point\",\"Queens\\u002fBriarwood\",\"Brooklyn\\u002fBrighton Beach\",\"Bronx\\u002fBronxdale\",\"Brooklyn\\u002fBrooklyn Heights\",\"Brooklyn\\u002fBrownsville\",\"Staten Island\\u002fBull's Head\",\"Brooklyn\\u002fBushwick\",\"Queens\\u002fCambria Heights\",\"Brooklyn\\u002fCanarsie\",\"Brooklyn\\u002fCarroll Gardens\",\"Bronx\\u002fCastle Hill\",\"Staten Island\\u002fCastleton Corners\",\"Manhattan\\u002fChelsea\",\"Staten Island\\u002fChelsea, Staten Island\",\"Manhattan\\u002fChinatown\",\"Bronx\\u002fCity Island\",\"Manhattan\\u002fCivic Center\",\"Bronx\\u002fClaremont Village\",\"Bronx\\u002fClason Point\",\"Staten Island\\u002fClifton\",\"Brooklyn\\u002fClinton Hill\",\"Bronx\\u002fCo-op City\",\"Brooklyn\\u002fCobble Hill\",\"Queens\\u002fCollege Point\",\"Brooklyn\\u002fColumbia St\",\"Staten Island\\u002fConcord\",\"Bronx\\u002fConcourse\",\"Bronx\\u002fConcourse Village\",\"Brooklyn\\u002fConey Island\",\"Queens\\u002fCorona\",\"Brooklyn\\u002fCrown Heights\",\"Brooklyn\\u002fCypress Hills\",\"Brooklyn\\u002fDUMBO\",\"Queens\\u002fDitmars Steinway\",\"Staten Island\\u002fDongan Hills\",\"Queens\\u002fDouglaston\",\"Brooklyn\\u002fDowntown Brooklyn\",\"Brooklyn\\u002fDyker Heights\",\"Queens\\u002fEast Elmhurst\",\"Brooklyn\\u002fEast Flatbush\",\"Manhattan\\u002fEast Harlem\",\"Bronx\\u002fEast Morrisania\",\"Brooklyn\\u002fEast New York\",\"Manhattan\\u002fEast Village\",\"Bronx\\u002fEastchester\",\"Bronx\\u002fEdenwald\",\"Queens\\u002fEdgemere\",\"Queens\\u002fElmhurst\",\"Staten Island\\u002fEltingville\",\"Staten Island\\u002fEmerson Hill\",\"Queens\\u002fFar Rockaway\",\"Bronx\\u002fFieldston\",\"Manhattan\\u002fFinancial District\",\"Brooklyn\\u002fFlatbush\",\"Manhattan\\u002fFlatiron District\",\"Brooklyn\\u002fFlatlands\",\"Queens\\u002fFlushing\",\"Bronx\\u002fFordham\",\"Queens\\u002fForest Hills\",\"Brooklyn\\u002fFort Greene\",\"Brooklyn\\u002fFort Hamilton\",\"Queens\\u002fFresh Meadows\",\"Brooklyn\\u002fGerritsen Beach\",\"Queens\\u002fGlen Oaks\",\"Queens\\u002fGlendale\",\"Brooklyn\\u002fGowanus\",\"Manhattan\\u002fGramercy\",\"Staten Island\\u002fGraniteville\",\"Staten Island\\u002fGrant City\",\"Brooklyn\\u002fGravesend\",\"Staten Island\\u002fGreat Kills\",\"Brooklyn\\u002fGreenpoint\",\"Manhattan\\u002fGreenwich Village\",\"Staten Island\\u002fGrymes Hill\",\"Manhattan\\u002fHarlem\",\"Manhattan\\u002fHell's Kitchen\",\"Bronx\\u002fHighbridge\",\"Queens\\u002fHollis\",\"Queens\\u002fHolliswood\",\"Queens\\u002fHoward Beach\",\"Staten Island\\u002fHowland Hook\",\"Staten Island\\u002fHuguenot\",\"Bronx\\u002fHunts Point\",\"Manhattan\\u002fInwood\",\"Queens\\u002fJackson Heights\",\"Queens\\u002fJamaica\",\"Queens\\u002fJamaica Estates\",\"Queens\\u002fJamaica Hills\",\"Brooklyn\\u002fKensington\",\"Queens\\u002fKew Gardens\",\"Queens\\u002fKew Gardens Hills\",\"Bronx\\u002fKingsbridge\",\"Manhattan\\u002fKips Bay\",\"Queens\\u002fLaurelton\",\"Staten Island\\u002fLighthouse Hill\",\"Manhattan\\u002fLittle Italy\",\"Queens\\u002fLittle Neck\",\"Queens\\u002fLong Island City\",\"Bronx\\u002fLongwood\",\"Manhattan\\u002fLower East Side\",\"Brooklyn\\u002fManhattan Beach\",\"Manhattan\\u002fMarble Hill\",\"Staten Island\\u002fMariners Harbor\",\"Queens\\u002fMaspeth\",\"Bronx\\u002fMelrose\",\"Queens\\u002fMiddle Village\",\"Staten Island\\u002fMidland Beach\",\"Manhattan\\u002fMidtown\",\"Brooklyn\\u002fMidwood\",\"Brooklyn\\u002fMill Basin\",\"Manhattan\\u002fMorningside Heights\",\"Bronx\\u002fMorris Heights\",\"Bronx\\u002fMorris Park\",\"Bronx\\u002fMorrisania\",\"Bronx\\u002fMott Haven\",\"Bronx\\u002fMount Eden\",\"Bronx\\u002fMount Hope\",\"Manhattan\\u002fMurray Hill\",\"Brooklyn\\u002fNavy Yard\",\"Queens\\u002fNeponsit\",\"Staten Island\\u002fNew Brighton\",\"Staten Island\\u002fNew Dorp\",\"Staten Island\\u002fNew Dorp Beach\",\"Staten Island\\u002fNew Springville\",\"Manhattan\\u002fNoHo\",\"Manhattan\\u002fNolita\",\"Bronx\\u002fNorth Riverdale\",\"Bronx\\u002fNorwood\",\"Staten Island\\u002fOakwood\",\"Bronx\\u002fOlinville\",\"Queens\\u002fOzone Park\",\"Brooklyn\\u002fPark Slope\",\"Bronx\\u002fParkchester\",\"Bronx\\u002fPelham Bay\",\"Bronx\\u002fPelham Gardens\",\"Bronx\\u002fPort Morris\",\"Staten Island\\u002fPort Richmond\",\"Staten Island\\u002fPrince's Bay\",\"Brooklyn\\u002fProspect Heights\",\"Brooklyn\\u002fProspect-Lefferts Gardens\",\"Queens\\u002fQueens Village\",\"Staten Island\\u002fRandall Manor\",\"Brooklyn\\u002fRed Hook\",\"Queens\\u002fRego Park\",\"Queens\\u002fRichmond Hill\",\"Staten Island\\u002fRichmondtown\",\"Queens\\u002fRidgewood\",\"Bronx\\u002fRiverdale\",\"Queens\\u002fRockaway Beach\",\"Manhattan\\u002fRoosevelt Island\",\"Staten Island\\u002fRosebank\",\"Queens\\u002fRosedale\",\"Staten Island\\u002fRossville\",\"Bronx\\u002fSchuylerville\",\"Brooklyn\\u002fSea Gate\",\"Brooklyn\\u002fSheepshead Bay\",\"Staten Island\\u002fShore Acres\",\"Staten Island\\u002fSilver Lake\",\"Manhattan\\u002fSoHo\",\"Bronx\\u002fSoundview\",\"Staten Island\\u002fSouth Beach\",\"Queens\\u002fSouth Ozone Park\",\"Brooklyn\\u002fSouth Slope\",\"Queens\\u002fSpringfield Gardens\",\"Bronx\\u002fSpuyten Duyvil\",\"Queens\\u002fSt. Albans\",\"Staten Island\\u002fSt. George\",\"Staten Island\\u002fStapleton\",\"Manhattan\\u002fStuyvesant Town\",\"Queens\\u002fSunnyside\",\"Brooklyn\\u002fSunset Park\",\"Manhattan\\u002fTheater District\",\"Bronx\\u002fThrogs Neck\",\"Staten Island\\u002fTodt Hill\",\"Staten Island\\u002fTompkinsville\",\"Staten Island\\u002fTottenville\",\"Bronx\\u002fTremont\",\"Manhattan\\u002fTribeca\",\"Manhattan\\u002fTwo Bridges\",\"Bronx\\u002fUnionport\",\"Bronx\\u002fUniversity Heights\",\"Manhattan\\u002fUpper East Side\",\"Manhattan\\u002fUpper West Side\",\"Bronx\\u002fVan Nest\",\"Brooklyn\\u002fVinegar Hill\",\"Bronx\\u002fWakefield\",\"Manhattan\\u002fWashington Heights\",\"Staten Island\\u002fWest Brighton\",\"Bronx\\u002fWest Farms\",\"Manhattan\\u002fWest Village\",\"Bronx\\u002fWestchester Square\",\"Staten Island\\u002fWesterleigh\",\"Queens\\u002fWhitestone\",\"Bronx\\u002fWilliamsbridge\",\"Brooklyn\\u002fWilliamsburg\",\"Staten Island\\u002fWillowbrook\",\"Brooklyn\\u002fWindsor Terrace\",\"Queens\\u002fWoodhaven\",\"Bronx\\u002fWoodlawn\",\"Staten Island\\u002fWoodrow\",\"Queens\\u002fWoodside\",\"Bronx\",\"Brooklyn\",\"Manhattan\",\"Queens\",\"Staten Island\"],\"labels\":[\"Allerton\",\"Arden Heights\",\"Arrochar\",\"Arverne\",\"Astoria\",\"Bath Beach\",\"Battery Park City\",\"Bay Ridge\",\"Bay Terrace\",\"Bay Terrace, Staten Island\",\"Baychester\",\"Bayside\",\"Bayswater\",\"Bedford-Stuyvesant\",\"Belle Harbor\",\"Bellerose\",\"Belmont\",\"Bensonhurst\",\"Bergen Beach\",\"Boerum Hill\",\"Borough Park\",\"Breezy Point\",\"Briarwood\",\"Brighton Beach\",\"Bronxdale\",\"Brooklyn Heights\",\"Brownsville\",\"Bull's Head\",\"Bushwick\",\"Cambria Heights\",\"Canarsie\",\"Carroll Gardens\",\"Castle Hill\",\"Castleton Corners\",\"Chelsea\",\"Chelsea, Staten Island\",\"Chinatown\",\"City Island\",\"Civic Center\",\"Claremont Village\",\"Clason Point\",\"Clifton\",\"Clinton Hill\",\"Co-op City\",\"Cobble Hill\",\"College Point\",\"Columbia St\",\"Concord\",\"Concourse\",\"Concourse Village\",\"Coney Island\",\"Corona\",\"Crown Heights\",\"Cypress Hills\",\"DUMBO\",\"Ditmars Steinway\",\"Dongan Hills\",\"Douglaston\",\"Downtown Brooklyn\",\"Dyker Heights\",\"East Elmhurst\",\"East Flatbush\",\"East Harlem\",\"East Morrisania\",\"East New York\",\"East Village\",\"Eastchester\",\"Edenwald\",\"Edgemere\",\"Elmhurst\",\"Eltingville\",\"Emerson Hill\",\"Far Rockaway\",\"Fieldston\",\"Financial District\",\"Flatbush\",\"Flatiron District\",\"Flatlands\",\"Flushing\",\"Fordham\",\"Forest Hills\",\"Fort Greene\",\"Fort Hamilton\",\"Fresh Meadows\",\"Gerritsen Beach\",\"Glen Oaks\",\"Glendale\",\"Gowanus\",\"Gramercy\",\"Graniteville\",\"Grant City\",\"Gravesend\",\"Great Kills\",\"Greenpoint\",\"Greenwich Village\",\"Grymes Hill\",\"Harlem\",\"Hell's Kitchen\",\"Highbridge\",\"Hollis\",\"Holliswood\",\"Howard Beach\",\"Howland Hook\",\"Huguenot\",\"Hunts Point\",\"Inwood\",\"Jackson Heights\",\"Jamaica\",\"Jamaica Estates\",\"Jamaica Hills\",\"Kensington\",\"Kew Gardens\",\"Kew Gardens Hills\",\"Kingsbridge\",\"Kips Bay\",\"Laurelton\",\"Lighthouse Hill\",\"Little Italy\",\"Little Neck\",\"Long Island City\",\"Longwood\",\"Lower East Side\",\"Manhattan Beach\",\"Marble Hill\",\"Mariners Harbor\",\"Maspeth\",\"Melrose\",\"Middle Village\",\"Midland Beach\",\"Midtown\",\"Midwood\",\"Mill Basin\",\"Morningside Heights\",\"Morris Heights\",\"Morris Park\",\"Morrisania\",\"Mott Haven\",\"Mount Eden\",\"Mount Hope\",\"Murray Hill\",\"Navy Yard\",\"Neponsit\",\"New Brighton\",\"New Dorp\",\"New Dorp Beach\",\"New Springville\",\"NoHo\",\"Nolita\",\"North Riverdale\",\"Norwood\",\"Oakwood\",\"Olinville\",\"Ozone Park\",\"Park Slope\",\"Parkchester\",\"Pelham Bay\",\"Pelham Gardens\",\"Port Morris\",\"Port Richmond\",\"Prince's Bay\",\"Prospect Heights\",\"Prospect-Lefferts Gardens\",\"Queens Village\",\"Randall Manor\",\"Red Hook\",\"Rego Park\",\"Richmond Hill\",\"Richmondtown\",\"Ridgewood\",\"Riverdale\",\"Rockaway Beach\",\"Roosevelt Island\",\"Rosebank\",\"Rosedale\",\"Rossville\",\"Schuylerville\",\"Sea Gate\",\"Sheepshead Bay\",\"Shore Acres\",\"Silver Lake\",\"SoHo\",\"Soundview\",\"South Beach\",\"South Ozone Park\",\"South Slope\",\"Springfield Gardens\",\"Spuyten Duyvil\",\"St. Albans\",\"St. George\",\"Stapleton\",\"Stuyvesant Town\",\"Sunnyside\",\"Sunset Park\",\"Theater District\",\"Throgs Neck\",\"Todt Hill\",\"Tompkinsville\",\"Tottenville\",\"Tremont\",\"Tribeca\",\"Two Bridges\",\"Unionport\",\"University Heights\",\"Upper East Side\",\"Upper West Side\",\"Van Nest\",\"Vinegar Hill\",\"Wakefield\",\"Washington Heights\",\"West Brighton\",\"West Farms\",\"West Village\",\"Westchester Square\",\"Westerleigh\",\"Whitestone\",\"Williamsbridge\",\"Williamsburg\",\"Willowbrook\",\"Windsor Terrace\",\"Woodhaven\",\"Woodlawn\",\"Woodrow\",\"Woodside\",\"Bronx\",\"Brooklyn\",\"Manhattan\",\"Queens\",\"Staten Island\"],\"marker\":{\"coloraxis\":\"coloraxis\",\"colors\":[684.0235294117647,804.8888888888888,613.25,652.53,637.2664495114007,757.5348837209302,627.1846153846154,611.3888888888889,594.7142857142857,429.5,496.2,592.0754716981132,625.4827586206897,624.3390330188679,567.8,649.1052631578947,618.8717948717949,582.6268656716418,589.4074074074074,615.7804054054054,609.1926605504588,368.0,722.979381443299,688.8827586206896,579.8048780487804,601.3562753036438,674.6083916083916,468.6666666666667,630.789119041677,702.9830508474577,621.1777188328913,640.7290640394089,308.0,504.9,626.6649717514124,1042.0,624.5824817518248,647.25,645.2388059701492,658.7619047619048,603.5454545454545,676.9714285714285,632.9157127991675,527.6,639.6988636363636,714.6666666666666,708.3552631578947,616.4642857142857,689.495238095238,527.1166666666667,695.3958333333334,624.1381578947369,623.3718611521418,629.2330097087379,558.625,644.9191564147627,675.1538461538462,505.04761904761904,620.648,617.7391304347826,667.9573033707865,640.3156398104265,624.1265120967741,786.95,612.9801084990959,622.8673070081821,597.5652173913044,597.3076923076923,625.4166666666666,630.0398230088496,712.2,460.2857142857143,604.1212121212121,696.24,619.9273542600897,650.0535714285714,635.576,632.3703703703703,629.2820512820513,640.192,594.8858267716536,614.0153452685422,556.6435643564356,553.1444444444444,694.3333333333334,550.5,664.2416666666667,647.1483253588517,613.4524236983842,732.5714285714286,577.9,713.4795918367347,689.0434782608696,615.7114577084583,645.6461538461539,680.0,627.5209698558323,618.3402994385527,716.8392857142857,500.0,502.4,509.6046511627907,657.3333333333334,691.1111111111111,607.2553191489362,656.1356673960613,641.3830845771145,618.2889733840304,627.15,800.25,616.2013201320132,630.4202898550725,676.3392857142857,572.8449612403101,615.6580829756796,596.6,107.66666666666666,616.9559471365639,906.3333333333333,645.9295624332977,674.2641509433962,623.4321295143213,647.15,486.6818181818182,638.9090909090909,612.6585365853658,563.35,566.1016949152543,792.6666666666666,608.231943871234,588.9408602150538,775.1428571428572,635.7477876106195,688.4117647058823,704.8780487804878,598.5909090909091,618.4253731343283,650.75,614.7884615384615,623.1525925925926,501.037037037037,632.0,696.9333333333333,1048.0,849.5,431.0,680.8508771929825,640.048275862069,693.3888888888889,573.0508474576271,480.64285714285717,723.125,658.6,602.8225214198286,646.8876404494382,707.8108108108108,609.179104477612,579.8314606741573,596.35,396.20000000000005,662.9897959183673,639.3000997008974,648.4214876033058,512.6315789473684,633.29375,621.5073891625616,555.5916230366493,373.3999999999999,636.3227665706052,822.4166666666666,645.1428571428571,621.5820895522388,523.4285714285714,605.2418300653595,300.6666666666667,659.3617021276596,548.5833333333334,631.5958904109589,788.3076923076922,578.2222222222222,640.1595744680851,622.3225806451613,518.0,604.3739837398374,647.0835030549898,625.2198275862069,314.125,615.5276381909548,636.7524752475248,687.948275862069,685.1333333333333,605.1039156626506,636.500693481276,643.978947368421,684.1538461538462,707.0,595.8118811881188,761.9,563.3703703703703,618.744769874477,635.5945945945946,562.0,671.3777777777777,621.3324296848526,621.0344370860927,592.9047619047619,614.2068965517242,632.4820143884892,600.6263048016701,654.4814814814815,463.1666666666667,641.7240802675585,580.1363636363636,477.2,590.1578947368421,642.364705882353,624.1004724409448,638.0,589.210332103321,625.6666666666666,586.2142857142857,78.0,640.0167364016736,630.673970558236,635.1391921240628,628.0129147118842,629.6677986611663,662.3702291952791]},\"name\":\"\",\"parents\":[\"Bronx\",\"Staten Island\",\"Staten Island\",\"Queens\",\"Queens\",\"Brooklyn\",\"Manhattan\",\"Brooklyn\",\"Queens\",\"Staten Island\",\"Bronx\",\"Queens\",\"Queens\",\"Brooklyn\",\"Queens\",\"Queens\",\"Bronx\",\"Brooklyn\",\"Brooklyn\",\"Brooklyn\",\"Brooklyn\",\"Queens\",\"Queens\",\"Brooklyn\",\"Bronx\",\"Brooklyn\",\"Brooklyn\",\"Staten Island\",\"Brooklyn\",\"Queens\",\"Brooklyn\",\"Brooklyn\",\"Bronx\",\"Staten Island\",\"Manhattan\",\"Staten Island\",\"Manhattan\",\"Bronx\",\"Manhattan\",\"Bronx\",\"Bronx\",\"Staten Island\",\"Brooklyn\",\"Bronx\",\"Brooklyn\",\"Queens\",\"Brooklyn\",\"Staten Island\",\"Bronx\",\"Bronx\",\"Brooklyn\",\"Queens\",\"Brooklyn\",\"Brooklyn\",\"Brooklyn\",\"Queens\",\"Staten Island\",\"Queens\",\"Brooklyn\",\"Brooklyn\",\"Queens\",\"Brooklyn\",\"Manhattan\",\"Bronx\",\"Brooklyn\",\"Manhattan\",\"Bronx\",\"Bronx\",\"Queens\",\"Queens\",\"Staten Island\",\"Staten Island\",\"Queens\",\"Bronx\",\"Manhattan\",\"Brooklyn\",\"Manhattan\",\"Brooklyn\",\"Queens\",\"Bronx\",\"Queens\",\"Brooklyn\",\"Brooklyn\",\"Queens\",\"Brooklyn\",\"Queens\",\"Queens\",\"Brooklyn\",\"Manhattan\",\"Staten Island\",\"Staten Island\",\"Brooklyn\",\"Staten Island\",\"Brooklyn\",\"Manhattan\",\"Staten Island\",\"Manhattan\",\"Manhattan\",\"Bronx\",\"Queens\",\"Queens\",\"Queens\",\"Staten Island\",\"Staten Island\",\"Bronx\",\"Manhattan\",\"Queens\",\"Queens\",\"Queens\",\"Queens\",\"Brooklyn\",\"Queens\",\"Queens\",\"Bronx\",\"Manhattan\",\"Queens\",\"Staten Island\",\"Manhattan\",\"Queens\",\"Queens\",\"Bronx\",\"Manhattan\",\"Brooklyn\",\"Manhattan\",\"Staten Island\",\"Queens\",\"Bronx\",\"Queens\",\"Staten Island\",\"Manhattan\",\"Brooklyn\",\"Brooklyn\",\"Manhattan\",\"Bronx\",\"Bronx\",\"Bronx\",\"Bronx\",\"Bronx\",\"Bronx\",\"Manhattan\",\"Brooklyn\",\"Queens\",\"Staten Island\",\"Staten Island\",\"Staten Island\",\"Staten Island\",\"Manhattan\",\"Manhattan\",\"Bronx\",\"Bronx\",\"Staten Island\",\"Bronx\",\"Queens\",\"Brooklyn\",\"Bronx\",\"Bronx\",\"Bronx\",\"Bronx\",\"Staten Island\",\"Staten Island\",\"Brooklyn\",\"Brooklyn\",\"Queens\",\"Staten Island\",\"Brooklyn\",\"Queens\",\"Queens\",\"Staten Island\",\"Queens\",\"Bronx\",\"Queens\",\"Manhattan\",\"Staten Island\",\"Queens\",\"Staten Island\",\"Bronx\",\"Brooklyn\",\"Brooklyn\",\"Staten Island\",\"Staten Island\",\"Manhattan\",\"Bronx\",\"Staten Island\",\"Queens\",\"Brooklyn\",\"Queens\",\"Bronx\",\"Queens\",\"Staten Island\",\"Staten Island\",\"Manhattan\",\"Queens\",\"Brooklyn\",\"Manhattan\",\"Bronx\",\"Staten Island\",\"Staten Island\",\"Staten Island\",\"Bronx\",\"Manhattan\",\"Manhattan\",\"Bronx\",\"Bronx\",\"Manhattan\",\"Manhattan\",\"Bronx\",\"Brooklyn\",\"Bronx\",\"Manhattan\",\"Staten Island\",\"Bronx\",\"Manhattan\",\"Bronx\",\"Staten Island\",\"Queens\",\"Bronx\",\"Brooklyn\",\"Staten Island\",\"Brooklyn\",\"Queens\",\"Bronx\",\"Staten Island\",\"Queens\",\"\",\"\",\"\",\"\",\"\"],\"values\":[684.0235294117647,804.8888888888889,613.25,652.53,637.2664495114007,757.5348837209302,627.1846153846154,611.3888888888889,594.7142857142857,429.5,496.2,592.0754716981132,625.4827586206897,624.3390330188679,567.8,649.1052631578947,618.8717948717949,582.6268656716418,589.4074074074074,615.7804054054054,609.1926605504588,368.0,722.979381443299,688.8827586206896,579.8048780487804,601.3562753036438,674.6083916083916,468.6666666666667,630.789119041677,702.9830508474577,621.1777188328913,640.7290640394089,308.0,504.9,626.6649717514124,1042.0,624.5824817518248,647.25,645.2388059701492,658.7619047619048,603.5454545454545,676.9714285714285,632.9157127991675,527.6,639.6988636363636,714.6666666666666,708.3552631578947,616.4642857142857,689.495238095238,527.1166666666667,695.3958333333334,624.1381578947369,623.3718611521418,629.2330097087379,558.625,644.9191564147627,675.1538461538462,505.04761904761904,620.648,617.7391304347826,667.9573033707865,640.3156398104265,624.1265120967741,786.95,612.9801084990959,622.8673070081821,597.5652173913044,597.3076923076923,625.4166666666666,630.0398230088496,712.2,460.2857142857143,604.1212121212121,696.24,619.9273542600897,650.0535714285714,635.576,632.3703703703703,629.2820512820513,640.192,594.8858267716536,614.0153452685422,556.6435643564356,553.1444444444444,694.3333333333334,550.5,664.2416666666667,647.1483253588517,613.4524236983842,732.5714285714286,577.9,713.4795918367347,689.0434782608696,615.7114577084583,645.6461538461539,680.0,627.5209698558323,618.3402994385527,716.8392857142857,500.0,502.4,509.6046511627907,657.3333333333334,691.1111111111111,607.2553191489362,656.1356673960613,641.3830845771145,618.2889733840304,627.15,800.25,616.2013201320132,630.4202898550725,676.3392857142857,572.8449612403101,615.6580829756796,596.6,107.66666666666667,616.9559471365639,906.3333333333334,645.9295624332977,674.2641509433962,623.4321295143213,647.15,486.6818181818182,638.9090909090909,612.6585365853658,563.35,566.1016949152543,792.6666666666666,608.231943871234,588.9408602150538,775.1428571428571,635.7477876106195,688.4117647058823,704.8780487804878,598.5909090909091,618.4253731343283,650.75,614.7884615384615,623.1525925925926,501.037037037037,632.0,696.9333333333333,1048.0,849.5,431.0,680.8508771929825,640.048275862069,693.3888888888889,573.0508474576271,480.64285714285717,723.125,658.6,602.8225214198286,646.8876404494382,707.8108108108108,609.179104477612,579.8314606741573,596.35,396.2,662.9897959183673,639.3000997008974,648.4214876033058,512.6315789473684,633.29375,621.5073891625616,555.5916230366493,373.4,636.3227665706052,822.4166666666666,645.1428571428571,621.5820895522388,523.4285714285714,605.2418300653595,300.6666666666667,659.3617021276596,548.5833333333334,631.5958904109589,788.3076923076923,578.2222222222222,640.1595744680851,622.3225806451613,518.0,604.3739837398374,647.0835030549898,625.2198275862069,314.125,615.5276381909548,636.7524752475248,687.948275862069,685.1333333333333,605.1039156626506,636.500693481276,643.978947368421,684.1538461538462,707.0,595.8118811881188,761.9,563.3703703703703,618.744769874477,635.5945945945946,562.0,671.3777777777777,621.3324296848526,621.0344370860927,592.9047619047619,614.2068965517242,632.4820143884892,600.6263048016701,654.4814814814815,463.1666666666667,641.7240802675585,580.1363636363636,477.2,590.1578947368421,642.364705882353,624.1004724409448,638.0,589.210332103321,625.6666666666666,586.2142857142857,78.0,640.0167364016736,29598.993145090535,30309.006817246147,20047.933578427237,32263.65128387597,25901.859641627903],\"type\":\"treemap\"}],                        {\"template\":{\"data\":{\"histogram2dcontour\":[{\"type\":\"histogram2dcontour\",\"colorbar\":{\"outlinewidth\":0,\"ticks\":\"\"},\"colorscale\":[[0.0,\"#0d0887\"],[0.1111111111111111,\"#46039f\"],[0.2222222222222222,\"#7201a8\"],[0.3333333333333333,\"#9c179e\"],[0.4444444444444444,\"#bd3786\"],[0.5555555555555556,\"#d8576b\"],[0.6666666666666666,\"#ed7953\"],[0.7777777777777778,\"#fb9f3a\"],[0.8888888888888888,\"#fdca26\"],[1.0,\"#f0f921\"]]}],\"choropleth\":[{\"type\":\"choropleth\",\"colorbar\":{\"outlinewidth\":0,\"ticks\":\"\"}}],\"histogram2d\":[{\"type\":\"histogram2d\",\"colorbar\":{\"outlinewidth\":0,\"ticks\":\"\"},\"colorscale\":[[0.0,\"#0d0887\"],[0.1111111111111111,\"#46039f\"],[0.2222222222222222,\"#7201a8\"],[0.3333333333333333,\"#9c179e\"],[0.4444444444444444,\"#bd3786\"],[0.5555555555555556,\"#d8576b\"],[0.6666666666666666,\"#ed7953\"],[0.7777777777777778,\"#fb9f3a\"],[0.8888888888888888,\"#fdca26\"],[1.0,\"#f0f921\"]]}],\"heatmap\":[{\"type\":\"heatmap\",\"colorbar\":{\"outlinewidth\":0,\"ticks\":\"\"},\"colorscale\":[[0.0,\"#0d0887\"],[0.1111111111111111,\"#46039f\"],[0.2222222222222222,\"#7201a8\"],[0.3333333333333333,\"#9c179e\"],[0.4444444444444444,\"#bd3786\"],[0.5555555555555556,\"#d8576b\"],[0.6666666666666666,\"#ed7953\"],[0.7777777777777778,\"#fb9f3a\"],[0.8888888888888888,\"#fdca26\"],[1.0,\"#f0f921\"]]}],\"heatmapgl\":[{\"type\":\"heatmapgl\",\"colorbar\":{\"outlinewidth\":0,\"ticks\":\"\"},\"colorscale\":[[0.0,\"#0d0887\"],[0.1111111111111111,\"#46039f\"],[0.2222222222222222,\"#7201a8\"],[0.3333333333333333,\"#9c179e\"],[0.4444444444444444,\"#bd3786\"],[0.5555555555555556,\"#d8576b\"],[0.6666666666666666,\"#ed7953\"],[0.7777777777777778,\"#fb9f3a\"],[0.8888888888888888,\"#fdca26\"],[1.0,\"#f0f921\"]]}],\"contourcarpet\":[{\"type\":\"contourcarpet\",\"colorbar\":{\"outlinewidth\":0,\"ticks\":\"\"}}],\"contour\":[{\"type\":\"contour\",\"colorbar\":{\"outlinewidth\":0,\"ticks\":\"\"},\"colorscale\":[[0.0,\"#0d0887\"],[0.1111111111111111,\"#46039f\"],[0.2222222222222222,\"#7201a8\"],[0.3333333333333333,\"#9c179e\"],[0.4444444444444444,\"#bd3786\"],[0.5555555555555556,\"#d8576b\"],[0.6666666666666666,\"#ed7953\"],[0.7777777777777778,\"#fb9f3a\"],[0.8888888888888888,\"#fdca26\"],[1.0,\"#f0f921\"]]}],\"surface\":[{\"type\":\"surface\",\"colorbar\":{\"outlinewidth\":0,\"ticks\":\"\"},\"colorscale\":[[0.0,\"#0d0887\"],[0.1111111111111111,\"#46039f\"],[0.2222222222222222,\"#7201a8\"],[0.3333333333333333,\"#9c179e\"],[0.4444444444444444,\"#bd3786\"],[0.5555555555555556,\"#d8576b\"],[0.6666666666666666,\"#ed7953\"],[0.7777777777777778,\"#fb9f3a\"],[0.8888888888888888,\"#fdca26\"],[1.0,\"#f0f921\"]]}],\"mesh3d\":[{\"type\":\"mesh3d\",\"colorbar\":{\"outlinewidth\":0,\"ticks\":\"\"}}],\"scatter\":[{\"fillpattern\":{\"fillmode\":\"overlay\",\"size\":10,\"solidity\":0.2},\"type\":\"scatter\"}],\"parcoords\":[{\"type\":\"parcoords\",\"line\":{\"colorbar\":{\"outlinewidth\":0,\"ticks\":\"\"}}}],\"scatterpolargl\":[{\"type\":\"scatterpolargl\",\"marker\":{\"colorbar\":{\"outlinewidth\":0,\"ticks\":\"\"}}}],\"bar\":[{\"error_x\":{\"color\":\"#2a3f5f\"},\"error_y\":{\"color\":\"#2a3f5f\"},\"marker\":{\"line\":{\"color\":\"#E5ECF6\",\"width\":0.5},\"pattern\":{\"fillmode\":\"overlay\",\"size\":10,\"solidity\":0.2}},\"type\":\"bar\"}],\"scattergeo\":[{\"type\":\"scattergeo\",\"marker\":{\"colorbar\":{\"outlinewidth\":0,\"ticks\":\"\"}}}],\"scatterpolar\":[{\"type\":\"scatterpolar\",\"marker\":{\"colorbar\":{\"outlinewidth\":0,\"ticks\":\"\"}}}],\"histogram\":[{\"marker\":{\"pattern\":{\"fillmode\":\"overlay\",\"size\":10,\"solidity\":0.2}},\"type\":\"histogram\"}],\"scattergl\":[{\"type\":\"scattergl\",\"marker\":{\"colorbar\":{\"outlinewidth\":0,\"ticks\":\"\"}}}],\"scatter3d\":[{\"type\":\"scatter3d\",\"line\":{\"colorbar\":{\"outlinewidth\":0,\"ticks\":\"\"}},\"marker\":{\"colorbar\":{\"outlinewidth\":0,\"ticks\":\"\"}}}],\"scattermapbox\":[{\"type\":\"scattermapbox\",\"marker\":{\"colorbar\":{\"outlinewidth\":0,\"ticks\":\"\"}}}],\"scatterternary\":[{\"type\":\"scatterternary\",\"marker\":{\"colorbar\":{\"outlinewidth\":0,\"ticks\":\"\"}}}],\"scattercarpet\":[{\"type\":\"scattercarpet\",\"marker\":{\"colorbar\":{\"outlinewidth\":0,\"ticks\":\"\"}}}],\"carpet\":[{\"aaxis\":{\"endlinecolor\":\"#2a3f5f\",\"gridcolor\":\"white\",\"linecolor\":\"white\",\"minorgridcolor\":\"white\",\"startlinecolor\":\"#2a3f5f\"},\"baxis\":{\"endlinecolor\":\"#2a3f5f\",\"gridcolor\":\"white\",\"linecolor\":\"white\",\"minorgridcolor\":\"white\",\"startlinecolor\":\"#2a3f5f\"},\"type\":\"carpet\"}],\"table\":[{\"cells\":{\"fill\":{\"color\":\"#EBF0F8\"},\"line\":{\"color\":\"white\"}},\"header\":{\"fill\":{\"color\":\"#C8D4E3\"},\"line\":{\"color\":\"white\"}},\"type\":\"table\"}],\"barpolar\":[{\"marker\":{\"line\":{\"color\":\"#E5ECF6\",\"width\":0.5},\"pattern\":{\"fillmode\":\"overlay\",\"size\":10,\"solidity\":0.2}},\"type\":\"barpolar\"}],\"pie\":[{\"automargin\":true,\"type\":\"pie\"}]},\"layout\":{\"autotypenumbers\":\"strict\",\"colorway\":[\"#636efa\",\"#EF553B\",\"#00cc96\",\"#ab63fa\",\"#FFA15A\",\"#19d3f3\",\"#FF6692\",\"#B6E880\",\"#FF97FF\",\"#FECB52\"],\"font\":{\"color\":\"#2a3f5f\"},\"hovermode\":\"closest\",\"hoverlabel\":{\"align\":\"left\"},\"paper_bgcolor\":\"white\",\"plot_bgcolor\":\"#E5ECF6\",\"polar\":{\"bgcolor\":\"#E5ECF6\",\"angularaxis\":{\"gridcolor\":\"white\",\"linecolor\":\"white\",\"ticks\":\"\"},\"radialaxis\":{\"gridcolor\":\"white\",\"linecolor\":\"white\",\"ticks\":\"\"}},\"ternary\":{\"bgcolor\":\"#E5ECF6\",\"aaxis\":{\"gridcolor\":\"white\",\"linecolor\":\"white\",\"ticks\":\"\"},\"baxis\":{\"gridcolor\":\"white\",\"linecolor\":\"white\",\"ticks\":\"\"},\"caxis\":{\"gridcolor\":\"white\",\"linecolor\":\"white\",\"ticks\":\"\"}},\"coloraxis\":{\"colorbar\":{\"outlinewidth\":0,\"ticks\":\"\"}},\"colorscale\":{\"sequential\":[[0.0,\"#0d0887\"],[0.1111111111111111,\"#46039f\"],[0.2222222222222222,\"#7201a8\"],[0.3333333333333333,\"#9c179e\"],[0.4444444444444444,\"#bd3786\"],[0.5555555555555556,\"#d8576b\"],[0.6666666666666666,\"#ed7953\"],[0.7777777777777778,\"#fb9f3a\"],[0.8888888888888888,\"#fdca26\"],[1.0,\"#f0f921\"]],\"sequentialminus\":[[0.0,\"#0d0887\"],[0.1111111111111111,\"#46039f\"],[0.2222222222222222,\"#7201a8\"],[0.3333333333333333,\"#9c179e\"],[0.4444444444444444,\"#bd3786\"],[0.5555555555555556,\"#d8576b\"],[0.6666666666666666,\"#ed7953\"],[0.7777777777777778,\"#fb9f3a\"],[0.8888888888888888,\"#fdca26\"],[1.0,\"#f0f921\"]],\"diverging\":[[0,\"#8e0152\"],[0.1,\"#c51b7d\"],[0.2,\"#de77ae\"],[0.3,\"#f1b6da\"],[0.4,\"#fde0ef\"],[0.5,\"#f7f7f7\"],[0.6,\"#e6f5d0\"],[0.7,\"#b8e186\"],[0.8,\"#7fbc41\"],[0.9,\"#4d9221\"],[1,\"#276419\"]]},\"xaxis\":{\"gridcolor\":\"white\",\"linecolor\":\"white\",\"ticks\":\"\",\"title\":{\"standoff\":15},\"zerolinecolor\":\"white\",\"automargin\":true,\"zerolinewidth\":2},\"yaxis\":{\"gridcolor\":\"white\",\"linecolor\":\"white\",\"ticks\":\"\",\"title\":{\"standoff\":15},\"zerolinecolor\":\"white\",\"automargin\":true,\"zerolinewidth\":2},\"scene\":{\"xaxis\":{\"backgroundcolor\":\"#E5ECF6\",\"gridcolor\":\"white\",\"linecolor\":\"white\",\"showbackground\":true,\"ticks\":\"\",\"zerolinecolor\":\"white\",\"gridwidth\":2},\"yaxis\":{\"backgroundcolor\":\"#E5ECF6\",\"gridcolor\":\"white\",\"linecolor\":\"white\",\"showbackground\":true,\"ticks\":\"\",\"zerolinecolor\":\"white\",\"gridwidth\":2},\"zaxis\":{\"backgroundcolor\":\"#E5ECF6\",\"gridcolor\":\"white\",\"linecolor\":\"white\",\"showbackground\":true,\"ticks\":\"\",\"zerolinecolor\":\"white\",\"gridwidth\":2}},\"shapedefaults\":{\"line\":{\"color\":\"#2a3f5f\"}},\"annotationdefaults\":{\"arrowcolor\":\"#2a3f5f\",\"arrowhead\":0,\"arrowwidth\":1},\"geo\":{\"bgcolor\":\"white\",\"landcolor\":\"#E5ECF6\",\"subunitcolor\":\"white\",\"showland\":true,\"showlakes\":true,\"lakecolor\":\"white\"},\"title\":{\"x\":0.05},\"mapbox\":{\"style\":\"light\"}}},\"coloraxis\":{\"colorbar\":{\"title\":{\"text\":\"avg_price\"}},\"colorscale\":[[0.0,\"rgb(103,0,31)\"],[0.1,\"rgb(178,24,43)\"],[0.2,\"rgb(214,96,77)\"],[0.3,\"rgb(244,165,130)\"],[0.4,\"rgb(253,219,199)\"],[0.5,\"rgb(247,247,247)\"],[0.6,\"rgb(209,229,240)\"],[0.7,\"rgb(146,197,222)\"],[0.8,\"rgb(67,147,195)\"],[0.9,\"rgb(33,102,172)\"],[1.0,\"rgb(5,48,97)\"]]},\"legend\":{\"tracegroupgap\":0},\"title\":{\"text\":\"Average Airbnb Price by Neighbourhood Group and Neighbourhood\"},\"margin\":{\"t\":50,\"l\":25,\"r\":25,\"b\":25}},                        {\"responsive\": true}                    ).then(function(){\n",
              "                            \n",
              "var gd = document.getElementById('d84b71e7-25d1-4b1b-ad66-4357d1b059e0');\n",
              "var x = new MutationObserver(function (mutations, observer) {{\n",
              "        var display = window.getComputedStyle(gd).display;\n",
              "        if (!display || display === 'none') {{\n",
              "            console.log([gd, 'removed!']);\n",
              "            Plotly.purge(gd);\n",
              "            observer.disconnect();\n",
              "        }}\n",
              "}});\n",
              "\n",
              "// Listen for the removal of the full notebook cells\n",
              "var notebookContainer = gd.closest('#notebook-container');\n",
              "if (notebookContainer) {{\n",
              "    x.observe(notebookContainer, {childList: true});\n",
              "}}\n",
              "\n",
              "// Listen for the clearing of the current output cell\n",
              "var outputEl = gd.closest('.output');\n",
              "if (outputEl) {{\n",
              "    x.observe(outputEl, {childList: true});\n",
              "}}\n",
              "\n",
              "                        })                };                            </script>        </div>\n",
              "</body>\n",
              "</html>"
            ]
          },
          "metadata": {}
        }
      ],
      "source": [
        "# Step 1: Clean price column if you haven't already\n",
        "AB_df['price'] = AB_df['price'].replace('[\\$,]', '', regex=True).astype(float)\n",
        "\n",
        "# Step 2: Group by neighbourhood group and neighbourhood to get average price\n",
        "avg_price_df = AB_df.groupby(['neighbourhood group', 'neighbourhood'], as_index=False)['price'].mean()\n",
        "avg_price_df.rename(columns={'price': 'avg_price'}, inplace=True)\n",
        "\n",
        "# Step 3: Create the treemap\n",
        "fig = px.treemap(\n",
        "    avg_price_df,\n",
        "    path=['neighbourhood group', 'neighbourhood'],\n",
        "    values='avg_price',\n",
        "    color='avg_price',\n",
        "    color_continuous_scale='RdBu',\n",
        "    title='Average Airbnb Price by Neighbourhood Group and Neighbourhood'\n",
        ")\n",
        "\n",
        "fig.update_layout(margin=dict(t=50, l=25, r=25, b=25))\n",
        "fig.show()"
      ]
    },
    {
      "cell_type": "markdown",
      "metadata": {
        "id": "5fyMF-EHsZNM"
      },
      "source": [
        "🏙️ Manhattan and Brooklyn has approximatively the same average prices accross their neighbours, showing uniformity with prices averaging between 600-700\n",
        "\n",
        "Neighborhoods like Chelsea, West Village, and Midtown also show elevated pricing, indicating strong potential for high ROI if occupancy is steady.\n",
        "\n",
        "🌉 Queens and Bronx presents a wider range with Little Neck and Jamaica hills having a relatively high average 800-900 comoared to areas like Breezy Point with an average of $300.\n",
        "\n",
        "\n",
        "🏡  Staten Island on the hand has a vast range of prices, from Woodrow with an average of around 80 to New Dorp and Chelsea averaging 1000.\n",
        "\n",
        "It contains the lowest priced listings, ideal for travelers seeking affordability and also the highest averages within the borough, making them standouts for strategic investment.\n",
        "\n",
        "\n",
        "The discrepancy noted in Staten Island particularly can have multiple reasons. One of being a lack of data for this borough. To verify that we will see the distribution of the listings, ie the density of the listings across NYC"
      ]
    },
    {
      "cell_type": "markdown",
      "metadata": {
        "id": "eGDQ2J5VI07V"
      },
      "source": [
        "Let us now plot the Geo-distribution of the listings in order to visualize the part of the city with the highest listing-density"
      ]
    },
    {
      "cell_type": "code",
      "execution_count": null,
      "metadata": {
        "id": "bSuAmOymHcuN"
      },
      "outputs": [],
      "source": [
        "map_nyc = folium.Map(location=[40.7128, -74.0060], zoom_start=11)\n",
        "\n",
        "# Sample subset to avoid overplotting\n",
        "sample_df = AB_df.sample(20000)\n",
        "\n",
        "for idx, row in sample_df.iterrows():\n",
        "    folium.CircleMarker([row['lat'], row['long']],\n",
        "                        radius=1,\n",
        "                        color='green',\n",
        "                        fill=True,\n",
        "                        fill_opacity=0.5).add_to(map_nyc)\n",
        "map_nyc\n"
      ]
    },
    {
      "cell_type": "markdown",
      "metadata": {
        "id": "MXfSOM_SvT-t"
      },
      "source": [
        "Indeed the map shows that Boroughs like Brooklyn and Manhattan have the most listings in the dataset, potentially explaining the uniformity of the average price in those areas.\n",
        "\n",
        "Staten Islan on the other hand only has few listings and this could be one of the reason of the wide range of its listing prices.\n",
        "\n",
        "We will deal with this unbalance later in our analysis."
      ]
    },
    {
      "cell_type": "markdown",
      "metadata": {
        "id": "3r6AovABv69k"
      },
      "source": [
        "Let us now look at the price according to different types of room."
      ]
    },
    {
      "cell_type": "code",
      "execution_count": null,
      "metadata": {
        "id": "iUIC3NSKxJ4d"
      },
      "outputs": [],
      "source": [
        "plt.figure(figsize=(10, 6))\n",
        "sns.set(style=\"whitegrid\")\n",
        "\n",
        "# Violin plot for price distribution by room type\n",
        "sns.violinplot(data=AB_df[AB_df['price']>0], x='room type', y='price', palette='viridis', inner='quartile')\n",
        "\n",
        "plt.title('Price Distribution by Room Type', fontsize=16, fontweight='bold')\n",
        "plt.xlabel('Room Type', fontsize=12)\n",
        "plt.ylabel('Price', fontsize=12)\n",
        "plt.grid(True, which=\"major\", linestyle='--', linewidth=0.5)\n",
        "plt.xticks(fontsize=11)\n",
        "plt.yticks(fontsize=10)\n",
        "\n",
        "plt.tight_layout()\n",
        "plt.show()"
      ]
    },
    {
      "cell_type": "markdown",
      "metadata": {
        "id": "AM1F6kT5xUeZ"
      },
      "source": [
        "We notice that the price range and approximately the same accross different room types with a slightly wider range in shared rooms.\n",
        "\n",
        "Hotel rooms have the wider range of prices across all rooms, however conclusion cannot be derived immediately because service fees could be higher.\n",
        "\n",
        "leading us to verify service fees across room types"
      ]
    },
    {
      "cell_type": "code",
      "execution_count": null,
      "metadata": {
        "id": "VJ_Jw09Z0ilv"
      },
      "outputs": [],
      "source": [
        "plt.figure(figsize=(10, 6))\n",
        "sns.set(style=\"whitegrid\")\n",
        "\n",
        "# Violin plot for price distribution by room type\n",
        "sns.violinplot(data=AB_df[AB_df['service fee']>0], x='room type', y='service fee', palette='viridis', inner='quartile')\n",
        "\n",
        "plt.title('Service fee by Room Type', fontsize=16, fontweight='bold')\n",
        "plt.xlabel('Room Type', fontsize=12)\n",
        "plt.ylabel('Service fee', fontsize=12)\n",
        "plt.grid(True, which=\"major\", linestyle='--', linewidth=0.5)\n",
        "plt.xticks(fontsize=11)\n",
        "plt.yticks(fontsize=10)\n",
        "\n",
        "plt.tight_layout()\n",
        "plt.show()"
      ]
    },
    {
      "cell_type": "markdown",
      "metadata": {
        "id": "TLIbcjWF1HJl"
      },
      "source": [
        "Service fee do follow price range."
      ]
    },
    {
      "cell_type": "code",
      "execution_count": null,
      "metadata": {
        "id": "5OZC3Ey51vNz"
      },
      "outputs": [],
      "source": [
        "AB_df.info()"
      ]
    },
    {
      "cell_type": "markdown",
      "metadata": {
        "id": "hTh94KMe17Af"
      },
      "source": [
        "One of the most important determinant of reliability when choosing a place to stay is the opinion of past occupants.\n",
        "\n",
        "We will now look at the price behavior against the review rate number"
      ]
    },
    {
      "cell_type": "code",
      "execution_count": null,
      "metadata": {
        "id": "QATYiXQ33cxV"
      },
      "outputs": [],
      "source": [
        "plt.figure(figsize=(10, 6))\n",
        "sns.set(style=\"whitegrid\")\n",
        "\n",
        "sns.boxplot(data=AB_df, x='neighbourhood group', y='review rate number', palette='magma')\n",
        "\n",
        "plt.title('Review Rating Distribution by Neighbourhood Group', fontsize=16, fontweight='bold')\n",
        "plt.xlabel('Neighbourhood Group', fontsize=12)\n",
        "plt.ylabel('Review Rating Number', fontsize=12)\n",
        "plt.xticks(fontsize=11)\n",
        "plt.yticks(fontsize=11)\n",
        "plt.grid(True, linestyle='--', linewidth=0.5)\n",
        "\n",
        "plt.tight_layout()\n",
        "plt.show()\n"
      ]
    },
    {
      "cell_type": "markdown",
      "metadata": {
        "id": "grCa0dKD6X6i"
      },
      "source": [
        "Let us now the see the opinions of people regarding which location has a better review, using the review rate number feature.(hover over the map)"
      ]
    },
    {
      "cell_type": "code",
      "execution_count": null,
      "metadata": {
        "id": "YXiGoqbG3yhW"
      },
      "outputs": [],
      "source": [
        "from folium.plugins import MarkerCluster\n",
        "\n",
        "# Group average review rate number by borough\n",
        "grouped = AB_df.groupby('neighbourhood group')['review rate number'].mean().reset_index()\n",
        "\n",
        "# Mapping the borough coordinates (approximate centroids)\n",
        "borough_coords = {\n",
        "    'Manhattan': [40.7831, -73.9712],\n",
        "    'Brooklyn': [40.6782, -73.9442],\n",
        "    'Queens': [40.7282, -73.7949],\n",
        "    'Bronx': [40.8448, -73.8648],\n",
        "    'Staten Island': [40.5795, -74.1502]\n",
        "}\n",
        "\n",
        "# Merge coordinates with grouped data\n",
        "grouped['lat'] = grouped['neighbourhood group'].map(lambda x: borough_coords[x][0])\n",
        "grouped['lon'] = grouped['neighbourhood group'].map(lambda x: borough_coords[x][1])"
      ]
    },
    {
      "cell_type": "code",
      "execution_count": null,
      "metadata": {
        "id": "cyiokIea36Wy"
      },
      "outputs": [],
      "source": [
        "# Create base map\n",
        "m = folium.Map(location=[40.7128, -74.0060], zoom_start=10, tiles='CartoDB positron')\n",
        "\n",
        "# Add circle markers for review rate number\n",
        "for _, row in grouped.iterrows():\n",
        "    folium.CircleMarker(\n",
        "        location=(row['lat'], row['lon']),\n",
        "        radius=10,\n",
        "        color='blue',\n",
        "        fill=True,\n",
        "        fill_opacity=0.7,\n",
        "        popup=f\"{row['neighbourhood group']}: {row['review rate number']:.2f}\"\n",
        "    ).add_to(m)\n",
        "\n",
        "# Display the map\n",
        "m\n"
      ]
    },
    {
      "cell_type": "markdown",
      "metadata": {
        "id": "WaZZ5AFa1qTU"
      },
      "source": [
        "The plot shows that Staten Island a higher overall review with 3.41/5 followed by Bronx and Manhattan with approximately 3.33/5"
      ]
    },
    {
      "cell_type": "markdown",
      "metadata": {
        "id": "-t3OBi3U7Pn4"
      },
      "source": [
        "## AirBnB Feature Engineering"
      ]
    },
    {
      "cell_type": "markdown",
      "metadata": {
        "id": "YS48jKDw7WF6"
      },
      "source": [
        "Let us now proceed to Feature refining and selection for our AirBnB dataset.\n",
        "\n",
        "We will start by dropping some irrevelant columns for our analysis"
      ]
    },
    {
      "cell_type": "code",
      "execution_count": null,
      "metadata": {
        "id": "gWrdd1CbJDHH"
      },
      "outputs": [],
      "source": [
        "AB_df.info()"
      ]
    },
    {
      "cell_type": "markdown",
      "metadata": {
        "id": "FNyf4fGnJF5b"
      },
      "source": [
        "We will drop the following columns:\n",
        "- id\n",
        "- NAME\n",
        "- host name\n",
        "- host id\n",
        "- country code\n",
        "- reviews per month\n",
        "- instant_bookable"
      ]
    },
    {
      "cell_type": "code",
      "execution_count": null,
      "metadata": {
        "id": "XG4-KGfOJmGE"
      },
      "outputs": [],
      "source": [
        "AB_df.drop(['id','instant_bookable','NAME','host name','host id','country code','reviews per month'],axis=1,inplace=True)\n",
        "AB_df.info()"
      ]
    },
    {
      "cell_type": "code",
      "execution_count": null,
      "metadata": {
        "id": "oucTkjSIKNhN"
      },
      "outputs": [],
      "source": [
        "AB_df.head()"
      ]
    },
    {
      "cell_type": "markdown",
      "metadata": {
        "id": "Wmfvkq0x7gYN"
      },
      "source": [
        "### Time Features"
      ]
    },
    {
      "cell_type": "markdown",
      "metadata": {
        "id": "RQqQXS08GDRE"
      },
      "source": [
        "We will look at the features relating to date and time as we will need this aspect when merging our data with the weather dataset.\n",
        "\n",
        "As our data contains 2019 information, we will use the column **last review** as reviews usually follow right after the stay, and we will drop the year and day parts and only keep the months."
      ]
    },
    {
      "cell_type": "code",
      "execution_count": null,
      "metadata": {
        "id": "IoSN7js3oQWf"
      },
      "outputs": [],
      "source": [
        "AB_df['last review'] = pd.to_datetime(AB_df['last review'], errors='coerce')"
      ]
    },
    {
      "cell_type": "code",
      "execution_count": null,
      "metadata": {
        "id": "x48TeTV7s273"
      },
      "outputs": [],
      "source": [
        "AB_df['review_month'] = AB_df['last review'].dt.month\n",
        "AB_df['review_month']"
      ]
    },
    {
      "cell_type": "markdown",
      "metadata": {
        "id": "XxXCBuKRKfrM"
      },
      "source": [
        "We can now drop the **last review** column"
      ]
    },
    {
      "cell_type": "code",
      "execution_count": null,
      "metadata": {
        "id": "5nlD7b8OKj9d"
      },
      "outputs": [],
      "source": [
        "AB_df.drop(['last review'],axis=1,inplace=True)"
      ]
    },
    {
      "cell_type": "markdown",
      "metadata": {
        "id": "-O0Wg0svKrnW"
      },
      "source": [
        "### Location Features"
      ]
    },
    {
      "cell_type": "markdown",
      "metadata": {
        "id": "KDtzm9muKvtN"
      },
      "source": [
        "Among the important factors determining the price is the location. For the location we will wider the radius of the listings in order to simplify our merging with weather dataset and more importantly the complaints dataset. As having exact location may bring challenge in identifying closeness.\n",
        "\n",
        "To do that we will round up the **lat** and **long** to 2 decimals (corresponding to 1.1 Km approximation)"
      ]
    },
    {
      "cell_type": "code",
      "execution_count": null,
      "metadata": {
        "id": "Ozbnawk5LaVD"
      },
      "outputs": [],
      "source": [
        "AB_df['lat'] = AB_df['lat'].round(2)\n",
        "AB_df['long'] = AB_df['long'].round(2)\n",
        "AB_df[['lat','long']]"
      ]
    },
    {
      "cell_type": "markdown",
      "metadata": {
        "id": "aPcQPJJr3roa"
      },
      "source": [
        "### New Features"
      ]
    },
    {
      "cell_type": "code",
      "execution_count": null,
      "metadata": {
        "id": "FOV4Rl-23qnA"
      },
      "outputs": [],
      "source": [
        "AB_df[\"service_fee_per_night\"] = AB_df[\"service fee\"] / (AB_df[\"minimum nights\"] + 1)\n",
        "AB_df[\"review_score_times_reviews\"] = AB_df[\"review rate number\"] * AB_df[\"number of reviews\"]\n",
        "AB_df[\"service_fee_to_borough\"] = AB_df[\"service fee\"] / AB_df[\"neighbourhood group\"].map(AB_df[\"neighbourhood group\"].value_counts())\n",
        "# Replace infinities with NaN, then drop them\n",
        "AB_df.replace([np.inf, -np.inf], np.nan, inplace=True)\n",
        "AB_df.dropna(inplace=True)\n",
        "AB_df['service fee'] =AB_df['service fee'] * np.random.normal(1, 0.2, size=AB_df.shape[0])"
      ]
    },
    {
      "cell_type": "markdown",
      "metadata": {
        "id": "hOLGlmr_LhkY"
      },
      "source": [
        "### One-hot Encoding"
      ]
    },
    {
      "cell_type": "markdown",
      "metadata": {
        "id": "x9x3E5SVLoWZ"
      },
      "source": [
        "We will use categorical variable as well for our host_identity_verified column and consider \"confirmed\" as 1 and \"unconfirmed\" as 0"
      ]
    },
    {
      "cell_type": "code",
      "execution_count": null,
      "metadata": {
        "id": "bxuwhlTkL05M"
      },
      "outputs": [],
      "source": [
        "AB_df['host_identity_verified'] = AB_df['host_identity_verified'].map({'verified': 1, 'unconfirmed': 0})\n",
        "AB_df['host_identity_verified'].value_counts()"
      ]
    },
    {
      "cell_type": "markdown",
      "metadata": {
        "id": "YoP7ZEbfmHhI"
      },
      "source": [
        "lets now convert the columns **cancellation policy** and **room type** intp dummy variables in order to train the data properly"
      ]
    },
    {
      "cell_type": "code",
      "execution_count": null,
      "metadata": {
        "id": "GwA6AqwimRuy"
      },
      "outputs": [],
      "source": [
        "AB_df = pd.get_dummies(AB_df, columns=['cancellation_policy','room type'], drop_first=True)\n",
        "AB_df.head()"
      ]
    },
    {
      "cell_type": "markdown",
      "metadata": {
        "id": "MtV7qmCCrXwB"
      },
      "source": [
        "## NYC Weather EDA"
      ]
    },
    {
      "cell_type": "markdown",
      "metadata": {
        "id": "RAuv8eh5rdrg"
      },
      "source": [
        "### Understanding the data"
      ]
    },
    {
      "cell_type": "markdown",
      "metadata": {
        "id": "cpHWBNX9rktG"
      },
      "source": [
        "As done with our previous data set we’ll get to know our dataset by\n",
        "checking the datatypes of the different columns, checking its overall size,\n",
        "ummarizing key statistics...\n"
      ]
    },
    {
      "cell_type": "code",
      "execution_count": null,
      "metadata": {
        "id": "F5-inviGr46t"
      },
      "outputs": [],
      "source": [
        "weather_df.info()"
      ]
    },
    {
      "cell_type": "code",
      "execution_count": null,
      "metadata": {
        "id": "mmMNtm0_Ppzh"
      },
      "outputs": [],
      "source": [
        "weather_df.describe()"
      ]
    },
    {
      "cell_type": "markdown",
      "metadata": {
        "id": "sv1NlDW2r-sI"
      },
      "source": [
        "Our Data contains 365 values being the 365 days in the year and 10 columns.\n",
        "\n",
        "We notice that the date column is not is type datetime, we will convert it to match the date type in our AirBnB dataset."
      ]
    },
    {
      "cell_type": "markdown",
      "metadata": {
        "id": "nWZBodMDF4vf"
      },
      "source": [
        "To proceed, we will extract the the average monthly temperature throughout the year in order to merge  with our AirBnB dataset and verify if indeed the weather influences prices of listing."
      ]
    },
    {
      "cell_type": "code",
      "execution_count": null,
      "metadata": {
        "id": "TM7TYJB2sRHt"
      },
      "outputs": [],
      "source": [
        "weather_df['date'] = pd.to_datetime(weather_df['date'],errors='coerce')"
      ]
    },
    {
      "cell_type": "code",
      "execution_count": null,
      "metadata": {
        "id": "uJ_ssYjhsr29"
      },
      "outputs": [],
      "source": [
        "#Extract average monthly temperature\n",
        "weather_df['month'] = weather_df['date'].dt.month\n",
        "monthly_avg_temp = weather_df.groupby('month')['tavg'].mean().reset_index()\n",
        "monthly_avg_temp"
      ]
    },
    {
      "cell_type": "code",
      "execution_count": null,
      "metadata": {
        "id": "MNBRFw3R6XY0"
      },
      "outputs": [],
      "source": [
        "import matplotlib.pyplot as plt\n",
        "import seaborn as sns\n",
        "\n",
        "# Set the style\n",
        "sns.set_theme(style=\"whitegrid\")\n",
        "\n",
        "# Create the figure\n",
        "plt.figure(figsize=(12, 6))\n",
        "\n",
        "# Plot the area chart\n",
        "sns.lineplot(\n",
        "    data=monthly_avg_temp,\n",
        "    x='month',\n",
        "    y='tavg',\n",
        "    marker='o',\n",
        "    linewidth=2.5,\n",
        "    color='#ff7f0e'\n",
        ")\n",
        "\n",
        "# Fill the area under the curve\n",
        "plt.fill_between(\n",
        "    monthly_avg_temp['month'],\n",
        "    monthly_avg_temp['tavg'],\n",
        "    color='#ff7f0e',\n",
        "    alpha=0.3\n",
        ")\n",
        "\n",
        "# Fancy touches\n",
        "plt.title(\"🌡️ Average Monthly Temperature in NYC (2019)\", fontsize=16, fontweight='bold')\n",
        "plt.xlabel(\"Month\", fontsize=12)\n",
        "plt.ylabel(\"Average Temperature (°F)\", fontsize=12)\n",
        "plt.xticks(\n",
        "    ticks=range(1, 13),\n",
        "    labels=['Jan', 'Feb', 'Mar', 'Apr', 'May', 'Jun',\n",
        "            'Jul', 'Aug', 'Sep', 'Oct', 'Nov', 'Dec'],\n",
        "    fontsize=11\n",
        ")\n",
        "plt.grid(alpha=0.2)\n",
        "plt.tight_layout()\n",
        "plt.show()\n"
      ]
    },
    {
      "cell_type": "markdown",
      "metadata": {
        "id": "VVRomlR5jiSR"
      },
      "source": [
        "## NYC Complaints EDA"
      ]
    },
    {
      "cell_type": "markdown",
      "metadata": {
        "id": "RxxnGEm927uY"
      },
      "source": [
        "### Understanding the data"
      ]
    },
    {
      "cell_type": "markdown",
      "metadata": {
        "id": "Tc0QuznZurzL"
      },
      "source": [
        "We will look at the Complaints dataset and try to understand it more"
      ]
    },
    {
      "cell_type": "code",
      "execution_count": null,
      "metadata": {
        "id": "7ctPsbzGjryX"
      },
      "outputs": [],
      "source": [
        "complaint_df.info()"
      ]
    },
    {
      "cell_type": "markdown",
      "metadata": {
        "id": "0v5AyyaSu3QG"
      },
      "source": [
        "We will first rename the column **CMPLNT_FR_DT** and **BORO_NM** to make them more meaningful"
      ]
    },
    {
      "cell_type": "code",
      "execution_count": null,
      "metadata": {
        "id": "TOavUCgtvRLe"
      },
      "outputs": [],
      "source": [
        "complaint_df.rename(columns={'CMPLNT_FR_DT':'incident_date','BORO_NM':'borough_name'},inplace=True)\n",
        "complaint_df"
      ]
    },
    {
      "cell_type": "markdown",
      "metadata": {
        "id": "8ye4E7Lbvqrj"
      },
      "source": [
        "Next as the information needed from this dataset is the number complaints in the different locations in NYC, will round the longitude and latitude column by 2 decimals in order to have a broader matching with the AirBnB listings.\n",
        "\n",
        "Then we will change the format the borough names to make them match our AirBnB data format(ie Queens instead of QUEENS)"
      ]
    },
    {
      "cell_type": "code",
      "execution_count": null,
      "metadata": {
        "id": "8SlMcpxLtnwq"
      },
      "outputs": [],
      "source": [
        "complaint_df['Latitude'] = complaint_df['Latitude'].round(2)\n",
        "complaint_df['Longitude'] = complaint_df['Longitude'].round(2)\n",
        "complaint_df['borough_name'] = complaint_df['borough_name'].str.capitalize()\n",
        "complaint_df"
      ]
    },
    {
      "cell_type": "code",
      "execution_count": null,
      "metadata": {
        "id": "H6RK-WxwzGwD"
      },
      "outputs": [],
      "source": [
        "complaint_df['borough_name'].value_counts()"
      ]
    },
    {
      "cell_type": "markdown",
      "metadata": {
        "id": "hkIFlgcbzP2e"
      },
      "source": [
        "Let us drop the incident date column as we don't need it"
      ]
    },
    {
      "cell_type": "code",
      "execution_count": null,
      "metadata": {
        "id": "5PBVO3uJ38W5"
      },
      "outputs": [],
      "source": [
        "complaint_df['incident_date'] = pd.to_datetime(complaint_df['incident_date'], errors='coerce')\n",
        "complaint_df['month'] = complaint_df['incident_date'].dt.month\n",
        "complaint_monthly = complaint_df.groupby('month').size().reset_index(name='complaint_count')\n",
        "complaint_monthly"
      ]
    },
    {
      "cell_type": "code",
      "execution_count": null,
      "metadata": {
        "id": "epfteE56ztLv"
      },
      "outputs": [],
      "source": [
        "complaint_df = complaint_df.groupby(['Latitude','Longitude','borough_name']).size().reset_index(name='complaint_count')\n",
        "complaint_df"
      ]
    },
    {
      "cell_type": "markdown",
      "metadata": {
        "id": "Om_s-R6Q2xBZ"
      },
      "source": [
        "### Data Visualization"
      ]
    },
    {
      "cell_type": "markdown",
      "metadata": {
        "id": "cmdPOvMR11pZ"
      },
      "source": [
        "Let us now do some visualizations. We will start by drawing a map to see the location where the complaints are more common\n",
        "**You can hover over the map to see the actual location**"
      ]
    },
    {
      "cell_type": "code",
      "execution_count": null,
      "metadata": {
        "id": "8ROyrgfu0iOL"
      },
      "outputs": [],
      "source": [
        "import plotly.express as px\n",
        "\n",
        "fig = px.scatter_mapbox(\n",
        "    complaint_df,\n",
        "    lat=\"Latitude\",\n",
        "    lon=\"Longitude\",\n",
        "    color=\"complaint_count\",\n",
        "    size=\"complaint_count\",\n",
        "    hover_name=\"borough_name\",\n",
        "    hover_data={\"Latitude\": False, \"Longitude\": False, \"complaint_count\": True},\n",
        "    color_continuous_scale=px.colors.sequential.Viridis,\n",
        "    size_max=15,\n",
        "    zoom=10,\n",
        "    height=600,\n",
        "    title=\"NYC 311 Complaints Density Map\"\n",
        ")\n",
        "\n",
        "fig.update_layout(\n",
        "    mapbox_style=\"carto-positron\",\n",
        "    margin={\"r\":0,\"t\":50,\"l\":0,\"b\":0},\n",
        "    title_font=dict(size=24),\n",
        ")\n",
        "\n",
        "fig.show()\n"
      ]
    },
    {
      "cell_type": "markdown",
      "metadata": {
        "id": "NhieWptc2Kzl"
      },
      "source": [
        "Manhattan seems to be the area with the most complaints according to the dataset, while Queens do have specific areas with very high number of complaints.\n",
        "\n",
        "On the other hand the Staten Island seems to be relatively quite.\n",
        "\n",
        "Let'us try to see if there are some periods in the year where the complaints are more common.\n",
        "\n",
        "We will group the data by month and count the number of complaints"
      ]
    },
    {
      "cell_type": "code",
      "execution_count": null,
      "metadata": {
        "id": "w8XOdLLg5WT_"
      },
      "outputs": [],
      "source": [
        "plt.figure(figsize=(12, 6))\n",
        "sns.set_theme(style=\"whitegrid\")\n",
        "\n",
        "# Line plot with fill\n",
        "sns.lineplot(\n",
        "    data=complaint_monthly ,\n",
        "    x='month',\n",
        "    y='complaint_count',\n",
        "    marker='o',\n",
        "    linewidth=2.5,\n",
        "    color='#1f77b4'\n",
        ")\n",
        "\n",
        "plt.fill_between(\n",
        "    complaint_monthly['month'],\n",
        "    complaint_monthly ['complaint_count'],\n",
        "    alpha=0.2,\n",
        "    color='#1f77b4'\n",
        ")\n",
        "\n",
        "# 5. Fancy styling\n",
        "plt.xticks(\n",
        "    ticks=range(1, 13),\n",
        "    labels=['Jan', 'Feb', 'Mar', 'Apr', 'May', 'Jun', 'Jul', 'Aug', 'Sep', 'Oct', 'Nov', 'Dec'],\n",
        "    fontsize=11\n",
        ")\n",
        "plt.title(\"📞 Monthly Complaint Trends in NYC (2019)\", fontsize=16, fontweight='bold')\n",
        "plt.xlabel(\"Month\", fontsize=12)\n",
        "plt.ylabel(\"Number of Complaints\", fontsize=12)\n",
        "plt.grid(True, alpha=0.3)\n",
        "plt.tight_layout()\n",
        "plt.show()"
      ]
    },
    {
      "cell_type": "markdown",
      "metadata": {
        "id": "Hf9DbG--5he_"
      },
      "source": [
        "Complaints seem to occur more during winter period, we will use this information when doing our analysis of price factors."
      ]
    },
    {
      "cell_type": "markdown",
      "metadata": {
        "id": "8fhGVi7Enxz8"
      },
      "source": [
        "## Combined Dataset EDA"
      ]
    },
    {
      "cell_type": "markdown",
      "metadata": {
        "id": "a05kb9z9nIXA"
      },
      "source": [
        "Now Let us combine our datasets: AirBnB, weather and complaints datasets.\n",
        "\n",
        "We will combine AirBnB with the Weather dataset by merging on **month** from the weather dataset with **review_month** from the AirBnB dataset"
      ]
    },
    {
      "cell_type": "code",
      "execution_count": null,
      "metadata": {
        "id": "s6A7JmzppeuP"
      },
      "outputs": [],
      "source": [
        "combined_df = pd.merge(AB_df, monthly_avg_temp, left_on='review_month', right_on='month', how='left')\n",
        "combined_df.drop('month', axis=1, inplace=True)"
      ]
    },
    {
      "cell_type": "markdown",
      "metadata": {
        "id": "zl0edwuxprNW"
      },
      "source": [
        "Then we will merge this dataset with the complaints dataset on **lat** and **long** from the AirBnB dataset and **latitude** and **longitude** from the complaints dataset"
      ]
    },
    {
      "cell_type": "code",
      "execution_count": null,
      "metadata": {
        "id": "Pli8a9rnqIwe"
      },
      "outputs": [],
      "source": [
        "combined_df = pd.merge(combined_df, complaint_df, left_on=['lat', 'long'], right_on=['Latitude', 'Longitude'], how='left')\n",
        "combined_df.drop(['Latitude', 'Longitude'], axis=1, inplace=True)\n"
      ]
    },
    {
      "cell_type": "markdown",
      "metadata": {
        "id": "dNiE3O4eq34D"
      },
      "source": [
        "We can now drop the **lat** and **long** columns. We only needed them to merge our complaints dataset."
      ]
    },
    {
      "cell_type": "code",
      "execution_count": null,
      "metadata": {
        "id": "W5wPBhO_AhC2"
      },
      "outputs": [],
      "source": [
        "combined_df.drop(['lat', 'long'], axis=1, inplace=True)\n",
        "combined_df.dropna()"
      ]
    },
    {
      "cell_type": "code",
      "source": [
        "combined_df = pd.get_dummies(combined_df, drop_first=True)"
      ],
      "metadata": {
        "id": "UILXIISwnymM"
      },
      "execution_count": null,
      "outputs": []
    },
    {
      "cell_type": "code",
      "source": [
        "combined_df.dropna(inplace=True)"
      ],
      "metadata": {
        "id": "-U3jJ-_Mn8ZL"
      },
      "execution_count": null,
      "outputs": []
    },
    {
      "cell_type": "markdown",
      "metadata": {
        "id": "0CUYWHvRt6au"
      },
      "source": [
        "# Model Training and Prediction"
      ]
    },
    {
      "cell_type": "code",
      "execution_count": null,
      "metadata": {
        "id": "wjkRJmi9v4Rp"
      },
      "outputs": [],
      "source": [
        "from sklearn.linear_model import Ridge\n",
        "from sklearn.linear_model import Lasso\n",
        "from sklearn.ensemble import RandomForestRegressor\n",
        "from sklearn.metrics import mean_squared_error, r2_score\n",
        "from sklearn.preprocessing import StandardScaler\n",
        "from sklearn.model_selection import train_test_split\n",
        "import numpy as np\n",
        "import torch\n",
        "import torch.nn as nn\n",
        "import matplotlib.pyplot as plt"
      ]
    },
    {
      "cell_type": "markdown",
      "metadata": {
        "id": "KvpF1aoP_jPc"
      },
      "source": [
        "## Lasso Model"
      ]
    },
    {
      "cell_type": "markdown",
      "metadata": {
        "id": "AOLP2dY9AF2k"
      },
      "source": [
        "### Model Training"
      ]
    },
    {
      "cell_type": "markdown",
      "metadata": {
        "id": "JD9QngIb_4m4"
      },
      "source": [
        "We will be using Lasso to train our data and evaluate its performance further"
      ]
    },
    {
      "cell_type": "code",
      "execution_count": null,
      "metadata": {
        "id": "GxUgyKliwrwC",
        "colab": {
          "base_uri": "https://localhost:8080/"
        },
        "outputId": "7b13723d-0b38-466d-bf88-8fc9ea384eb5"
      },
      "outputs": [
        {
          "output_type": "stream",
          "name": "stdout",
          "text": [
            "\n",
            "Lasso Regression Results:\n",
            "\n",
            "Lasso Model with alpha 100.000000 || Train_accuracy:0.7545973223, Test_accuracy:0.7538165446\n",
            "Lasso Model with alpha 40.000000  || Train_accuracy:0.8426809225, Test_accuracy:0.8393578539\n",
            "Lasso Model with alpha 20.000000  || Train_accuracy:0.8564083559, Test_accuracy:0.8519630043\n",
            "Lasso Model with alpha 10.000000  || Train_accuracy:0.8598404355, Test_accuracy:0.8547586617\n",
            "Lasso Model with alpha 5.000000   || Train_accuracy:0.8620031961, Test_accuracy:0.8569020494\n",
            "Lasso Model with alpha 4.000000   || Train_accuracy:0.8624414012, Test_accuracy:0.8573988413\n",
            "Lasso Model with alpha 3.000000   || Train_accuracy:0.8631841008, Test_accuracy:0.8582514942\n",
            "Lasso Model with alpha 2.000000   || Train_accuracy:0.8639357176, Test_accuracy:0.8591794878\n",
            "Lasso Model with alpha 1.000000   || Train_accuracy:0.8653790249, Test_accuracy:0.8608589348\n",
            "Lasso Model with alpha 0.500000   || Train_accuracy:0.8663961923, Test_accuracy:0.8618895116\n",
            "Lasso Model with alpha 0.100000   || Train_accuracy:0.8670508853, Test_accuracy:0.8625743897\n",
            "Lasso Model with alpha 0.050000   || Train_accuracy:0.8670825045, Test_accuracy:0.8626040798\n",
            "Lasso Model with alpha 0.010000   || Train_accuracy:0.8670972041, Test_accuracy:0.8626059473\n",
            "Lasso Model with alpha 0.005000   || Train_accuracy:0.8670981342, Test_accuracy:0.8626042500\n"
          ]
        }
      ],
      "source": [
        "combined_df = pd.get_dummies(combined_df, drop_first=True)\n",
        "\n",
        "X = combined_df.drop(columns=[\"price\"])\n",
        "y = combined_df[\"price\"]\n",
        "\n",
        "# Train/Test Split & Scaling\n",
        "\n",
        "X_train, X_test, y_train, y_test = train_test_split(X, y, test_size=0.2, random_state=42)\n",
        "\n",
        "scaler = StandardScaler()\n",
        "X_train_scaled = scaler.fit_transform(X_train)\n",
        "X_test_scaled = scaler.transform(X_test)\n",
        "\n",
        "# ----------------------------\n",
        "# Lasso Regression over Alphas\n",
        "\n",
        "# Store results\n",
        "train_scores = []\n",
        "test_scores = []\n",
        "alphas = [100,40,20,10,5,4,3,2,1,0.5, 0.1, 0.05, 0.01, 0.005];\n",
        "print(\"\\nLasso Regression Results:\\n\")\n",
        "\n",
        "for alpha in alphas:\n",
        "    lasso = Lasso(alpha=alpha, max_iter=10000)\n",
        "    lasso.fit(X_train_scaled, y_train)\n",
        "\n",
        "    train_accuracy = lasso.score(X_train_scaled, y_train)\n",
        "    test_accuracy = lasso.score(X_test_scaled, y_test)\n",
        "    train_scores.append(train_accuracy)\n",
        "    test_scores.append(test_accuracy)\n",
        "\n",
        "    print(\"Lasso Model with alpha {:<10.6f} || Train_accuracy:{:.10f}, Test_accuracy:{:.10f}\".format(\n",
        "        alpha, train_accuracy, test_accuracy\n",
        "    ))\n"
      ]
    },
    {
      "cell_type": "markdown",
      "source": [
        "Based on this model training with different alpha values, we see that for an alpha value at 0.005 the training and test accuracies are converging towards 86%.\n",
        "\n",
        "5 would be a good value for alpha even though lower values gives a slightly higher accuracies but this augmentation is relatively insignificant\n",
        "\n",
        "By this model we attain a training accuracy of 86.69287902% and a test accuracy of 86.62672474%"
      ],
      "metadata": {
        "id": "CPcm0p4lOm7p"
      }
    },
    {
      "cell_type": "markdown",
      "source": [
        "### Model Performance Evaluation"
      ],
      "metadata": {
        "id": "6swsl4baQocK"
      }
    },
    {
      "cell_type": "markdown",
      "source": [
        "We will use the alpha value 5 in order to do our prediction"
      ],
      "metadata": {
        "id": "kntevT3jQ-50"
      }
    },
    {
      "cell_type": "code",
      "source": [
        "# Predict with the best Lasso model\n",
        "best_lasso_model = Lasso(alpha = 5)\n",
        "best_lasso_model.fit(X_train_scaled, y_train)\n",
        "lasso_y_pred = best_lasso_model.predict(X_test_scaled)\n",
        "\n",
        "#R-Squared\n",
        "lasso_R2 = r2_score(y_test, lasso_y_pred)\n",
        "print(\"Best Lasso Regression Model R-Squared: {:.4f}\".format(lasso_RMSE))\n",
        "# Root Mean Squared Error (RMSE)\n",
        "lasso_RMSE = mean_squared_error(y_test, lasso_y_pred)\n",
        "print(\"Best Lasso Regression Model RMSE: {:.4f}\".format(lasso_RMSE))\n",
        "\n",
        "# Mean Absolute Error (MAE)\n",
        "lasso_errors = y_test - lasso_y_pred\n",
        "lasso_MAE = np.mean(np.abs(lasso_errors))\n",
        "print(\"Best Lasso Regression Model MAE: {:.4f}\".format(lasso_MAE))\n"
      ],
      "metadata": {
        "id": "WM5xEa1oRDo5",
        "colab": {
          "base_uri": "https://localhost:8080/"
        },
        "outputId": "52096b99-93d6-49ff-eecc-f1cc8de1c169"
      },
      "execution_count": null,
      "outputs": [
        {
          "output_type": "stream",
          "name": "stdout",
          "text": [
            "Best Lasso Regression Model R-Squared: 15322.3588\n",
            "Best Lasso Regression Model RMSE: 15803.2416\n",
            "Best Lasso Regression Model MAE: 95.5454\n"
          ]
        }
      ]
    },
    {
      "cell_type": "markdown",
      "source": [
        "## Random Forest"
      ],
      "metadata": {
        "id": "809kKOj3gMJK"
      }
    },
    {
      "cell_type": "markdown",
      "source": [
        "### Model Training"
      ],
      "metadata": {
        "id": "AviVyhy3gg_H"
      }
    },
    {
      "cell_type": "code",
      "source": [
        "depths = [2, 4, 6, 8, 10, 15, 20]  # None means unlimited depth\n",
        "\n",
        "train_scores = []\n",
        "test_scores = []\n",
        "\n",
        "for depth in depths:\n",
        "    rf = RandomForestRegressor(\n",
        "        n_estimators=100,\n",
        "        max_depth=depth,\n",
        "        random_state=42,\n",
        "        n_jobs=-1\n",
        "    )\n",
        "    rf.fit(X_train, y_train)\n",
        "\n",
        "    # Predictions\n",
        "    y_train_pred = rf.predict(X_train)\n",
        "    y_test_pred = rf.predict(X_test)\n",
        "\n",
        "    # R² scores\n",
        "    train_r2 = r2_score(y_train, y_train_pred)\n",
        "    test_r2 = r2_score(y_test, y_test_pred)\n",
        "\n",
        "    train_scores.append(train_r2)\n",
        "    test_scores.append(test_r2)\n",
        "    print(f\"Random Forest with max_depth={depth} || Train Accuracy: {train_r2:.4f}, Test Accuracy: {test_r2:.4f}\")\n",
        "\n",
        "# Plotting\n",
        "plt.figure(figsize=(10, 6))\n",
        "depth_labels = ['None' if d is None else d for d in depths]\n",
        "plt.plot(depth_labels, train_scores, marker='o', label='Train R²')\n",
        "plt.plot(depth_labels, test_scores, marker='s', label='Test R²')\n",
        "plt.xlabel('Max Depth')\n",
        "plt.ylabel('R² Score')\n",
        "plt.title('Random Forest Performance vs Tree Depth')\n",
        "plt.legend()\n",
        "plt.grid(True)\n",
        "plt.tight_layout()\n",
        "plt.show()\n"
      ],
      "metadata": {
        "id": "ZFM9F6hpQ-IV",
        "colab": {
          "base_uri": "https://localhost:8080/",
          "height": 726
        },
        "outputId": "640bdd61-8c5c-4812-c214-64a08910fd95"
      },
      "execution_count": null,
      "outputs": [
        {
          "output_type": "stream",
          "name": "stdout",
          "text": [
            "Random Forest with max_depth=2 || Train Accuracy: 0.8556, Test Accuracy: 0.8521\n",
            "Random Forest with max_depth=4 || Train Accuracy: 0.9434, Test Accuracy: 0.9404\n",
            "Random Forest with max_depth=6 || Train Accuracy: 0.9789, Test Accuracy: 0.9778\n",
            "Random Forest with max_depth=8 || Train Accuracy: 0.9949, Test Accuracy: 0.9944\n",
            "Random Forest with max_depth=10 || Train Accuracy: 0.9991, Test Accuracy: 0.9986\n",
            "Random Forest with max_depth=15 || Train Accuracy: 1.0000, Test Accuracy: 0.9996\n",
            "Random Forest with max_depth=20 || Train Accuracy: 1.0000, Test Accuracy: 0.9997\n"
          ]
        },
        {
          "output_type": "display_data",
          "data": {
            "text/plain": [
              "<Figure size 1000x600 with 1 Axes>"
            ],
            "image/png": "[encoded data removed]"
          },
          "metadata": {}
        }
      ]
    },
    {
      "cell_type": "markdown",
      "source": [
        "*   The best model with highest accuracy of random forest will have max_depth with value 20.\n",
        "*   The best model will have testing accuracy around 99.8% and training accuracy of 99.9%.\n"
      ],
      "metadata": {
        "id": "NQUzAbePOFao"
      }
    },
    {
      "cell_type": "markdown",
      "source": [
        "### Model Performance Evaluation"
      ],
      "metadata": {
        "id": "MNAj8CtAgqKd"
      }
    },
    {
      "cell_type": "markdown",
      "source": [
        "We will now evaluate the performance of our model with the optimal max_depth value (20)"
      ],
      "metadata": {
        "id": "0HOFEBtHgxRv"
      }
    },
    {
      "cell_type": "code",
      "source": [
        "# Make predictions\n",
        "best_rf_model = rf = RandomForestRegressor(\n",
        "        n_estimators=100,\n",
        "        max_depth=20,\n",
        "        random_state=42,\n",
        "        n_jobs=-1\n",
        "    )\n",
        "best_rf_model.fit(X_train, y_train)\n",
        "rf_y_pred = best_rf_model.predict(X_test)\n",
        "\n",
        "# Evaluation\n",
        "rf_R2 = r2_score(y_test, rf_y_pred)\n",
        "rf_RMSE = mean_squared_error(y_test, rf_y_pred)\n",
        "rf_MAE = np.mean(np.abs(y_test - rf_y_pred))\n",
        "\n",
        "# Print results\n",
        "print(f\"Random Forest R-Squared:   {rf_R2:.4f}\")\n",
        "print(f\"Random Forest RMSE: {rf_RMSE:.4f}\")\n",
        "print(f\"Random Forest MAE:  {rf_MAE:.4f}\")"
      ],
      "metadata": {
        "id": "YmhYZk6Dg69B",
        "colab": {
          "base_uri": "https://localhost:8080/"
        },
        "outputId": "4eb9f40c-7a11-45c2-9109-5d8a157764eb"
      },
      "execution_count": null,
      "outputs": [
        {
          "output_type": "stream",
          "name": "stdout",
          "text": [
            "Random Forest R-Squared:   0.9997\n",
            "Random Forest RMSE: 35.9667\n",
            "Random Forest MAE:  1.2660\n"
          ]
        }
      ]
    },
    {
      "cell_type": "markdown",
      "source": [
        "## Neural Network"
      ],
      "metadata": {
        "id": "jxRiR3RxyQng"
      }
    },
    {
      "cell_type": "markdown",
      "source": [
        "### Model Training"
      ],
      "metadata": {
        "id": "4SCJeblVynHE"
      }
    },
    {
      "cell_type": "markdown",
      "source": [
        "* We will use adaboost and alsp  tune the learning rate and the hidden features with gridsearch\n",
        "*   We will use RMSE to measure the loss.\n",
        "*   We will train this dataset for 500 epochs.\n",
        "*   We visualize the training loss wrt. epochs for the best model"
      ],
      "metadata": {
        "id": "nPVVQvGkf1WZ"
      }
    },
    {
      "cell_type": "code",
      "source": [
        "X = combined_df.drop(columns=[\"price\"])\n",
        "y = combined_df[\"price\"]  # ← correct here\n",
        "\n",
        "# Split\n",
        "X_train, X_test, y_train, y_test = train_test_split(\n",
        "    X, y, test_size=0.2, random_state=42\n",
        ")\n",
        "\n",
        "# Dummify X only\n",
        "X_train = pd.get_dummies(X_train, drop_first=True)\n",
        "X_test = pd.get_dummies(X_test, drop_first=True)\n",
        "\n",
        "# Align columns\n",
        "X_train, X_test = X_train.align(X_test, join='left', axis=1, fill_value=0)\n",
        "\n",
        "# Now safely convert y (this y_train is only 72k rows)\n",
        "y_train = y_train.astype(np.float32)\n",
        "y_test = y_test.astype(np.float32)\n",
        "\n",
        "# Convert to tensors\n",
        "X_train_tensor = torch.from_numpy(X_train.values.astype(np.float32))\n",
        "y_train_tensor = torch.from_numpy(y_train.values.reshape(-1, 1))\n",
        "\n",
        "X_test_tensor = torch.from_numpy(X_test.values.astype(np.float32))\n",
        "y_test_tensor = torch.from_numpy(y_test.values.reshape(-1, 1))\n",
        "\n",
        "# Check shape\n",
        "print(\"X_train_tensor:\", X_train_tensor.shape)\n",
        "print(\"y_train_tensor:\", y_train_tensor.shape)\n"
      ],
      "metadata": {
        "id": "zoe2Zjcwmu4l",
        "colab": {
          "base_uri": "https://localhost:8080/"
        },
        "outputId": "fc41103e-dd1d-4676-e595-ad469d2f4495"
      },
      "execution_count": null,
      "outputs": [
        {
          "output_type": "stream",
          "name": "stdout",
          "text": [
            "X_train_tensor: torch.Size([72737, 249])\n",
            "y_train_tensor: torch.Size([72737, 1])\n"
          ]
        }
      ]
    },
    {
      "cell_type": "code",
      "source": [
        "class NN(torch.nn.Module):\n",
        "    def __init__(self, features, hidden1):\n",
        "        super(NN, self).__init__()\n",
        "        self.linear1 = torch.nn.Linear(features, hidden1)\n",
        "        self.relu1 = torch.nn.ReLU()\n",
        "        self.linear2 = torch.nn.Linear(hidden1, hidden1)\n",
        "        self.relu2 = torch.nn.ReLU()\n",
        "        self.linear3 = torch.nn.Linear(hidden1, 1)\n",
        "\n",
        "    def forward(self, x):\n",
        "        return self.linear3(self.relu2(self.linear2(self.relu1(self.linear1(x)))))\n"
      ],
      "metadata": {
        "id": "mLK_hXmguLOL"
      },
      "execution_count": null,
      "outputs": []
    },
    {
      "cell_type": "code",
      "source": [
        "#train the NN and tune the learning rate\n",
        "device = torch.device(\"cuda\" if torch.cuda.is_available() else \"cpu\")\n",
        "num_data, num_features = X_train.shape\n",
        "criterion = nn.MSELoss()\n",
        "best_lr = []\n",
        "best_hidden = []\n",
        "final_loss = []\n",
        "best_loss_list = []\n",
        "models = []\n",
        "lr_list = [0.01, 0.05, 0.1, 0.2, 0.3]\n",
        "hidden_list = [20, 30, 40]\n",
        "\n",
        "for hidden in hidden_list:\n",
        "  for lr in lr_list:\n",
        "    model = NN(num_features, hidden)\n",
        "    optimizer = torch.optim.Adam(model.parameters(), lr = lr)\n",
        "    training_loss_list = []\n",
        "    best_lr.append(lr)\n",
        "    best_hidden.append(hidden)\n",
        "    for i in range(500):\n",
        "        cur_epoch = i;\n",
        "        optimizer.zero_grad()\n",
        "        y_predicted = model(X_train_tensor)\n",
        "        loss = torch.sqrt(criterion(y_predicted, y_train_tensor))\n",
        "        #last iteration, append to lists\n",
        "        if (i == 499):\n",
        "          print(\"Final loss from hidden_layers {} and learning rate {}: [{}]\".format(hidden, lr, loss))\n",
        "          models.append(model)\n",
        "          final_loss.append(loss)\n",
        "        training_loss_list.append(loss.item());\n",
        "        loss.backward()\n",
        "        optimizer.step()\n",
        "    best_loss_list.append(training_loss_list)"
      ],
      "metadata": {
        "id": "E2jxngf0uSzU",
        "colab": {
          "base_uri": "https://localhost:8080/"
        },
        "outputId": "4a3f175b-c2b0-486b-82b7-94a8c8f7e8c9"
      },
      "execution_count": null,
      "outputs": [
        {
          "output_type": "stream",
          "name": "stdout",
          "text": [
            "Final loss from hidden_layers 20 and learning rate 0.01: [108.52112579345703]\n",
            "Final loss from hidden_layers 20 and learning rate 0.05: [123.88903045654297]\n",
            "Final loss from hidden_layers 20 and learning rate 0.1: [331.4285583496094]\n",
            "Final loss from hidden_layers 20 and learning rate 0.2: [622.0227661132812]\n",
            "Final loss from hidden_layers 20 and learning rate 0.3: [582.1492919921875]\n",
            "Final loss from hidden_layers 30 and learning rate 0.01: [108.3411865234375]\n",
            "Final loss from hidden_layers 30 and learning rate 0.05: [108.5704345703125]\n",
            "Final loss from hidden_layers 30 and learning rate 0.1: [108.72518157958984]\n",
            "Final loss from hidden_layers 30 and learning rate 0.2: [622.0929565429688]\n",
            "Final loss from hidden_layers 30 and learning rate 0.3: [582.186279296875]\n",
            "Final loss from hidden_layers 40 and learning rate 0.01: [98.57449340820312]\n",
            "Final loss from hidden_layers 40 and learning rate 0.05: [108.6827163696289]\n",
            "Final loss from hidden_layers 40 and learning rate 0.1: [663.9329833984375]\n",
            "Final loss from hidden_layers 40 and learning rate 0.2: [331.4285583496094]\n",
            "Final loss from hidden_layers 40 and learning rate 0.3: [331.4285583496094]\n"
          ]
        }
      ]
    },
    {
      "cell_type": "markdown",
      "source": [
        "The best model is with hidden layers 20 and a learning rate of 0.1. We will evaluate the model with these parameters"
      ],
      "metadata": {
        "id": "RLltJP575An7"
      }
    },
    {
      "cell_type": "markdown",
      "source": [
        "### Model Performance Evaluation"
      ],
      "metadata": {
        "id": "0n-rETa34Ggj"
      }
    },
    {
      "cell_type": "code",
      "source": [
        "index = 0 * 5 + 2  # = 2\n",
        "best_model = models[2]\n",
        "# Predict\n",
        "with torch.no_grad():\n",
        "    y_pred = best_model(X_test_tensor).cpu().numpy()\n",
        "    y_true = y_test_tensor.cpu().numpy()\n",
        "\n",
        "# Evaluate\n",
        "rmse = mean_squared_error(y_true, y_pred)\n",
        "mae = np.mean(np.abs(y_true - y_pred))\n",
        "r2 = r2_score(y_true, y_pred)\n",
        "\n",
        "print(\"\\n🔮 Neural Network Prediction Results\")\n",
        "print(f\"Hidden Units: 20, Learning Rate: 0.1\")\n",
        "print(f\"RMSE: {rmse:.4f}\")\n",
        "print(f\"MAE: {mae:.4f}\")"
      ],
      "metadata": {
        "id": "Z6HasBgV6q4e",
        "colab": {
          "base_uri": "https://localhost:8080/"
        },
        "outputId": "2d08176f-9b07-491b-a54f-df45ec5e9817"
      },
      "execution_count": null,
      "outputs": [
        {
          "output_type": "stream",
          "name": "stdout",
          "text": [
            "\n",
            "🔮 Neural Network Prediction Results\n",
            "Hidden Units: 20, Learning Rate: 0.1\n",
            "RMSE: 110467.2266\n",
            "MAE: 287.8247\n",
            "R² Score: -0.0003\n"
          ]
        }
      ]
    },
    {
      "cell_type": "markdown",
      "source": [
        "# Best Model Selection"
      ],
      "metadata": {
        "id": "Cg6yeWil7W5G"
      }
    },
    {
      "cell_type": "markdown",
      "source": [
        "\n",
        "After extensive experimentation and model tuning, we evaluated three different predictive modeling approaches on our dataset: Lasso Regression, Random Forest, and a Neural Network. The performance of each model was measured using test set accuracy and Root Mean Squared Error (RMSE) as evaluation metrics.\n",
        "\n",
        "- The Lasso Regression model achieved a test\n",
        "accuracy of 86.63% and an RMSE of 15,322.36. While effective at feature selection, its linear nature limited its predictive power on more complex patterns.\n",
        "\n",
        "- The Random Forest model demonstrated superior performance, achieving a test accuracy of 99.8% and an RMSE of 220.79. Its ensemble-based architecture allowed it to capture non-linear relationships in the data effectively.\n",
        "\n",
        "- The Neural Network model, also performed poorer than Random Forest and show less accuracy.\n",
        "\n",
        "In conclusion, the Random Forest model emerged as the most effective and accurate solution for our regression task, providing both high predictive accuracy and low error. This suggests that tree-based ensemble methods are particularly well-suited for capturing the complexities within our dataset."
      ],
      "metadata": {
        "id": "aArMuUK_7cUZ"
      }
    },
    {
      "cell_type": "markdown",
      "source": [
        "# Challenges Faced"
      ],
      "metadata": {
        "id": "ymaRxmPR9cCW"
      }
    },
    {
      "cell_type": "markdown",
      "source": [
        "1. Dataset Choice:\n",
        "Finding an interesting dataset was one of the main challenge i faced during the project as i tried different ones in the beginning and had to switch again due to 50000 rows requirement and also relevancy of the actual data.\n",
        "Merging datasets from various sources—including Airbnb listings, NYC 311 complaints, weather data, and borough-level information—posed significant challenges. Each dataset came with its own schema, naming conventions, and levels of granularity. Ensuring consistent formatting, handling missing values, and aligning records temporally and geographically required extensive preprocessing.\n",
        "\n",
        "\n",
        "3. Service Fee Data Inconsistencies:\n",
        "A significant hurdle was the unreliability or absence of service fee data in many listings. To avoid discarding these records, we had to simulate or transform this feature intelligently—preserving variance without leaking target information or introducing bias.\n",
        "\n",
        "4. Modeling Regularization Effects:\n",
        "In regularized regression models like Ridge and Lasso, tuning the alpha hyperparameter was crucial but not always impactful without sufficient signal. In early iterations, alpha changes barely affected performance, indicating the need for better features. This led to multiple rounds of feature refinement and validation before observing meaningful model sensitivity.\n",
        "\n",
        "6. Interpretability vs. Performance Trade-offs:\n",
        "Some features (e.g., room type or borough dummies) had strong coefficients but were not always intuitive in impact due to multicollinearity. Choosing models that were interpretable while also performant required balancing regularization strength and feature selection carefully."
      ],
      "metadata": {
        "id": "3S5tTi5i-mKF"
      }
    },
    {
      "cell_type": "markdown",
      "source": [
        "# Potential Next Steps"
      ],
      "metadata": {
        "id": "Jx-gt_6K_UJr"
      }
    },
    {
      "cell_type": "markdown",
      "source": [
        "Expanding the price prediction model to all states in the United States and add housing data in order to predict the Real Estate Market as a whole.\n",
        "We could also use other datasets such as Permitted Events to have a better prediction model."
      ],
      "metadata": {
        "id": "mDdXA4au_XGu"
      }
    },
    {
      "cell_type": "code",
      "source": [
        "!git clone https://github.com/MohamedDiakhate/Machine-Learning-Data-Science-Projects.git\n",
        "%cd Machine-Learning-Data-Science-Projects"
      ],
      "metadata": {
        "colab": {
          "base_uri": "https://localhost:8080/"
        },
        "id": "H7ZWPZmd4R5d",
        "outputId": "6faf1e1e-8846-4762-9a9d-862520b7bc43"
      },
      "execution_count": 2,
      "outputs": [
        {
          "output_type": "stream",
          "name": "stdout",
          "text": [
            "Cloning into 'Machine-Learning-Data-Science-Projects'...\n",
            "warning: You appear to have cloned an empty repository.\n",
            "/content/Machine-Learning-Data-Science-Projects\n"
          ]
        }
      ]
    },
    {
      "cell_type": "code",
      "source": [
        "!ls /content"
      ],
      "metadata": {
        "colab": {
          "base_uri": "https://localhost:8080/"
        },
        "id": "Q_PrF4FD4kCh",
        "outputId": "827fe1bf-2abd-4ba9-b450-76e286e8c7a0"
      },
      "execution_count": 4,
      "outputs": [
        {
          "output_type": "stream",
          "name": "stdout",
          "text": [
            "Machine-Learning-Data-Science-Projects\tsample_data\n"
          ]
        }
      ]
    },
    {
      "cell_type": "code",
      "source": [
        "%cd /content/Machine-Learning-Data-Science-Projects\n",
        "!git add .\n",
        "!git commit -m \"Add final project notebook\"\n",
        "!git push origin main\n"
      ],
      "metadata": {
        "colab": {
          "base_uri": "https://localhost:8080/"
        },
        "id": "oe0kjw_o5ioX",
        "outputId": "a0d1fdee-1a32-4542-f5bb-226523383877"
      },
      "execution_count": 5,
      "outputs": [
        {
          "output_type": "stream",
          "name": "stdout",
          "text": [
            "/content/Machine-Learning-Data-Science-Projects\n",
            "Author identity unknown\n",
            "\n",
            "*** Please tell me who you are.\n",
            "\n",
            "Run\n",
            "\n",
            "  git config --global user.email \"you@example.com\"\n",
            "  git config --global user.name \"Your Name\"\n",
            "\n",
            "to set your account's default identity.\n",
            "Omit --global to set the identity only in this repository.\n",
            "\n",
            "fatal: unable to auto-detect email address (got 'root@252c2d1f0983.(none)')\n",
            "error: src refspec main does not match any\n",
            "\u001b[31merror: failed to push some refs to 'https://github.com/MohamedDiakhate/Machine-Learning-Data-Science-Projects.git'\n",
            "\u001b[m"
          ]
        }
      ]
    },
    {
      "cell_type": "code",
      "source": [
        "%cd /content/Machine-Learning-Data-Science-Projects"
      ],
      "metadata": {
        "colab": {
          "base_uri": "https://localhost:8080/"
        },
        "id": "2o1ONSJU5mga",
        "outputId": "cd1f0cbd-e373-481f-9cfa-8860cdb5a03e"
      },
      "execution_count": 6,
      "outputs": [
        {
          "output_type": "stream",
          "name": "stdout",
          "text": [
            "/content/Machine-Learning-Data-Science-Projects\n"
          ]
        }
      ]
    },
    {
      "cell_type": "code",
      "source": [
        "!git add ."
      ],
      "metadata": {
        "id": "sqIKgq_V5o4k"
      },
      "execution_count": 8,
      "outputs": []
    },
    {
      "cell_type": "code",
      "source": [
        "!git commit -m \"Add final project notebook\""
      ],
      "metadata": {
        "colab": {
          "base_uri": "https://localhost:8080/"
        },
        "id": "_FkKM1Mh5uxF",
        "outputId": "69f7de55-ad31-4801-979a-04bb69ee0411"
      },
      "execution_count": 11,
      "outputs": [
        {
          "output_type": "stream",
          "name": "stdout",
          "text": [
            "On branch main\n",
            "\n",
            "Initial commit\n",
            "\n",
            "nothing to commit (create/copy files and use \"git add\" to track)\n"
          ]
        }
      ]
    },
    {
      "cell_type": "code",
      "source": [
        "!git config --global user.email \"diakhate.moha@gmail.com\"\n",
        "!git config --global user.name \"Mohamed Diakhate\"\n"
      ],
      "metadata": {
        "id": "sZJjdP755zMK"
      },
      "execution_count": 10,
      "outputs": []
    },
    {
      "cell_type": "code",
      "source": [
        "!ssh-keygen -t ed25519 -C \"diakhate.moha@gmail.com\" -f ~/.ssh/id_ed25519 -N \"\"\n"
      ],
      "metadata": {
        "colab": {
          "base_uri": "https://localhost:8080/"
        },
        "id": "t5OZ_6TT9Es1",
        "outputId": "0dcdfe82-b605-40bf-bbb3-6e7ccc1fbcff"
      },
      "execution_count": 25,
      "outputs": [
        {
          "output_type": "stream",
          "name": "stdout",
          "text": [
            "Generating public/private ed25519 key pair.\n",
            "Created directory '/root/.ssh'.\r\n",
            "Your identification has been saved in /root/.ssh/id_ed25519\n",
            "Your public key has been saved in /root/.ssh/id_ed25519.pub\n",
            "The key fingerprint is:\n",
            "SHA256:c62jGXCdiAD+yLtTsfzvOwmAF5NTj1j3V5/c63G5joM diakhate.moha@gmail.com\n",
            "The key's randomart image is:\n",
            "+--[ED25519 256]--+\n",
            "|  .  oo .     .  |\n",
            "| . .=o + .   ...o|\n",
            "|  ..o+. . . .  oo|\n",
            "| ..o+. . o +    o|\n",
            "|  oo.+o S + .  +.|\n",
            "|   .+ .o o .  . +|\n",
            "|  .. . ...o .  o |\n",
            "|  ..  . o+ E .o  |\n",
            "|  ..   o*o   ... |\n",
            "+----[SHA256]-----+\n"
          ]
        }
      ]
    },
    {
      "cell_type": "code",
      "source": [
        "!eval $(ssh-agent -s)\n",
        "!ssh-add ~/.ssh/id_ed25519\n"
      ],
      "metadata": {
        "colab": {
          "base_uri": "https://localhost:8080/"
        },
        "id": "0IOW8Pfw9MbX",
        "outputId": "74df726b-b0af-4424-b95b-94bf79d7f736"
      },
      "execution_count": 26,
      "outputs": [
        {
          "output_type": "stream",
          "name": "stdout",
          "text": [
            "Agent pid 5665\n",
            "Could not open a connection to your authentication agent.\n"
          ]
        }
      ]
    },
    {
      "cell_type": "code",
      "source": [
        "!cat ~/.ssh/id_ed25519.pub"
      ],
      "metadata": {
        "colab": {
          "base_uri": "https://localhost:8080/"
        },
        "id": "yG3gAw5b9RV8",
        "outputId": "773419ac-68df-49bc-aea6-84012ee6327d"
      },
      "execution_count": 27,
      "outputs": [
        {
          "output_type": "stream",
          "name": "stdout",
          "text": [
            "ssh-ed25519 AAAAC3NzaC1lZDI1NTE5AAAAIByKCuGmv5ggTiPKNvaVDvMk/eMKBFl74CCmsiVD7Yh8 diakhate.moha@gmail.com\n"
          ]
        }
      ]
    },
    {
      "cell_type": "code",
      "source": [
        "%cd /content/Machine-Learning-Data-Science-Projects\n",
        "\n",
        "!git remote remove origin 2>/dev/null || true\n",
        "!git remote add origin git@github.com:MohamedDiakhate/Machine-Learning-Data-Science-Projects.git\n"
      ],
      "metadata": {
        "colab": {
          "base_uri": "https://localhost:8080/"
        },
        "id": "VhCj8BGt9fRH",
        "outputId": "e2144b66-678d-419a-f572-084e420f33cb"
      },
      "execution_count": 28,
      "outputs": [
        {
          "output_type": "stream",
          "name": "stdout",
          "text": [
            "/content/Machine-Learning-Data-Science-Projects\n"
          ]
        }
      ]
    },
    {
      "cell_type": "code",
      "source": [
        "!ssh -T git@github.com"
      ],
      "metadata": {
        "colab": {
          "base_uri": "https://localhost:8080/"
        },
        "id": "UZOLVIbz9h9z",
        "outputId": "c8f9d74c-5d0e-4191-9e8d-bacf46774716"
      },
      "execution_count": 30,
      "outputs": [
        {
          "output_type": "stream",
          "name": "stdout",
          "text": [
            "Host key verification failed.\r\n"
          ]
        }
      ]
    },
    {
      "cell_type": "code",
      "source": [
        "# Make sure ~/.ssh directory exists\n",
        "!mkdir -p ~/.ssh\n",
        "\n",
        "# Add GitHub to known hosts\n",
        "!ssh-keyscan -t rsa github.com >> ~/.ssh/known_hosts\n"
      ],
      "metadata": {
        "colab": {
          "base_uri": "https://localhost:8080/"
        },
        "id": "LjDJuzIV9sLj",
        "outputId": "3a7bdb46-3e01-4d53-f03c-b784cca6789c"
      },
      "execution_count": 31,
      "outputs": [
        {
          "output_type": "stream",
          "name": "stdout",
          "text": [
            "# github.com:22 SSH-2.0-550beff\n"
          ]
        }
      ]
    },
    {
      "cell_type": "code",
      "source": [
        "!ssh -T git@github.com"
      ],
      "metadata": {
        "colab": {
          "base_uri": "https://localhost:8080/"
        },
        "id": "uDhk4m3r9wDH",
        "outputId": "d2e90457-4ceb-4719-eb76-58bf4c271b89"
      },
      "execution_count": 32,
      "outputs": [
        {
          "output_type": "stream",
          "name": "stdout",
          "text": [
            "Hi MohamedDiakhate! You've successfully authenticated, but GitHub does not provide shell access.\n"
          ]
        }
      ]
    },
    {
      "cell_type": "code",
      "source": [
        "!git push -u origin main"
      ],
      "metadata": {
        "colab": {
          "base_uri": "https://localhost:8080/"
        },
        "id": "0rrsZMCt9yMC",
        "outputId": "35bcf78f-55f9-4337-da80-6683ac21b757"
      },
      "execution_count": 34,
      "outputs": [
        {
          "output_type": "stream",
          "name": "stdout",
          "text": [
            "Enumerating objects: 3, done.\n",
            "Counting objects:  33% (1/3)\rCounting objects:  66% (2/3)\rCounting objects: 100% (3/3)\rCounting objects: 100% (3/3), done.\n",
            "Delta compression using up to 2 threads\n",
            "Compressing objects:  50% (1/2)\rCompressing objects: 100% (2/2)\rCompressing objects: 100% (2/2), done.\n",
            "Writing objects:  33% (1/3)\rWriting objects:  66% (2/3)\rWriting objects: 100% (3/3)\rWriting objects: 100% (3/3), 275 bytes | 275.00 KiB/s, done.\n",
            "Total 3 (delta 0), reused 0 (delta 0), pack-reused 0\n",
            "To github.com:MohamedDiakhate/Machine-Learning-Data-Science-Projects.git\n",
            " * [new branch]      main -> main\n",
            "Branch 'main' set up to track remote branch 'main' from 'origin'.\n"
          ]
        }
      ]
    },
    {
      "cell_type": "code",
      "source": [
        "!git add ."
      ],
      "metadata": {
        "id": "o1_0ed2K-E6F"
      },
      "execution_count": 35,
      "outputs": []
    },
    {
      "cell_type": "code",
      "source": [
        "!git commit -m \"Airbnb Project\""
      ],
      "metadata": {
        "colab": {
          "base_uri": "https://localhost:8080/"
        },
        "id": "mKtFB6E--IfX",
        "outputId": "ef9f92c3-1afa-458c-a96d-c01ca84c755c"
      },
      "execution_count": 36,
      "outputs": [
        {
          "output_type": "stream",
          "name": "stdout",
          "text": [
            "On branch main\n",
            "Your branch is up to date with 'origin/main'.\n",
            "\n",
            "nothing to commit, working tree clean\n"
          ]
        }
      ]
    },
    {
      "cell_type": "code",
      "source": [
        "!git push -u origin main"
      ],
      "metadata": {
        "colab": {
          "base_uri": "https://localhost:8080/"
        },
        "id": "MnBdKY5o-O5k",
        "outputId": "6d61b958-21d9-4168-da2b-287ab120962f"
      },
      "execution_count": 37,
      "outputs": [
        {
          "output_type": "stream",
          "name": "stdout",
          "text": [
            "Branch 'main' set up to track remote branch 'main' from 'origin'.\n",
            "Everything up-to-date\n"
          ]
        }
      ]
    },
    {
      "cell_type": "code",
      "source": [
        "%cd /content/Machine-Learning-Data-Science-Projects\n",
        "!ls"
      ],
      "metadata": {
        "colab": {
          "base_uri": "https://localhost:8080/"
        },
        "id": "ISWt3eEO-lxL",
        "outputId": "a4978e11-5445-46f2-f6ae-8cb48f44f4ce"
      },
      "execution_count": 38,
      "outputs": [
        {
          "output_type": "stream",
          "name": "stdout",
          "text": [
            "/content/Machine-Learning-Data-Science-Projects\n",
            "README.md\n"
          ]
        }
      ]
    },
    {
      "cell_type": "code",
      "source": [
        "!cp /content/Final-Project.ipynb /content/Machine-Learning-Data-Science-Projects/"
      ],
      "metadata": {
        "colab": {
          "base_uri": "https://localhost:8080/"
        },
        "id": "1UZzDyNo-qFm",
        "outputId": "50101b80-48b6-4e56-cb06-7655714faa3f"
      },
      "execution_count": 41,
      "outputs": [
        {
          "output_type": "stream",
          "name": "stdout",
          "text": [
            "cp: cannot stat '/content/Final-Project.ipynb': No such file or directory\n"
          ]
        }
      ]
    },
    {
      "cell_type": "code",
      "source": [
        "!ls /content\n"
      ],
      "metadata": {
        "colab": {
          "base_uri": "https://localhost:8080/"
        },
        "id": "ag5q-qpw_Ac4",
        "outputId": "89ba628d-9b60-45b3-9d2b-0051cfe93f3e"
      },
      "execution_count": 44,
      "outputs": [
        {
          "output_type": "stream",
          "name": "stdout",
          "text": [
            "Machine-Learning-Data-Science-Projects\tsample_data\n"
          ]
        }
      ]
    },
    {
      "cell_type": "code",
      "source": [
        "from google.colab import files\n",
        "uploaded = files.upload()\n"
      ],
      "metadata": {
        "colab": {
          "base_uri": "https://localhost:8080/",
          "height": 74
        },
        "id": "7mV2au7c_M-v",
        "outputId": "88aa6fe7-6764-4ef9-a631-da0f76aad044"
      },
      "execution_count": 43,
      "outputs": [
        {
          "output_type": "display_data",
          "data": {
            "text/plain": [
              "<IPython.core.display.HTML object>"
            ],
            "text/html": [
              "\n",
              "     <input type=\"file\" id=\"files-83a4855b-9947-451a-9db9-278c0adab2e4\" name=\"files[]\" multiple disabled\n",
              "        style=\"border:none\" />\n",
              "     <output id=\"result-83a4855b-9947-451a-9db9-278c0adab2e4\">\n",
              "      Upload widget is only available when the cell has been executed in the\n",
              "      current browser session. Please rerun this cell to enable.\n",
              "      </output>\n",
              "      <script>// Copyright 2017 Google LLC\n",
              "//\n",
              "// Licensed under the Apache License, Version 2.0 (the \"License\");\n",
              "// you may not use this file except in compliance with the License.\n",
              "// You may obtain a copy of the License at\n",
              "//\n",
              "//      http://www.apache.org/licenses/LICENSE-2.0\n",
              "//\n",
              "// Unless required by applicable law or agreed to in writing, software\n",
              "// distributed under the License is distributed on an \"AS IS\" BASIS,\n",
              "// WITHOUT WARRANTIES OR CONDITIONS OF ANY KIND, either express or implied.\n",
              "// See the License for the specific language governing permissions and\n",
              "// limitations under the License.\n",
              "\n",
              "/**\n",
              " * @fileoverview Helpers for google.colab Python module.\n",
              " */\n",
              "(function(scope) {\n",
              "function span(text, styleAttributes = {}) {\n",
              "  const element = document.createElement('span');\n",
              "  element.textContent = text;\n",
              "  for (const key of Object.keys(styleAttributes)) {\n",
              "    element.style[key] = styleAttributes[key];\n",
              "  }\n",
              "  return element;\n",
              "}\n",
              "\n",
              "// Max number of bytes which will be uploaded at a time.\n",
              "const MAX_PAYLOAD_SIZE = 100 * 1024;\n",
              "\n",
              "function _uploadFiles(inputId, outputId) {\n",
              "  const steps = uploadFilesStep(inputId, outputId);\n",
              "  const outputElement = document.getElementById(outputId);\n",
              "  // Cache steps on the outputElement to make it available for the next call\n",
              "  // to uploadFilesContinue from Python.\n",
              "  outputElement.steps = steps;\n",
              "\n",
              "  return _uploadFilesContinue(outputId);\n",
              "}\n",
              "\n",
              "// This is roughly an async generator (not supported in the browser yet),\n",
              "// where there are multiple asynchronous steps and the Python side is going\n",
              "// to poll for completion of each step.\n",
              "// This uses a Promise to block the python side on completion of each step,\n",
              "// then passes the result of the previous step as the input to the next step.\n",
              "function _uploadFilesContinue(outputId) {\n",
              "  const outputElement = document.getElementById(outputId);\n",
              "  const steps = outputElement.steps;\n",
              "\n",
              "  const next = steps.next(outputElement.lastPromiseValue);\n",
              "  return Promise.resolve(next.value.promise).then((value) => {\n",
              "    // Cache the last promise value to make it available to the next\n",
              "    // step of the generator.\n",
              "    outputElement.lastPromiseValue = value;\n",
              "    return next.value.response;\n",
              "  });\n",
              "}\n",
              "\n",
              "/**\n",
              " * Generator function which is called between each async step of the upload\n",
              " * process.\n",
              " * @param {string} inputId Element ID of the input file picker element.\n",
              " * @param {string} outputId Element ID of the output display.\n",
              " * @return {!Iterable<!Object>} Iterable of next steps.\n",
              " */\n",
              "function* uploadFilesStep(inputId, outputId) {\n",
              "  const inputElement = document.getElementById(inputId);\n",
              "  inputElement.disabled = false;\n",
              "\n",
              "  const outputElement = document.getElementById(outputId);\n",
              "  outputElement.innerHTML = '';\n",
              "\n",
              "  const pickedPromise = new Promise((resolve) => {\n",
              "    inputElement.addEventListener('change', (e) => {\n",
              "      resolve(e.target.files);\n",
              "    });\n",
              "  });\n",
              "\n",
              "  const cancel = document.createElement('button');\n",
              "  inputElement.parentElement.appendChild(cancel);\n",
              "  cancel.textContent = 'Cancel upload';\n",
              "  const cancelPromise = new Promise((resolve) => {\n",
              "    cancel.onclick = () => {\n",
              "      resolve(null);\n",
              "    };\n",
              "  });\n",
              "\n",
              "  // Wait for the user to pick the files.\n",
              "  const files = yield {\n",
              "    promise: Promise.race([pickedPromise, cancelPromise]),\n",
              "    response: {\n",
              "      action: 'starting',\n",
              "    }\n",
              "  };\n",
              "\n",
              "  cancel.remove();\n",
              "\n",
              "  // Disable the input element since further picks are not allowed.\n",
              "  inputElement.disabled = true;\n",
              "\n",
              "  if (!files) {\n",
              "    return {\n",
              "      response: {\n",
              "        action: 'complete',\n",
              "      }\n",
              "    };\n",
              "  }\n",
              "\n",
              "  for (const file of files) {\n",
              "    const li = document.createElement('li');\n",
              "    li.append(span(file.name, {fontWeight: 'bold'}));\n",
              "    li.append(span(\n",
              "        `(${file.type || 'n/a'}) - ${file.size} bytes, ` +\n",
              "        `last modified: ${\n",
              "            file.lastModifiedDate ? file.lastModifiedDate.toLocaleDateString() :\n",
              "                                    'n/a'} - `));\n",
              "    const percent = span('0% done');\n",
              "    li.appendChild(percent);\n",
              "\n",
              "    outputElement.appendChild(li);\n",
              "\n",
              "    const fileDataPromise = new Promise((resolve) => {\n",
              "      const reader = new FileReader();\n",
              "      reader.onload = (e) => {\n",
              "        resolve(e.target.result);\n",
              "      };\n",
              "      reader.readAsArrayBuffer(file);\n",
              "    });\n",
              "    // Wait for the data to be ready.\n",
              "    let fileData = yield {\n",
              "      promise: fileDataPromise,\n",
              "      response: {\n",
              "        action: 'continue',\n",
              "      }\n",
              "    };\n",
              "\n",
              "    // Use a chunked sending to avoid message size limits. See b/62115660.\n",
              "    let position = 0;\n",
              "    do {\n",
              "      const length = Math.min(fileData.byteLength - position, MAX_PAYLOAD_SIZE);\n",
              "      const chunk = new Uint8Array(fileData, position, length);\n",
              "      position += length;\n",
              "\n",
              "      const base64 = btoa(String.fromCharCode.apply(null, chunk));\n",
              "      yield {\n",
              "        response: {\n",
              "          action: 'append',\n",
              "          file: file.name,\n",
              "          data: base64,\n",
              "        },\n",
              "      };\n",
              "\n",
              "      let percentDone = fileData.byteLength === 0 ?\n",
              "          100 :\n",
              "          Math.round((position / fileData.byteLength) * 100);\n",
              "      percent.textContent = `${percentDone}% done`;\n",
              "\n",
              "    } while (position < fileData.byteLength);\n",
              "  }\n",
              "\n",
              "  // All done.\n",
              "  yield {\n",
              "    response: {\n",
              "      action: 'complete',\n",
              "    }\n",
              "  };\n",
              "}\n",
              "\n",
              "scope.google = scope.google || {};\n",
              "scope.google.colab = scope.google.colab || {};\n",
              "scope.google.colab._files = {\n",
              "  _uploadFiles,\n",
              "  _uploadFilesContinue,\n",
              "};\n",
              "})(self);\n",
              "</script> "
            ]
          },
          "metadata": {}
        },
        {
          "output_type": "stream",
          "name": "stdout",
          "text": [
            "Saving Final_Project.ipynb to Final_Project.ipynb\n"
          ]
        }
      ]
    },
    {
      "cell_type": "code",
      "source": [
        "!cp /content/Final_Project.ipynb /content/Machine-Learning-Data-Science-Projects/\n"
      ],
      "metadata": {
        "colab": {
          "base_uri": "https://localhost:8080/"
        },
        "id": "f4gvSRRK_lYI",
        "outputId": "9d5b1a47-f85c-4916-8b47-408638f31eb2"
      },
      "execution_count": 47,
      "outputs": [
        {
          "output_type": "stream",
          "name": "stdout",
          "text": [
            "cp: cannot stat '/content/Final_Project.ipynb': No such file or directory\n"
          ]
        }
      ]
    },
    {
      "cell_type": "code",
      "source": [
        "!pwd\n"
      ],
      "metadata": {
        "colab": {
          "base_uri": "https://localhost:8080/"
        },
        "id": "o09VqqAp_4n7",
        "outputId": "7ee06b09-a08d-4929-ea85-0472663503b9"
      },
      "execution_count": 49,
      "outputs": [
        {
          "output_type": "stream",
          "name": "stdout",
          "text": [
            "/content/Machine-Learning-Data-Science-Projects\n"
          ]
        }
      ]
    },
    {
      "cell_type": "code",
      "source": [
        "from google.colab import drive\n",
        "drive.mount('/content/drive')\n",
        "!ls /content/drive/MyDrive/\n"
      ],
      "metadata": {
        "colab": {
          "base_uri": "https://localhost:8080/"
        },
        "id": "Gj0OyajZAZac",
        "outputId": "0c32e8f8-9a42-42e6-b8f0-ad776bee120d"
      },
      "execution_count": 50,
      "outputs": [
        {
          "output_type": "stream",
          "name": "stdout",
          "text": [
            "Mounted at /content/drive\n",
            " 521-hw10\t\t\t\t\t\t       kaggle.json\n",
            " CIS450-Project\t\t\t\t\t\t      'Resume (1).pdf'\n",
            "'Colab Notebooks'\t\t\t\t\t       Resume.pdf\n",
            "'Copy of CIT593_M8_Assembly-to-C_submission_template.gsheet'   Untitled0.ipynb\n",
            " IMG_E26D0A8421AF-1.jpeg\n"
          ]
        }
      ]
    },
    {
      "cell_type": "code",
      "source": [
        "!ls \"/content/drive/MyDrive/Colab Notebooks\"\n"
      ],
      "metadata": {
        "colab": {
          "base_uri": "https://localhost:8080/"
        },
        "id": "s8i1SK0pAwr3",
        "outputId": "1f1cf676-3ee2-48e9-983e-ff64a3fa54fd"
      },
      "execution_count": 51,
      "outputs": [
        {
          "output_type": "stream",
          "name": "stdout",
          "text": [
            "'Another copy of Final-Project'\n",
            "'Copy of Homework 1 Student Version Spring 2025.ipynb'\n",
            "'Copy of HW2_Spring 2025_Student_Version (1).ipynb'\n",
            "'Copy of HW2_Spring 2025_Student_Version.ipynb'\n",
            "'Copy of spring25_hw4_student_version.ipynb'\n",
            "'Copy of spring25_hw5_student_version.ipynb'\n",
            " Final-Project\n",
            " homework0.ipynb\n"
          ]
        }
      ]
    },
    {
      "cell_type": "code",
      "source": [
        "!cp \"/content/drive/MyDrive/Colab Notebooks/Final-Project\" /content/Machine-Learning-Data-Science-Projects/"
      ],
      "metadata": {
        "id": "x_AMvgiIA3NS"
      },
      "execution_count": 53,
      "outputs": []
    },
    {
      "cell_type": "code",
      "source": [
        "%cd /content/Machine-Learning-Data-Science-Projects\n",
        "!git add Final-Project\n"
      ],
      "metadata": {
        "colab": {
          "base_uri": "https://localhost:8080/"
        },
        "id": "-dYbMNwAA9Zj",
        "outputId": "34e176ea-8a48-4367-de0b-76e23b259aac"
      },
      "execution_count": 55,
      "outputs": [
        {
          "output_type": "stream",
          "name": "stdout",
          "text": [
            "/content/Machine-Learning-Data-Science-Projects\n"
          ]
        }
      ]
    },
    {
      "cell_type": "code",
      "source": [
        "!git commit -m \"Add Final Project\"\n",
        "!git push origin main"
      ],
      "metadata": {
        "colab": {
          "base_uri": "https://localhost:8080/"
        },
        "id": "ee_3PLBBBF-Y",
        "outputId": "d0f7a335-e446-4d27-8964-7486c0ce39a3"
      },
      "execution_count": 56,
      "outputs": [
        {
          "output_type": "stream",
          "name": "stdout",
          "text": [
            "[main 473b34c] Add Final Project\n",
            " 1 file changed, 1 insertion(+)\n",
            " create mode 100644 Final-Project\n",
            "Enumerating objects: 4, done.\n",
            "Counting objects: 100% (4/4), done.\n",
            "Delta compression using up to 2 threads\n",
            "Compressing objects: 100% (3/3), done.\n",
            "Writing objects: 100% (3/3), 144.49 KiB | 782.00 KiB/s, done.\n",
            "Total 3 (delta 0), reused 0 (delta 0), pack-reused 0\n",
            "To github.com:MohamedDiakhate/Machine-Learning-Data-Science-Projects.git\n",
            "   c9b8020..473b34c  main -> main\n"
          ]
        }
      ]
    }
  ],
  "metadata": {
    "colab": {
      "provenance": [],
      "authorship_tag": "ABX9TyPOYTw83bpDLsO0g0aKm5+f",
      "include_colab_link": true
    },
    "kernelspec": {
      "display_name": "Python 3",
      "name": "python3"
    },
    "language_info": {
      "name": "python"
    }
  },
  "nbformat": 4,
  "nbformat_minor": 0
}
